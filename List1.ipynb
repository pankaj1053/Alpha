{
 "cells": [
  {
   "cell_type": "code",
   "execution_count": 1,
   "id": "a3b18d80-019f-48b2-aa77-6ff9a9b3e3ec",
   "metadata": {},
   "outputs": [],
   "source": [
    "#Working with python list data structure\n",
    "#A list is container which holds comma seperated values(items and elements) between square brackets[] where item and element need not have same type.\n",
    "#It can have any number of itmes and they may be of different types (int,float,string).\n",
    "#5 characterisitics- mutable,linear DS,Mixed types elements,Variable length,Zero based indexing\n",
    "## Traditional arrays cannot be created in python"
   ]
  },
  {
   "cell_type": "code",
   "execution_count": 2,
   "id": "433b0736-24a9-49e8-b7b6-07e15956dee7",
   "metadata": {},
   "outputs": [
    {
     "name": "stdout",
     "output_type": "stream",
     "text": [
      "[]\n"
     ]
    }
   ],
   "source": [
    "#Type of list\n",
    "#empty list\n",
    "list1=[]\n",
    "print(list1)"
   ]
  },
  {
   "cell_type": "code",
   "execution_count": 6,
   "id": "555d2a27-bc79-4290-9b22-7575c8ecf890",
   "metadata": {},
   "outputs": [
    {
     "name": "stdout",
     "output_type": "stream",
     "text": [
      "[1, 2, 3, 4, 5]\n",
      "[1.1, 2.44, 3.43, 2.33, 9.3]\n",
      "<class 'list'>\n"
     ]
    }
   ],
   "source": [
    "#Number list-int list,float list\n",
    "list1=[1,2,3,4,5]\n",
    "print(list1)\n",
    "list2=[1.1,2.44,3.43,2.33,9.3]\n",
    "print(list2)\n",
    "print(type(list2))\n"
   ]
  },
  {
   "cell_type": "code",
   "execution_count": 7,
   "id": "08c256b5-aa0e-428f-b5dd-f109b82468c0",
   "metadata": {
    "jp-MarkdownHeadingCollapsed": true,
    "tags": []
   },
   "outputs": [
    {
     "name": "stdout",
     "output_type": "stream",
     "text": [
      "['pankaj', 'annu', 'sushma', 'ashok']\n"
     ]
    }
   ],
   "source": [
    "#String list\n",
    "str1=['pankaj','annu','sushma','ashok']\n",
    "print(str1)"
   ]
  },
  {
   "cell_type": "code",
   "execution_count": 9,
   "id": "87f659f6-7f85-41db-9ee0-7581583fad19",
   "metadata": {},
   "outputs": [
    {
     "name": "stdout",
     "output_type": "stream",
     "text": [
      "['pankaj', 12, 3.44, '@']\n"
     ]
    }
   ],
   "source": [
    "#Mixed list\n",
    "list1=['pankaj',12,3.44,'@']\n",
    "print(list1)"
   ]
  },
  {
   "cell_type": "code",
   "execution_count": 10,
   "id": "7d5fa33b-cffd-48ce-b4b4-277a62a7b613",
   "metadata": {},
   "outputs": [
    {
     "name": "stdout",
     "output_type": "stream",
     "text": [
      "[['panakj', 'annu'], 'sushma', 'ashok', [1, 2, 3, 4, 5], 3.3, 4.4]\n"
     ]
    }
   ],
   "source": [
    "#Nested List-List in list\n",
    "list1=[['panakj','annu'],'sushma','ashok',[1,2,3,4,5],3.3,4.4]\n",
    "print(list1)"
   ]
  },
  {
   "cell_type": "code",
   "execution_count": 14,
   "id": "ba42655f-96c7-4e12-9d0e-f60a41714a33",
   "metadata": {},
   "outputs": [
    {
     "name": "stdin",
     "output_type": "stream",
     "text": [
      "Enter List: 4.55,22\n"
     ]
    },
    {
     "name": "stdout",
     "output_type": "stream",
     "text": [
      "(4.55, 22)\n"
     ]
    }
   ],
   "source": [
    "#Dynamic List\n",
    "list1=eval(input(\"Enter List:\"))\n",
    "print(list1)"
   ]
  },
  {
   "cell_type": "code",
   "execution_count": 19,
   "id": "71586653-403d-4309-9bcd-77b833287fab",
   "metadata": {},
   "outputs": [
    {
     "name": "stdout",
     "output_type": "stream",
     "text": [
      "4\n",
      "[1, 2, 34, 4, 'bat', 'ball', 'wicket', 'pitch']\n",
      "[1, 2, 34, 4, 1, 2, 34, 4, 1, 2, 34, 4]\n",
      "True\n",
      "False\n",
      "say hey: pankaj\n",
      "say hey: arvind\n",
      "say hey: ayesha\n",
      "say hey: arnab\n",
      "say hey: ankur\n"
     ]
    }
   ],
   "source": [
    "#Basic List operation\n",
    "#concatenation,repetition,membership,iteration,length\n",
    "list1=[1,2,34,4]\n",
    "list2=['bat','ball','wicket','pitch']\n",
    "print(len(list1))\n",
    "list3=list1+list2\n",
    "print(list3)\n",
    "print(list1*3)\n",
    "print(34 in list1)\n",
    "print(8 in list2)\n",
    "list4=['pankaj','arvind','ayesha','arnab','ankur']\n",
    "for friend in list4:\n",
    "    print(\"say hey:\",friend)"
   ]
  },
  {
   "cell_type": "code",
   "execution_count": 23,
   "id": "755a52b2-4912-48ed-813e-a6b3f1ef1e70",
   "metadata": {},
   "outputs": [
    {
     "name": "stdout",
     "output_type": "stream",
     "text": [
      "Hadoop\n",
      "IOT\n",
      "spark\n",
      "IOT\n",
      "spark\n"
     ]
    }
   ],
   "source": [
    "#Access elements from the list\n",
    "#List index-start from zero(0 to n)or (-(n+1),-1). Nested list are accessed by using nested indexing.\n",
    "#Cannot use float or other type. will throw error.\n",
    "list1=['Big Data','Hadoop','spark','IOT']\n",
    "print(list1[1])\n",
    "print(list1[3])\n",
    "print(list1[2])\n",
    "print(list1[-1])\n",
    "print(list1[-2])"
   ]
  },
  {
   "cell_type": "code",
   "execution_count": 35,
   "id": "ca238569-d300-4300-9bc5-596e1b8707a5",
   "metadata": {},
   "outputs": [
    {
     "name": "stdout",
     "output_type": "stream",
     "text": [
      "annu\n",
      "[33, 44, 55, 66]\n",
      "['aalo', 'laddu']\n",
      "u\n",
      "d\n"
     ]
    }
   ],
   "source": [
    "list1=['pankaj','annu',1,2,3,4,[33,44,55,66],['aalo','laddu']]\n",
    "print(list1[1])\n",
    "print(list1[-2])\n",
    "print(list1[-1])\n",
    "print(list1[1][-1])\n",
    "print(list1[-1][-1][-3])"
   ]
  },
  {
   "cell_type": "code",
   "execution_count": 42,
   "id": "bc04ec7d-2844-4b49-9d96-3a365fcfb507",
   "metadata": {},
   "outputs": [
    {
     "name": "stdout",
     "output_type": "stream",
     "text": [
      "['annu', 1]\n",
      "['annu', 1, 2]\n",
      "['pankaj', 'annu', 1, 2, 3, 4, [33, 44, 55, 66], ['aalo', 'laddu']]\n",
      "['pankaj', 'annu', 1, 2]\n"
     ]
    }
   ],
   "source": [
    "#List slicing\n",
    "#sliced_list=list_name[start index:End index]\n",
    "list1=['pankaj','annu',1,2,3,4,[33,44,55,66],['aalo','laddu']]\n",
    "print(list1[1:3])\n",
    "print(list1[1:-4])\n",
    "print(list1[:])\n",
    "print(list1[:-4])"
   ]
  },
  {
   "cell_type": "code",
   "execution_count": 46,
   "id": "cbe0d4ed-f538-425e-889f-a0292a1b06ac",
   "metadata": {},
   "outputs": [
    {
     "name": "stdout",
     "output_type": "stream",
     "text": [
      "['annu', 1]\n",
      "['annu', 2, 4]\n",
      "['aalo', 55, 33, 3]\n"
     ]
    }
   ],
   "source": [
    "#How to use start, stop and step\n",
    "list1=['pankaj','annu',1,2,3,4,33,44,55,66,'aalo','laddu']\n",
    "print(list1[1:3])\n",
    "print(list1[1:6:2])\n",
    "print(list1[10:2:-2])"
   ]
  },
  {
   "cell_type": "code",
   "execution_count": 47,
   "id": "9257a3b4-8167-4325-bb97-d7cd8523c29e",
   "metadata": {},
   "outputs": [
    {
     "name": "stdout",
     "output_type": "stream",
     "text": [
      "['pankaj', 'annu', 1, 2, 3, 4, 33, 44, 55, 66, 'aalo', 'laddu']\n",
      "[1, 2, 3, 4, 33, 44, 55, 66, 'aalo']\n",
      "[2, 4, 44, 66, 'laddu']\n"
     ]
    }
   ],
   "source": [
    "list1=['pankaj','annu',1,2,3,4,33,44,55,66,'aalo','laddu']\n",
    "list2=list1[2:11:1]\n",
    "print(list1)\n",
    "print(list2)\n",
    "list2=list1[3:12:2]\n",
    "print(list2)"
   ]
  },
  {
   "cell_type": "code",
   "execution_count": 48,
   "id": "6bca7d72-0f9c-45d3-a2bb-e9aa5ce9cc29",
   "metadata": {},
   "outputs": [
    {
     "name": "stdout",
     "output_type": "stream",
     "text": [
      "[8, 5]\n",
      "[3, 5, 7]\n",
      "[3, 4, 5, 6, 7]\n",
      "[1, 2, 3, 4]\n",
      "[10, 9, 8, 7, 6, 5, 4, 3, 2]\n",
      "[4, 5, 6, 7, 8, 9, 10]\n"
     ]
    }
   ],
   "source": [
    "list1=[1,2,3,4,5,6,7,8,9,10]\n",
    "print(list1[7:1:-3])\n",
    "print(list1[2:7:2])\n",
    "print(list1[2:7])\n",
    "print(list1[:4])\n",
    "print(list1[10:0:-1])\n",
    "print(list1[3:])"
   ]
  },
  {
   "cell_type": "code",
   "execution_count": 51,
   "id": "faad58ee-37a6-4661-897c-b3bec41dea60",
   "metadata": {},
   "outputs": [
    {
     "name": "stdout",
     "output_type": "stream",
     "text": [
      "[1, 2, 3, 4, 5, 6, 7, 8, 9, 10]\n",
      "[10, 9, 8, 7, 6, 5, 4, 3, 2, 1]\n",
      "[1, 3, 5, 7, 9]\n",
      "[1, 4, 7, 10]\n",
      "[10, 9, 8, 7, 6, 5, 4, 3, 2, 1]\n",
      "[10, 8, 6, 4, 2]\n",
      "[10, 7, 4, 1]\n",
      "[2, 7]\n",
      "[1, 7]\n",
      "[6]\n",
      "[1, 10]\n"
     ]
    }
   ],
   "source": [
    "#double slice operator\n",
    "list1=[1,2,3,4,5,6,7,8,9,10]\n",
    "print(list1[::1])\n",
    "print(list1[::-1])\n",
    "print(list1[::2])\n",
    "print(list1[::3])\n",
    "print(list1[::-1])\n",
    "print(list1[::-2])\n",
    "print(list1[::-3])\n",
    "print(list1[1::5])\n",
    "print(list1[0::6])\n",
    "print(list1[5::9])\n",
    "print(list1[0::9])"
   ]
  },
  {
   "cell_type": "code",
   "execution_count": 54,
   "id": "538d2860-3be7-42a1-b121-c6526426ba1d",
   "metadata": {},
   "outputs": [
    {
     "name": "stdout",
     "output_type": "stream",
     "text": [
      "string is palindrome\n"
     ]
    }
   ],
   "source": [
    "str1=\"malayalam\"        #Case sensitive\n",
    "if str1==str1[::-1]:\n",
    "    print(\"string is palindrome\")\n",
    "else:\n",
    "    print(\"str is not palindrome\")"
   ]
  },
  {
   "cell_type": "code",
   "execution_count": 59,
   "id": "2cec8c52-fd6b-4c3d-bf3d-ac57ca3673f5",
   "metadata": {},
   "outputs": [
    {
     "name": "stdout",
     "output_type": "stream",
     "text": [
      "['pankaj', 'annu', 1, 2, 3, 4, 33, 44, 55, 66, 'aalo', 'laddu', 'raju chacha']\n"
     ]
    }
   ],
   "source": [
    "#Python list methods\n",
    "#append(),insert(),pop(),index(),sort(),copy(),reverse(),extend(),clear(),count(),reverse()\n",
    "list1=['pankaj','annu',1,2,3,4,33,44,55,66,'aalo','laddu']\n",
    "list1.append('raju chacha')\n",
    "print(list1)"
   ]
  },
  {
   "cell_type": "code",
   "execution_count": 62,
   "id": "46d573d7-412c-4011-89b5-135f97b4f9f3",
   "metadata": {},
   "outputs": [
    {
     "name": "stdout",
     "output_type": "stream",
     "text": [
      "['pankaj', 'annu', 1, 2, 3, 4, 33, 44, 55, 66, 'aalo', 'laddu']\n",
      "Ram bharose\n",
      "['Ram bharose', 'annu', 1, 2, 3, 4, 33, 44, 55, 66, 'aalo', 'laddu']\n"
     ]
    }
   ],
   "source": [
    "#We can modify an element by using the index of the element\n",
    "list1=['pankaj','annu',1,2,3,4,33,44,55,66,'aalo','laddu']\n",
    "print(list1)\n",
    "list1[0]='Ram bharose'\n",
    "print(list1[0])\n",
    "print(list1)"
   ]
  },
  {
   "cell_type": "code",
   "execution_count": 66,
   "id": "cc818b78-9c67-4194-8941-5f9fe2e87d5a",
   "metadata": {},
   "outputs": [
    {
     "name": "stdout",
     "output_type": "stream",
     "text": [
      "['BigData']\n",
      "['BigData', 'ml']\n",
      "['BigData', 'ml', {'AI'}]\n",
      "['BigData', 'ml', {'AI'}, {1: 'Python'}]\n"
     ]
    }
   ],
   "source": [
    "list1=['BigData']\n",
    "print(list1)\n",
    "list1.append('ml')\n",
    "print(list1)\n",
    "list1.append({'AI'})\n",
    "print(list1)\n",
    "list1.append({1:'Python'})\n",
    "print(list1)"
   ]
  },
  {
   "cell_type": "code",
   "execution_count": 3,
   "id": "3c1f8e68-d5f1-41c2-b201-808e1a2952a4",
   "metadata": {},
   "outputs": [
    {
     "name": "stdout",
     "output_type": "stream",
     "text": [
      "['pankaj', 'annu', 'ayesha', 'arvind', 'Bombay', 'Patna', 'Allahbaad', 'Indore']\n"
     ]
    }
   ],
   "source": [
    "#extend()-Add all element of list to another list.\n",
    "#list.extend(iterable)\n",
    "list1=['pankaj','annu','ayesha','arvind']\n",
    "list1.extend(['Bombay','Patna','Allahbaad','Indore'])\n",
    "print(list1)"
   ]
  },
  {
   "cell_type": "code",
   "execution_count": 5,
   "id": "08c71a55-abbf-4a31-a103-9fb4394ddb0a",
   "metadata": {},
   "outputs": [
    {
     "name": "stdout",
     "output_type": "stream",
     "text": [
      "['chicken', 'mutton', 'fish', 'shirmp', 'patna', 'sultanpur', 'barh', 'bkp']\n"
     ]
    }
   ],
   "source": [
    "#Appending two list\n",
    "list1=['chicken','mutton','fish','shirmp']\n",
    "list2=['patna','sultanpur','barh','bkp']\n",
    "list1.extend(list2)\n",
    "print(list1)"
   ]
  },
  {
   "cell_type": "code",
   "execution_count": 9,
   "id": "7794c309-9b14-46bb-a940-63bfc8e36c20",
   "metadata": {},
   "outputs": [
    {
     "name": "stdout",
     "output_type": "stream",
     "text": [
      "updated list: [1, 2, 3, 4, 5, 'pankaj']\n"
     ]
    }
   ],
   "source": [
    "#Python list insert-It insert the elements to the list at given index.\n",
    "#list.insert(index,element)\n",
    "list1=[1,2,3,4,5]\n",
    "list1.insert(5,'pankaj')\n",
    "print('updated list:',list1)"
   ]
  },
  {
   "cell_type": "code",
   "execution_count": 13,
   "id": "f0e2dfd3-60d2-4409-a178-078c9a9fa909",
   "metadata": {},
   "outputs": [
    {
     "name": "stdout",
     "output_type": "stream",
     "text": [
      "updated list: [1, 2, 3, 4, 5, 6, 'pankaj', 'agrahari']\n"
     ]
    }
   ],
   "source": [
    "#remove()-remove an item from the list\n",
    "#list.remove(item)\n",
    "list1=[1,2,3,4,5,6,'pankaj','kumar','agrahari']\n",
    "list1.remove(list1[7])\n",
    "print('updated list:',list1)"
   ]
  },
  {
   "cell_type": "code",
   "execution_count": 14,
   "id": "18f1348a-8606-4988-b71a-090927c78281",
   "metadata": {},
   "outputs": [
    {
     "name": "stdout",
     "output_type": "stream",
     "text": [
      "[]\n"
     ]
    }
   ],
   "source": [
    "#clear()-removes all items from list\n",
    "#list.clear()\n",
    "list1=[1,2,3,4,5,'patna','Indore']\n",
    "list1.clear()\n",
    "print(list1)"
   ]
  },
  {
   "cell_type": "code",
   "execution_count": null,
   "id": "16bd641d-1898-4113-837d-022189cc4114",
   "metadata": {},
   "outputs": [],
   "source": []
  },
  {
   "cell_type": "code",
   "execution_count": null,
   "id": "6732cdeb-50a9-43b6-81f3-92a177ad82fb",
   "metadata": {},
   "outputs": [],
   "source": []
  }
 ],
 "metadata": {
  "kernelspec": {
   "display_name": "Python 3 (ipykernel)",
   "language": "python",
   "name": "python3"
  },
  "language_info": {
   "codemirror_mode": {
    "name": "ipython",
    "version": 3
   },
   "file_extension": ".py",
   "mimetype": "text/x-python",
   "name": "python",
   "nbconvert_exporter": "python",
   "pygments_lexer": "ipython3",
   "version": "3.9.7"
  }
 },
 "nbformat": 4,
 "nbformat_minor": 5
}
