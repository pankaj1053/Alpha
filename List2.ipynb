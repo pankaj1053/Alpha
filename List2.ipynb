{
 "cells": [
  {
   "cell_type": "code",
   "execution_count": 3,
   "id": "59d23167-c6c5-4bb0-b15a-b83c63b8a74f",
   "metadata": {},
   "outputs": [
    {
     "name": "stdout",
     "output_type": "stream",
     "text": [
      "[1, 2, 3, 3, 4, 5, 6, 7, 8, 9, 10]\n",
      "4\n",
      "3\n",
      "4\n"
     ]
    }
   ],
   "source": [
    "#index()-returns index in the list of first item whose value is x\n",
    "#list.index(item[,start][,end])\n",
    "list1=[1,2,3,3,4,5,6,7,8,9,10]\n",
    "print(list1)\n",
    "print(list1.index(4))\n",
    "print(list1.index(3,3))\n",
    "print(list1.index(4,4,10))"
   ]
  },
  {
   "cell_type": "code",
   "execution_count": 4,
   "id": "091c8352-280e-413c-b349-8b6fc86ec193",
   "metadata": {},
   "outputs": [
    {
     "name": "stdout",
     "output_type": "stream",
     "text": [
      "[1, 2, 3, 1, 4, 5, 2, 5, 6, 1, 4]\n",
      "1\n",
      "6\n",
      "3\n",
      "4\n"
     ]
    }
   ],
   "source": [
    "list1=[1,2,3,1,4,5,2,5,6,1,4]\n",
    "print(list1)\n",
    "print(list1.index(2))\n",
    "print(list1.index(2,2))\n",
    "print(list1.index(1,2,7))\n",
    "print(list1.index(4,3,9))"
   ]
  },
  {
   "cell_type": "code",
   "execution_count": 5,
   "id": "c18ac0e8-14eb-4da7-a4d8-dcfb60d9b2a7",
   "metadata": {},
   "outputs": [
    {
     "name": "stdout",
     "output_type": "stream",
     "text": [
      "['H', 'E', 'L', 'L', 'O', ' ', 'W', 'O', 'R', 'L', 'D']\n",
      "2\n",
      "9\n"
     ]
    }
   ],
   "source": [
    "listy=list('HELLO WORLD')\n",
    "print(listy)\n",
    "index=listy.index('L')\n",
    "print(index)\n",
    "index=listy.index('L',4)\n",
    "print(index)"
   ]
  },
  {
   "cell_type": "code",
   "execution_count": 6,
   "id": "fa51e9b3-bba1-45d2-9aed-bb5979a750ff",
   "metadata": {},
   "outputs": [
    {
     "name": "stdout",
     "output_type": "stream",
     "text": [
      "1\n"
     ]
    }
   ],
   "source": [
    "#count()-returns the count of number of item passed as an arguemnet\n",
    "#list.count(item)\n",
    "list1=['pankaj','neeraj','suraj','dhiraj']\n",
    "print(list1.count('dhiraj'))"
   ]
  },
  {
   "cell_type": "code",
   "execution_count": 9,
   "id": "58bf5a24-9e4b-4d07-bc17-9003b1f0186d",
   "metadata": {},
   "outputs": [
    {
     "name": "stdout",
     "output_type": "stream",
     "text": [
      "['gaurav', 'manoj', 'neeraj', 'pankaj', 'suraj', 'uday']\n",
      "['uday', 'suraj', 'pankaj', 'neeraj', 'manoj', 'gaurav']\n"
     ]
    }
   ],
   "source": [
    "#sort()-sort the items of the list in place.\n",
    "#list.sort(reverse=true|false,key=my func)\n",
    "#reverse optional, reverse =true will sort the list descending. Default is reverse=False\n",
    "#key optional.\n",
    "#sort() doesn't support mixed data type.\n",
    "list1=['pankaj','manoj','suraj','neeraj','uday','gaurav']\n",
    "list1.sort()\n",
    "print(list1)\n",
    "list1.sort(reverse=True)\n",
    "print(list1)"
   ]
  },
  {
   "cell_type": "code",
   "execution_count": 10,
   "id": "81d67a8e-12ec-4b24-beeb-02cd75b1d4de",
   "metadata": {},
   "outputs": [
    {
     "name": "stdout",
     "output_type": "stream",
     "text": [
      "['gaurav', 'uday', 'neeraj', 'suraj', 'manoj', 'pankaj']\n"
     ]
    }
   ],
   "source": [
    "#revese()-reverse the item of the list\n",
    "list1=['pankaj','manoj','suraj','neeraj','uday','gaurav']\n",
    "list1.reverse()\n",
    "print(list1)"
   ]
  },
  {
   "cell_type": "code",
   "execution_count": 11,
   "id": "1b63716a-4ec8-4980-907c-ae8c8465f87f",
   "metadata": {},
   "outputs": [
    {
     "name": "stdout",
     "output_type": "stream",
     "text": [
      "['pankaj', 'manoj', 'suraj', 'neeraj', 'uday', 'gaurav', 444]\n",
      "['pankaj', 'manoj', 'suraj', 'neeraj', 'uday', 'gaurav', 444]\n",
      "['pankaj', 'manoj', 'suraj', 'neeraj', 'uday', 'gaurav', 444, 666]\n"
     ]
    }
   ],
   "source": [
    "#copy()-returns a shalllow copy of the list\n",
    "#list.copy()\n",
    "list1=['pankaj','manoj','suraj','neeraj','uday','gaurav']\n",
    "list1.append(444)\n",
    "print(list1)\n",
    "list2=list1.copy()\n",
    "print(list2)\n",
    "list2.append(666)\n",
    "print(list2)"
   ]
  },
  {
   "cell_type": "code",
   "execution_count": 3,
   "id": "ed245990-331c-4d34-9290-343641427927",
   "metadata": {},
   "outputs": [
    {
     "name": "stdout",
     "output_type": "stream",
     "text": [
      "['pankaj', 'manoj', 'suraj', 'neeraj', 'uday']\n",
      "['pankaj', 'manoj', 'suraj', 'neeraj', 'uday', 'kamal']\n",
      "['pankaj', 'manoj', 'suraj', 'neeraj', 'uday']\n"
     ]
    }
   ],
   "source": [
    "#using list as a stack-last in first out-stack is a container\n",
    "#pop()-use to remove element from right to left\n",
    "#list.pop()\n",
    "list1=['pankaj','manoj','suraj','neeraj','uday','gaurav']\n",
    "list1.pop()\n",
    "print(list1)\n",
    "list1.append('kamal')\n",
    "print(list1)\n",
    "list1.pop()\n",
    "print(list1)"
   ]
  },
  {
   "cell_type": "code",
   "execution_count": 4,
   "id": "9903ad75-4a8b-4da6-832f-3695d135249d",
   "metadata": {},
   "outputs": [],
   "source": [
    "#difference btw remove() and pop()\n",
    "#diff-we can use to remove() specific element,never return any value,if element not exist then return error\n",
    "#pop-remove last element from the list,will retrun removed element,if no item in the list then error"
   ]
  },
  {
   "cell_type": "code",
   "execution_count": 12,
   "id": "3341e274-9a6f-4d40-a954-3337016fca49",
   "metadata": {},
   "outputs": [
    {
     "name": "stdout",
     "output_type": "stream",
     "text": [
      "deque(['pankaj', 'manoj', 'suraj', 'neeraj', 'uday', 'gaurav', 'jalaj'])\n",
      "deque(['manoj', 'suraj', 'neeraj', 'uday', 'gaurav', 'jalaj'])\n",
      "deque(['suraj', 'neeraj', 'uday', 'gaurav', 'jalaj'])\n"
     ]
    }
   ],
   "source": [
    "#using list as a queue-first in first out\n",
    "#deque-also known as double ended queue,ordered collection of itmes similar to queue.It can assume many characteristic of stack and queue,not required lifo or fifo.\n",
    "from collections import deque\n",
    "list1=deque(['pankaj','manoj','suraj','neeraj','uday','gaurav'])\n",
    "list1.append('jalaj')\n",
    "print(list1)\n",
    "list1.popleft()\n",
    "print(list1)\n",
    "list1.popleft()\n",
    "print(list1)"
   ]
  },
  {
   "cell_type": "code",
   "execution_count": 13,
   "id": "7fa981a7-4e3e-455e-b838-9f6b92687623",
   "metadata": {},
   "outputs": [
    {
     "name": "stdout",
     "output_type": "stream",
     "text": [
      "<class 'list'>\n",
      "('pankaj', 'manoj', 'suraj', 'neeraj', 'uday', 'gaurav')\n"
     ]
    }
   ],
   "source": [
    "#convert a list to a tuple in python\n",
    "list1=['pankaj','manoj','suraj','neeraj','uday','gaurav']\n",
    "print(type(list1))\n",
    "tup=tuple(list1)\n",
    "print(tup)"
   ]
  },
  {
   "cell_type": "code",
   "execution_count": 14,
   "id": "b05b06d7-ee47-4261-b8af-08e1f5bfdfe7",
   "metadata": {},
   "outputs": [
    {
     "name": "stdout",
     "output_type": "stream",
     "text": [
      "False\n",
      "False\n"
     ]
    }
   ],
   "source": [
    "#compare two list in python\n",
    "list1=['pankaj','manoj','suraj','neeraj','uday','gaurav']\n",
    "list2=['annu','sushma','ayesha','chikki','shivi']\n",
    "print(list1==list2)\n",
    "list1.sort()\n",
    "list2.sort()\n",
    "print(list1==list2)"
   ]
  },
  {
   "cell_type": "code",
   "execution_count": 18,
   "id": "bcb9a8a8-5a00-4ca0-ad6c-677b6cb6f965",
   "metadata": {},
   "outputs": [
    {
     "name": "stdout",
     "output_type": "stream",
     "text": [
      "[1]\n",
      "[1, 3]\n",
      "[1, 3, 5]\n",
      "[1, 3, 5, 7]\n",
      "[1, 3, 5, 7, 9]\n"
     ]
    }
   ],
   "source": [
    "list3=[]\n",
    "for i in range(10):\n",
    "    if i%2==1:\n",
    "        list3.append(i)\n",
    "        print(list3)"
   ]
  },
  {
   "cell_type": "code",
   "execution_count": 21,
   "id": "fb9fa828-0568-4764-86cc-71e1e75f7d44",
   "metadata": {},
   "outputs": [
    {
     "name": "stdout",
     "output_type": "stream",
     "text": [
      "True\n"
     ]
    }
   ],
   "source": [
    "#list built in function\n",
    "#all(),len(),min(),any(),list(),sum(),enumerate(),max(),sorted()\n",
    "s=[1,3,5,7]\n",
    "print(all(s))"
   ]
  },
  {
   "cell_type": "code",
   "execution_count": 28,
   "id": "62242679-562e-4523-b7ea-65e8a6ac37db",
   "metadata": {},
   "outputs": [
    {
     "name": "stdout",
     "output_type": "stream",
     "text": [
      "True\n"
     ]
    }
   ],
   "source": [
    "s=[]\n",
    "print(all(s))"
   ]
  },
  {
   "cell_type": "code",
   "execution_count": 29,
   "id": "3c4636c6-058a-474e-9c70-2f79ba17e709",
   "metadata": {},
   "outputs": [
    {
     "name": "stdout",
     "output_type": "stream",
     "text": [
      "True\n"
     ]
    }
   ],
   "source": [
    "s=[0,1,2,3,False]\n",
    "print(any(s))"
   ]
  },
  {
   "cell_type": "code",
   "execution_count": 30,
   "id": "cafec49c-d06f-4ff8-b5ff-68ddb13966af",
   "metadata": {},
   "outputs": [
    {
     "name": "stdout",
     "output_type": "stream",
     "text": [
      "False\n"
     ]
    }
   ],
   "source": [
    "s=[]\n",
    "print(any(s))"
   ]
  },
  {
   "cell_type": "code",
   "execution_count": 31,
   "id": "f3ea2283-3b93-4439-aead-5a24f56b28c4",
   "metadata": {},
   "outputs": [
    {
     "name": "stdout",
     "output_type": "stream",
     "text": [
      "<class 'enumerate'>\n",
      "[(0, 'pankaj'), (1, 'manoj'), (2, 'suraj'), (3, 'neeraj'), (4, 'uday'), (5, 'gaurav')]\n"
     ]
    }
   ],
   "source": [
    "#enumerate()-add counter to an iterable and returns it(the enumerate object)\n",
    "#enumerate(iterable,start=0)\n",
    "#Iterable- A sequence, an iterator or objects that supports iteration.\n",
    "list1=['pankaj','manoj','suraj','neeraj','uday','gaurav']\n",
    "eData=enumerate(list1)\n",
    "print(type(eData))\n",
    "print(list(eData))"
   ]
  },
  {
   "cell_type": "code",
   "execution_count": 32,
   "id": "f3da7caa-f36c-4959-80ee-3e37830d7263",
   "metadata": {},
   "outputs": [
    {
     "name": "stdout",
     "output_type": "stream",
     "text": [
      "(0, 'pankaj')\n",
      "(1, 'manoj')\n",
      "(2, 'suraj')\n",
      "(3, 'neeraj')\n",
      "(4, 'uday')\n",
      "(5, 'gaurav')\n"
     ]
    }
   ],
   "source": [
    "#Looping over an enumerate object\n",
    "list1=['pankaj','manoj','suraj','neeraj','uday','gaurav']\n",
    "for item in enumerate(list1):\n",
    "    print(item)"
   ]
  },
  {
   "cell_type": "code",
   "execution_count": 33,
   "id": "643eaad7-92b8-4c7c-abb9-58d7627c6193",
   "metadata": {},
   "outputs": [
    {
     "name": "stdout",
     "output_type": "stream",
     "text": [
      "100 pankaj\n",
      "101 manoj\n",
      "102 suraj\n",
      "103 neeraj\n",
      "104 uday\n",
      "105 gaurav\n"
     ]
    }
   ],
   "source": [
    "list1=['pankaj','manoj','suraj','neeraj','uday','gaurav']\n",
    "for item,count in enumerate(list1,100):\n",
    "    print(item,count)"
   ]
  },
  {
   "cell_type": "code",
   "execution_count": 34,
   "id": "d8b6a93d-88a0-4ae4-bac3-b3f43369188b",
   "metadata": {},
   "outputs": [
    {
     "name": "stdout",
     "output_type": "stream",
     "text": [
      "[(0, 'pankaj'), (1, 'manoj'), (2, 'suraj'), (3, 'neeraj'), (4, 'uday'), (5, 'gaurav')]\n"
     ]
    }
   ],
   "source": [
    "list1=['pankaj','manoj','suraj','neeraj','uday','gaurav']\n",
    "print(list(enumerate(list1)))"
   ]
  },
  {
   "cell_type": "code",
   "execution_count": 35,
   "id": "1b83e339-2ffe-4db2-b2c3-07d4f194f96d",
   "metadata": {},
   "outputs": [
    {
     "name": "stdout",
     "output_type": "stream",
     "text": [
      "0:pankaj\n",
      "1:manoj\n",
      "2:suraj\n",
      "3:neeraj\n",
      "4:uday\n",
      "5:gaurav\n"
     ]
    }
   ],
   "source": [
    "list1=['pankaj','manoj','suraj','neeraj','uday','gaurav']\n",
    "for index,value in enumerate(list1):\n",
    "    print(f'{index}:{value}')"
   ]
  },
  {
   "cell_type": "code",
   "execution_count": 36,
   "id": "50fe223b-a862-4653-9ecf-777de51e617a",
   "metadata": {},
   "outputs": [
    {
     "name": "stdout",
     "output_type": "stream",
     "text": [
      "6\n"
     ]
    }
   ],
   "source": [
    "#len()\n",
    "list1=['pankaj','manoj','suraj','neeraj','uday','gaurav']\n",
    "print(len(list1))"
   ]
  },
  {
   "cell_type": "code",
   "execution_count": 38,
   "id": "86c963b8-48e9-465e-91a2-623d987a83b2",
   "metadata": {},
   "outputs": [
    {
     "name": "stdout",
     "output_type": "stream",
     "text": [
      "4\n",
      "a\n"
     ]
    }
   ],
   "source": [
    "#max(),min()-use to dispaly maximum and minimum character based on ascii\n",
    "print(max(1,2,3,4))\n",
    "print(min('a','b','c','d','e'))"
   ]
  },
  {
   "cell_type": "code",
   "execution_count": 39,
   "id": "cc5da5a4-b5af-4302-ac0e-1436fd137ffb",
   "metadata": {},
   "outputs": [
    {
     "name": "stdout",
     "output_type": "stream",
     "text": [
      "15\n"
     ]
    }
   ],
   "source": [
    "#sumn()-use to display sum of values in the list\n",
    "list1=[1,2,3,4,5]\n",
    "print(sum(list1))"
   ]
  },
  {
   "cell_type": "code",
   "execution_count": 40,
   "id": "7bba4aa6-9c3c-4df1-933d-93306b698e8f",
   "metadata": {},
   "outputs": [
    {
     "ename": "TypeError",
     "evalue": "unsupported operand type(s) for +: 'int' and 'str'",
     "output_type": "error",
     "traceback": [
      "\u001b[1;31m---------------------------------------------------------------------------\u001b[0m",
      "\u001b[1;31mTypeError\u001b[0m                                 Traceback (most recent call last)",
      "\u001b[1;32m~\\AppData\\Local\\Temp/ipykernel_2660/1803025519.py\u001b[0m in \u001b[0;36m<module>\u001b[1;34m\u001b[0m\n\u001b[0;32m      1\u001b[0m \u001b[0mlist1\u001b[0m\u001b[1;33m=\u001b[0m\u001b[1;33m[\u001b[0m\u001b[1;34m'pankaj'\u001b[0m\u001b[1;33m,\u001b[0m\u001b[1;34m'manoj'\u001b[0m\u001b[1;33m,\u001b[0m\u001b[1;34m'suraj'\u001b[0m\u001b[1;33m,\u001b[0m\u001b[1;34m'neeraj'\u001b[0m\u001b[1;33m,\u001b[0m\u001b[1;34m'uday'\u001b[0m\u001b[1;33m,\u001b[0m\u001b[1;34m'gaurav'\u001b[0m\u001b[1;33m]\u001b[0m\u001b[1;33m\u001b[0m\u001b[1;33m\u001b[0m\u001b[0m\n\u001b[1;32m----> 2\u001b[1;33m \u001b[0mprint\u001b[0m\u001b[1;33m(\u001b[0m\u001b[0msum\u001b[0m\u001b[1;33m(\u001b[0m\u001b[0mlist1\u001b[0m\u001b[1;33m)\u001b[0m\u001b[1;33m)\u001b[0m\u001b[1;33m\u001b[0m\u001b[1;33m\u001b[0m\u001b[0m\n\u001b[0m",
      "\u001b[1;31mTypeError\u001b[0m: unsupported operand type(s) for +: 'int' and 'str'"
     ]
    }
   ],
   "source": [
    "list1=['pankaj','manoj','suraj','neeraj','uday','gaurav']\n",
    "print(sum(list1))"
   ]
  },
  {
   "cell_type": "code",
   "execution_count": 44,
   "id": "e79ba8f8-acb7-4196-b13f-4db712247c07",
   "metadata": {},
   "outputs": [
    {
     "name": "stdout",
     "output_type": "stream",
     "text": [
      "['a', 'b', 'c', 'd', 'e', 'f', 'g', 'h']\n",
      "['w', 'v', 'r', 'h', 'e', 'd', 'c']\n"
     ]
    }
   ],
   "source": [
    "#sorted(iterable,key=key,reverse-reverse)\n",
    "#Iterable required.The sequece to sort list,dict,tup etc.\n",
    "#key optional-a function to execute to decide the order. Default is none.\n",
    "#reverse optional-A boolean. False will sorting ascending and true will descending. Default is fault.\n",
    "a=['a','b','c','d','e','f','g','h']\n",
    "x=sorted(a)\n",
    "print(x)\n",
    "a=('d','e','v','c','w','r','h')\n",
    "x=sorted(a,reverse=True)\n",
    "print(x)"
   ]
  },
  {
   "cell_type": "code",
   "execution_count": 51,
   "id": "92d11de2-6b0b-4c40-a997-b72979ee3ff7",
   "metadata": {},
   "outputs": [
    {
     "name": "stdout",
     "output_type": "stream",
     "text": [
      "['ddd', 'rrr', 'kkk', 'jjjj']\n",
      "[('ddd', 'ggggg'), ('jjjj', 'yyy'), ('kkk', 'oo'), ('rrr', 'tt')]\n",
      "['ddd', 'jjjj', 'kkk', 'rrr']\n",
      "['ggggg', 'oo', 'tt', 'yyy']\n"
     ]
    }
   ],
   "source": [
    "a={'ddd':'ggggg','rrr':'tt','jjjj':'yyy','kkk':'oo'}\n",
    "x=sorted(a,key=len)\n",
    "print(x)\n",
    "print(sorted(a.items()))\n",
    "print(sorted(a.keys()))\n",
    "print(sorted(a.values()))"
   ]
  },
  {
   "cell_type": "code",
   "execution_count": 55,
   "id": "340be6d5-442f-42f8-95ae-c0c672120e53",
   "metadata": {},
   "outputs": [
    {
     "name": "stdout",
     "output_type": "stream",
     "text": [
      "[1, 1]\n",
      "[[1, 1], [1, 1], [1, 1], [1, 1], [1, 1]]\n",
      "[[2, 0, 2, 0], [2, 0, 2, 0], [2, 0, 2, 0]]\n"
     ]
    }
   ],
   "source": [
    "#List of lists\n",
    "A=[1]*2\n",
    "print(A)\n",
    "B=[[1]*2]*5\n",
    "print(B)\n",
    "C=[[2,0]*2]*3\n",
    "print(C)"
   ]
  },
  {
   "cell_type": "code",
   "execution_count": 57,
   "id": "4da34bc2-eb4d-43b0-875f-bcf7fbe64b2f",
   "metadata": {},
   "outputs": [
    {
     "name": "stdout",
     "output_type": "stream",
     "text": [
      "[5, 5, 5, 5]\n"
     ]
    }
   ],
   "source": [
    "Fives=[5]*4\n",
    "print(Fives)"
   ]
  },
  {
   "cell_type": "code",
   "execution_count": 6,
   "id": "de748d4e-00dc-4d40-a8e8-cc336b0b08c1",
   "metadata": {},
   "outputs": [
    {
     "name": "stdout",
     "output_type": "stream",
     "text": [
      "1\n",
      "2\n",
      "3\n",
      "[4, [5]]\n",
      "4\n",
      "[5]\n",
      "5\n",
      "5\n",
      "[3, [4, [5]]]\n"
     ]
    }
   ],
   "source": [
    "list1=[1,[2,[3,[4,[5]]]]]\n",
    "print(list1[0])\n",
    "print(list1[1][0])\n",
    "print(list1[1][1][0])\n",
    "print(list1[1][1][1])\n",
    "print(list1[1][1][1][0])\n",
    "print(list1[1][1][1][1])\n",
    "print(list1[1][1][1][1][0])\n",
    "print(list1[1][1][1][1][-1])\n",
    "print(list1[-1][-1])"
   ]
  },
  {
   "cell_type": "code",
   "execution_count": 7,
   "id": "32746321-ffea-4064-a59f-1bdaa17d5204",
   "metadata": {},
   "outputs": [
    {
     "name": "stdout",
     "output_type": "stream",
     "text": [
      "[9, 16, 25]\n"
     ]
    }
   ],
   "source": [
    "#List comprehension- In this method, we define the process through which  the list needs to be created. We spacify that what operation needs to be done and on what elements it needs to be done.\n",
    "#[expression for item in iterable]\n",
    "result=[x**2 for x in [3,4,5]]\n",
    "print(result)"
   ]
  },
  {
   "cell_type": "code",
   "execution_count": 8,
   "id": "287de526-469e-47b7-a83b-821362248487",
   "metadata": {},
   "outputs": [
    {
     "name": "stdout",
     "output_type": "stream",
     "text": [
      "[1, 2, 3, 4]\n",
      "[2, 4, 6, 8]\n",
      "[1, 4, 9, 16]\n",
      "[4, 16]\n",
      "[1, 9]\n"
     ]
    }
   ],
   "source": [
    "print([x*1 for x in [1,2,3,4]])\n",
    "print([x*2 for x in [1,2,3,4]])\n",
    "print([x**2 for x in [1,2,3,4]])\n",
    "print([x**2 for x in [1,2,3,4] if x%2==0])\n",
    "print([x**2 for x in [1,2,3,4] if x%2!=0])"
   ]
  },
  {
   "cell_type": "code",
   "execution_count": 11,
   "id": "18605224-fed0-40a0-b8c5-fa758dc318f4",
   "metadata": {},
   "outputs": [
    {
     "name": "stdout",
     "output_type": "stream",
     "text": [
      "[2, 3, 4, 4, 5]\n",
      "[4, 5, 6, 4, 5, 6]\n",
      "[1, 2, 6, 7, 8, 9, 10]\n"
     ]
    }
   ],
   "source": [
    "#[expression if conditional else stmt for item in iterable]\n",
    "print([x if x>3 else x+1 for x in [1,2,3,4,5]])\n",
    "print([x if x>3 else x+3 for x in [1,2,3,4,5,6]])\n",
    "print([x if x<3 else x+3 for x in [1,2,3,4,5,6,7]])"
   ]
  },
  {
   "cell_type": "code",
   "execution_count": 12,
   "id": "4373ce79-c00f-45ab-8f75-9cda2af37568",
   "metadata": {},
   "outputs": [
    {
     "name": "stdout",
     "output_type": "stream",
     "text": [
      "[10, 20, 30, 40]\n"
     ]
    }
   ],
   "source": [
    "num=[1,2,3,4]\n",
    "result=[x*10 for x in num]\n",
    "print(result)"
   ]
  },
  {
   "cell_type": "code",
   "execution_count": 13,
   "id": "0eb88ebc-217c-4a5d-983a-3d29fc12a920",
   "metadata": {},
   "outputs": [
    {
     "name": "stdout",
     "output_type": "stream",
     "text": [
      "['1', '2', '3', '4', '5']\n",
      "['h', 'e', 'l', 'l', 'o']\n"
     ]
    }
   ],
   "source": [
    "print([x for x in 'hello12345' if x.isdigit()])\n",
    "print([x for x in 'hello12345' if x.isalpha()])"
   ]
  },
  {
   "cell_type": "code",
   "execution_count": 19,
   "id": "95e2112a-c9d1-4b88-8766-42a597ef7f7d",
   "metadata": {},
   "outputs": [
    {
     "name": "stdout",
     "output_type": "stream",
     "text": [
      "['HELLO', 'PYTHON', 'BEST']\n"
     ]
    }
   ],
   "source": [
    "list1=['hello','python','best']\n",
    "result=[x.upper() for x in list1]\n",
    "print(result)"
   ]
  },
  {
   "cell_type": "code",
   "execution_count": 20,
   "id": "df31102e-2ebb-4c42-b3e5-54e535db3370",
   "metadata": {},
   "outputs": [
    {
     "name": "stdout",
     "output_type": "stream",
     "text": [
      "['p', 'a', 's', 'a']\n"
     ]
    }
   ],
   "source": [
    "list1=['pankaj','annu','sushma','ashok']\n",
    "result=[item[0] for item in list1]\n",
    "print(result)"
   ]
  },
  {
   "cell_type": "code",
   "execution_count": 21,
   "id": "7cbeee4b-a8e6-4399-bd0c-b28e05b646c2",
   "metadata": {},
   "outputs": [
    {
     "name": "stdout",
     "output_type": "stream",
     "text": [
      "[3, 4, 4, 5, 5, 6, 6, 7, 7, 8]\n"
     ]
    }
   ],
   "source": [
    "a=[1,2,3,4,5]\n",
    "b=[2,3]\n",
    "print([x+y for x in a for y in b])"
   ]
  },
  {
   "cell_type": "code",
   "execution_count": 23,
   "id": "ebe03d05-f7a8-40a0-8c1c-b6e16507bd97",
   "metadata": {},
   "outputs": [
    {
     "name": "stdout",
     "output_type": "stream",
     "text": [
      "[1, 2, 3, 4, 5, 6]\n",
      "[1, 2, 3, 4, 5, 6]\n",
      "['pankaj', 2, 3, 4, 5, 6]\n",
      "['pankaj', 2, 3, 4, 5, 6]\n"
     ]
    }
   ],
   "source": [
    "#Diff between hardcopy,shallowcopy and deepcopy in python (copy or clone)\n",
    "# HARD COPY AN OBJECT IN PYHTON-IN PYHTON, WE USE = OPERTAOR TO CREATE A COPY OF AN OBJECT.YOU MAY THINK THAT THIS CREATES A NEW OBJECT BUT IT DOESN'T.IT ONLY CREATE A NEW VARIABLE THAT SHARES THE REFERECE FO THE ORIGINAL OBJECT.\n",
    "list1=[1,2,3,4,5,6]\n",
    "print(list1)\n",
    "list2=list1\n",
    "print(list2)\n",
    "list1[0]=\"pankaj\"\n",
    "print(list1)\n",
    "print(list2)"
   ]
  },
  {
   "cell_type": "code",
   "execution_count": 24,
   "id": "2c4aaaf2-f8ae-4eb9-a3ad-b65e0df3638b",
   "metadata": {},
   "outputs": [
    {
     "name": "stdout",
     "output_type": "stream",
     "text": [
      "['Error', '__all__', '__builtins__', '__cached__', '__doc__', '__file__', '__loader__', '__name__', '__package__', '__spec__', '_copy_dispatch', '_copy_immutable', '_deepcopy_atomic', '_deepcopy_dict', '_deepcopy_dispatch', '_deepcopy_list', '_deepcopy_method', '_deepcopy_tuple', '_keep_alive', '_reconstruct', 'copy', 'deepcopy', 'dispatch_table', 'error']\n"
     ]
    }
   ],
   "source": [
    "#In python, there are two ways to create copies-1.shallow copy or copy,2.Deep copy\n",
    "#Copy module-We use the copy module of python for shallow copy and deep copy operation.Suppose you need to copy the compound list say x.\n",
    "import copy\n",
    "print(dir(copy))"
   ]
  },
  {
   "cell_type": "code",
   "execution_count": 26,
   "id": "e0b3e49a-9556-4034-91cc-598c6bfa7762",
   "metadata": {},
   "outputs": [
    {
     "name": "stdout",
     "output_type": "stream",
     "text": [
      "[1, 2, 3, 4, 5, 6]\n",
      "['pyhton', 2, 3, 4, 5, 6]\n",
      "[1, 2, 3, 4, 5, 6]\n"
     ]
    }
   ],
   "source": [
    "#SHALLOW COPY- A SHALLOW COPY CREATES A NEW OBJECT WHICH STORES THE REFERENCE OF THE ORIGINAL ELEMENTS.SO, A SHALLOW COPY DOESN'T CREATE A COPY OF NESTED OBJECTS, INSTEAD IT JSUT COPIES THE REFERENCE OF NESTED OBJECT.THIS MEANS A COPY PROCESS DOES NOT RECURSE OR CREATE COPIES OF NESTED OBJECTS ITSELF.\n",
    "#COPY.COPY()\n",
    "import copy\n",
    "list1=[1,2,3,4,5,6]\n",
    "print(list1)\n",
    "list2=list1\n",
    "list1=copy.copy(list2)\n",
    "list1[0]='pyhton'\n",
    "print(list1)\n",
    "print(list2)"
   ]
  },
  {
   "cell_type": "code",
   "execution_count": 27,
   "id": "ef4b1652-0bde-4053-9ae3-441bf318a6f7",
   "metadata": {},
   "outputs": [
    {
     "name": "stdout",
     "output_type": "stream",
     "text": [
      "[[1, 1, 1], [2, 2, 2], [3, 3, 3], 'pankaj']\n",
      "[[1, 1, 1], [2, 2, 2], [3, 3, 3]]\n"
     ]
    }
   ],
   "source": [
    "import copy\n",
    "l1=[[1,1,1],[2,2,2],[3,3,3]]\n",
    "l2=copy.copy(l1)\n",
    "l1.append('pankaj')\n",
    "print(l1)\n",
    "print(l2)"
   ]
  },
  {
   "cell_type": "code",
   "execution_count": 29,
   "id": "a71d02b1-4f48-43ed-9df2-5b476fa94496",
   "metadata": {},
   "outputs": [
    {
     "name": "stdout",
     "output_type": "stream",
     "text": [
      "[1, 2, 3, 4, ['a', 'hello', 'c', 'd']]\n",
      "[1, 2, 3, 4, ['a', 'b', 'c', 'd']]\n"
     ]
    }
   ],
   "source": [
    "#DEEP COPY-IT CONSTRUCTS A NEW COMPOUND OBJECT AND THEN RECURSIVELY INSERTS THE COPIES INTO IT THE OBJECT FOUND IN THE ORIGINAL.\n",
    "#copy.deepcopy(x)\n",
    "import copy\n",
    "l1=[1,2,3,4,['a','b','c','d']]\n",
    "l2=copy.deepcopy(l1)\n",
    "l1[4][1]='hello'\n",
    "print(l1)\n",
    "print(l2)"
   ]
  },
  {
   "cell_type": "code",
   "execution_count": 34,
   "id": "9cc460c2-99ce-4bb4-a4a3-e3283e66249e",
   "metadata": {},
   "outputs": [
    {
     "name": "stdout",
     "output_type": "stream",
     "text": [
      "[('pankaj', 'data'), ('annu', 'science'), ('sushma', 'cpp'), ('ashok', 'java')]\n",
      "(('pankaj', 'data'), ('annu', 'science'), ('sushma', 'cpp'), ('ashok', 'java'))\n",
      "{('annu', 'science'), ('pankaj', 'data'), ('ashok', 'java'), ('sushma', 'cpp')}\n",
      "{'pankaj': 'data', 'annu': 'science', 'sushma': 'cpp', 'ashok': 'java'}\n"
     ]
    }
   ],
   "source": [
    "#zip() in python\n",
    "#The purpose of zip() is to map the similar index of multiple containers so that they can be used just using as single entity. Python zip and unzip list and tupples\n",
    "#zip(*iterators)\n",
    "#Parameters:Python iterables or containers(list,string etc)\n",
    "#Return Value:Returna single iterator object,having mapped values from all the containers.\n",
    "l1=['pankaj','annu','sushma','ashok']\n",
    "l2=['data','science','cpp','java']\n",
    "z1=zip(l1,l2)\n",
    "z1tuple=zip(l1,l2)\n",
    "z1set=zip(l1,l2)\n",
    "z1dict=zip(l1,l2)\n",
    "print(list(z1))\n",
    "print(tuple(z1tuple))\n",
    "print(set(z1set))\n",
    "print(dict(z1dict))"
   ]
  },
  {
   "cell_type": "code",
   "execution_count": 35,
   "id": "a0aea1cb-f888-4765-bbe9-4969369d66d3",
   "metadata": {},
   "outputs": [
    {
     "name": "stdout",
     "output_type": "stream",
     "text": [
      "pankaj data\n",
      "annu science\n",
      "sushma cpp\n",
      "ashok java\n"
     ]
    }
   ],
   "source": [
    "l1=['pankaj','annu','sushma','ashok']\n",
    "l2=['data','science','cpp','java']\n",
    "for i,j in zip(l1,l2):\n",
    "    print(i,j)"
   ]
  },
  {
   "cell_type": "code",
   "execution_count": 36,
   "id": "dea33a65-4c1f-436a-8103-31be13adafd6",
   "metadata": {},
   "outputs": [
    {
     "name": "stdout",
     "output_type": "stream",
     "text": [
      "1+5=6\n",
      "2+6=8\n",
      "3+7=10\n",
      "4+8=12\n"
     ]
    }
   ],
   "source": [
    "l1=[1,2,3,4]\n",
    "l2=[5,6,7,8]\n",
    "for i,j in zip(l1,l2):\n",
    "    print('{}+{}={}'.format(i,j,i+j))"
   ]
  },
  {
   "cell_type": "code",
   "execution_count": 41,
   "id": "35927e89-4712-44a7-8a37-f45309d0a61f",
   "metadata": {},
   "outputs": [
    {
     "name": "stdout",
     "output_type": "stream",
     "text": [
      "('pankaj', 'annu', 'sushma', 'ashok') ('data', 'science', 'cpp', 'java')\n"
     ]
    }
   ],
   "source": [
    "#HOW TO UNZIP-UNZIPPING MEANS CONVERTING THE ZIP VALUES BACK TO THE INDIVIDUAL SLF AS THEY WERE. THIS IS DONE WITH THE HELP OF'*' OPERTAOR.\n",
    "l1=['pankaj','annu','sushma','ashok']\n",
    "l2=['data','science','cpp','java']\n",
    "z1=zip(l1,l2)\n",
    "z2=zip(*z1)\n",
    "print(*z2)"
   ]
  },
  {
   "cell_type": "code",
   "execution_count": 42,
   "id": "4841974a-ea1c-4299-935c-c738fa254f75",
   "metadata": {},
   "outputs": [
    {
     "ename": "NameError",
     "evalue": "name 'str1' is not defined",
     "output_type": "error",
     "traceback": [
      "\u001b[1;31m---------------------------------------------------------------------------\u001b[0m",
      "\u001b[1;31mNameError\u001b[0m                                 Traceback (most recent call last)",
      "\u001b[1;32m~\\AppData\\Local\\Temp/ipykernel_1700/1539423630.py\u001b[0m in \u001b[0;36m<module>\u001b[1;34m\u001b[0m\n\u001b[0;32m      3\u001b[0m \u001b[0mstr1\u001b[0m\u001b[1;33m=\u001b[0m\u001b[1;34m'python'\u001b[0m\u001b[1;33m\u001b[0m\u001b[1;33m\u001b[0m\u001b[0m\n\u001b[0;32m      4\u001b[0m \u001b[1;32mdel\u001b[0m \u001b[0mstr1\u001b[0m\u001b[1;33m\u001b[0m\u001b[1;33m\u001b[0m\u001b[0m\n\u001b[1;32m----> 5\u001b[1;33m \u001b[0mprint\u001b[0m\u001b[1;33m(\u001b[0m\u001b[0mstr1\u001b[0m\u001b[1;33m)\u001b[0m\u001b[1;33m\u001b[0m\u001b[1;33m\u001b[0m\u001b[0m\n\u001b[0m",
      "\u001b[1;31mNameError\u001b[0m: name 'str1' is not defined"
     ]
    }
   ],
   "source": [
    "#DIFF BETWEEN DEL AND NONE KEYWORD\n",
    "#DEL- THE VARIBALE WILL BE REMOVED AND WE CANNOT ACCESS THE VARIABLE.(UNBIND OPERATION)\n",
    "str1='python'\n",
    "del str1\n",
    "print(str1)"
   ]
  },
  {
   "cell_type": "code",
   "execution_count": 44,
   "id": "3a7af3b4-a49c-4414-b753-086b62cb7ce0",
   "metadata": {},
   "outputs": [
    {
     "name": "stdout",
     "output_type": "stream",
     "text": [
      "python\n",
      "None\n"
     ]
    }
   ],
   "source": [
    "#NONE-VARIABLE WILL NOT BE REMOVED BUT THE CORRESPONDING OBJECT IS ELIGIBLE FOR GARBAGE COLLECTION(RE-BIND OPERATION)\n",
    "str1='python'\n",
    "print(str1)\n",
    "str1=None\n",
    "print(str1)"
   ]
  },
  {
   "cell_type": "code",
   "execution_count": null,
   "id": "6579a463-3b0d-4e92-b2d0-b82de1da81ae",
   "metadata": {},
   "outputs": [],
   "source": []
  },
  {
   "cell_type": "code",
   "execution_count": null,
   "id": "b2d6aa3c-b130-482d-a0fa-2e5eb9e014b3",
   "metadata": {},
   "outputs": [],
   "source": []
  }
 ],
 "metadata": {
  "kernelspec": {
   "display_name": "Python 3 (ipykernel)",
   "language": "python",
   "name": "python3"
  },
  "language_info": {
   "codemirror_mode": {
    "name": "ipython",
    "version": 3
   },
   "file_extension": ".py",
   "mimetype": "text/x-python",
   "name": "python",
   "nbconvert_exporter": "python",
   "pygments_lexer": "ipython3",
   "version": "3.9.7"
  }
 },
 "nbformat": 4,
 "nbformat_minor": 5
}
