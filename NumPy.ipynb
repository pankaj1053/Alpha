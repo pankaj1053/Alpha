{
 "cells": [
  {
   "cell_type": "code",
   "execution_count": 1,
   "id": "d8163ce1-68d0-4943-9fac-99720af10819",
   "metadata": {},
   "outputs": [],
   "source": [
    "#Numpy(can handle multi-dimension array and matrices)\n",
    "#Large collection of mathemetical function to operate on these arrays."
   ]
  },
  {
   "cell_type": "code",
   "execution_count": 5,
   "id": "b1ec51f2-fdef-4f21-bdec-fa3c4e57625e",
   "metadata": {},
   "outputs": [
    {
     "name": "stdout",
     "output_type": "stream",
     "text": [
      "pure pythin version5.9033\n",
      "Numpy version0.1070\n",
      "Numpy is in this example55.1682 times faster!\n"
     ]
    }
   ],
   "source": [
    "import time\n",
    "import numpy as np\n",
    "\n",
    "size_of_vac=10000000\n",
    "def pure_python_version():\n",
    "    time_python=time.time()\n",
    "    my_list1=range(size_of_vac)\n",
    "    my_list2=range(size_of_vac)\n",
    "    sum_list=[my_list1[i]+my_list2[i] for i in range(len(my_list1))]\n",
    "    return time.time()-time_python\n",
    "\n",
    "def numpy_version():\n",
    "    time_numpy=time.time()\n",
    "    my_arr1=np.arange(size_of_vac)\n",
    "    my_arr2=np.arange(size_of_vac)\n",
    "    sum_array=my_arr1+my_arr2\n",
    "    return time.time()-time_numpy\n",
    "\n",
    "python_time=pure_python_version()\n",
    "numpy_time=numpy_version()\n",
    "print(\"pure pythin version{:0.4f}\".format(python_time))\n",
    "print(\"Numpy version{:0.4f}\".format(numpy_time))\n",
    "print(\"Numpy is in this example{:0.4f} times faster!\".format(python_time/numpy_time))"
   ]
  },
  {
   "cell_type": "code",
   "execution_count": 13,
   "id": "48562e6c-21a4-4fb1-82d6-0b2d5635df5a",
   "metadata": {},
   "outputs": [
    {
     "data": {
      "text/plain": [
       "[1, 2, 3, 4, 5]"
      ]
     },
     "execution_count": 13,
     "metadata": {},
     "output_type": "execute_result"
    }
   ],
   "source": [
    "#Creating numpy arrays\n",
    "\n",
    "my_list=[1,2,3,4,5]\n",
    "my_list"
   ]
  },
  {
   "cell_type": "code",
   "execution_count": 14,
   "id": "f2b077a1-fe23-41f7-b03c-4f66f4490aff",
   "metadata": {},
   "outputs": [
    {
     "data": {
      "text/plain": [
       "list"
      ]
     },
     "execution_count": 14,
     "metadata": {},
     "output_type": "execute_result"
    }
   ],
   "source": [
    "type(my_list)"
   ]
  },
  {
   "cell_type": "code",
   "execution_count": 15,
   "id": "20e29eb8-8d85-42ad-977a-e6a3a69f37dd",
   "metadata": {},
   "outputs": [
    {
     "data": {
      "text/plain": [
       "array([1, 2, 3, 4, 5])"
      ]
     },
     "execution_count": 15,
     "metadata": {},
     "output_type": "execute_result"
    }
   ],
   "source": [
    "arr=np.array(my_list)\n",
    "arr"
   ]
  },
  {
   "cell_type": "code",
   "execution_count": 22,
   "id": "6c4149cb-bef3-47a0-aba1-396b51e89dcc",
   "metadata": {},
   "outputs": [
    {
     "data": {
      "text/plain": [
       "numpy.ndarray"
      ]
     },
     "execution_count": 22,
     "metadata": {},
     "output_type": "execute_result"
    }
   ],
   "source": [
    "type(arr)"
   ]
  },
  {
   "cell_type": "code",
   "execution_count": 16,
   "id": "892105b6-c3cb-4a0f-8521-f99a3cbfa2d0",
   "metadata": {},
   "outputs": [],
   "source": [
    "my_mat=[[1,2,3],[4,5,6],[7,8,9],[10,11,12]]   #Creating 2d list or list of lists"
   ]
  },
  {
   "cell_type": "code",
   "execution_count": 17,
   "id": "b8d2dd1f-a3fb-4e63-96a1-12af28d17c76",
   "metadata": {},
   "outputs": [
    {
     "data": {
      "text/plain": [
       "array([[ 1,  2,  3],\n",
       "       [ 4,  5,  6],\n",
       "       [ 7,  8,  9],\n",
       "       [10, 11, 12]])"
      ]
     },
     "execution_count": 17,
     "metadata": {},
     "output_type": "execute_result"
    }
   ],
   "source": [
    "mat=np.array(my_mat)    #this is 2d array\n",
    "mat"
   ]
  },
  {
   "cell_type": "code",
   "execution_count": 18,
   "id": "b821b176-6e03-4faa-9300-d81f3076073b",
   "metadata": {},
   "outputs": [
    {
     "data": {
      "text/plain": [
       "numpy.ndarray"
      ]
     },
     "execution_count": 18,
     "metadata": {},
     "output_type": "execute_result"
    }
   ],
   "source": [
    "type(mat)"
   ]
  },
  {
   "cell_type": "code",
   "execution_count": 19,
   "id": "84084f94-8959-475c-af15-0abb3fba434a",
   "metadata": {},
   "outputs": [
    {
     "data": {
      "text/plain": [
       "(5,)"
      ]
     },
     "execution_count": 19,
     "metadata": {},
     "output_type": "execute_result"
    }
   ],
   "source": [
    "arr.shape      #this gives the shape of the array"
   ]
  },
  {
   "cell_type": "code",
   "execution_count": 20,
   "id": "1d4da8e0-0423-4b06-b2ec-edea7beaf55f",
   "metadata": {},
   "outputs": [
    {
     "data": {
      "text/plain": [
       "(4, 3)"
      ]
     },
     "execution_count": 20,
     "metadata": {},
     "output_type": "execute_result"
    }
   ],
   "source": [
    "mat.shape         #This gives the number of rows and columns of the array"
   ]
  },
  {
   "cell_type": "code",
   "execution_count": 21,
   "id": "bf9bfe90-dab4-4188-bb7c-5a687690951c",
   "metadata": {},
   "outputs": [
    {
     "data": {
      "text/plain": [
       "1"
      ]
     },
     "execution_count": 21,
     "metadata": {},
     "output_type": "execute_result"
    }
   ],
   "source": [
    "arr.ndim          #This is 1D array"
   ]
  },
  {
   "cell_type": "code",
   "execution_count": 22,
   "id": "27b86a1c-5887-469c-b262-ccfee237dc9c",
   "metadata": {},
   "outputs": [
    {
     "data": {
      "text/plain": [
       "2"
      ]
     },
     "execution_count": 22,
     "metadata": {},
     "output_type": "execute_result"
    }
   ],
   "source": [
    "mat.ndim     #2d array or matrix\n",
    "#ndim function is for checking dimension"
   ]
  },
  {
   "cell_type": "code",
   "execution_count": 23,
   "id": "20f12705-f024-4bce-85dc-51b90bd2afa6",
   "metadata": {},
   "outputs": [
    {
     "data": {
      "text/plain": [
       "dtype('int32')"
      ]
     },
     "execution_count": 23,
     "metadata": {},
     "output_type": "execute_result"
    }
   ],
   "source": [
    "arr.dtype                 #the datatype of element inside the array"
   ]
  },
  {
   "cell_type": "code",
   "execution_count": 24,
   "id": "9d807fa0-c340-4cda-b98e-0c82e1b8cf78",
   "metadata": {},
   "outputs": [
    {
     "data": {
      "text/plain": [
       "dtype('int32')"
      ]
     },
     "execution_count": 24,
     "metadata": {},
     "output_type": "execute_result"
    }
   ],
   "source": [
    "mat.dtype"
   ]
  },
  {
   "cell_type": "code",
   "execution_count": 25,
   "id": "399997e8-0e2f-4505-bf5d-f10ec082d7e4",
   "metadata": {},
   "outputs": [
    {
     "data": {
      "text/plain": [
       "array([0, 1, 2, 3, 4, 5, 6, 7, 8, 9])"
      ]
     },
     "execution_count": 25,
     "metadata": {},
     "output_type": "execute_result"
    }
   ],
   "source": [
    "#ARRAY INITIALIZATION\n",
    "np.arange(0,10)     #no step size"
   ]
  },
  {
   "cell_type": "code",
   "execution_count": 26,
   "id": "054357fd-5f8e-49a4-98c8-21a6ff51e281",
   "metadata": {},
   "outputs": [
    {
     "data": {
      "text/plain": [
       "array([0, 2, 4, 6, 8])"
      ]
     },
     "execution_count": 26,
     "metadata": {},
     "output_type": "execute_result"
    }
   ],
   "source": [
    "np.arange(0,10,2) #step sizw two"
   ]
  },
  {
   "cell_type": "code",
   "execution_count": 27,
   "id": "749d7468-cdc9-48ab-97b3-d94836489ce3",
   "metadata": {},
   "outputs": [
    {
     "data": {
      "text/plain": [
       "array([0., 0., 0., 0.])"
      ]
     },
     "execution_count": 27,
     "metadata": {},
     "output_type": "execute_result"
    }
   ],
   "source": [
    "np.zeros(4)  #Generate a numpy array of 4 zeros"
   ]
  },
  {
   "cell_type": "code",
   "execution_count": 28,
   "id": "3149c9bf-2b90-4f83-9b4b-0ad6b7f24b96",
   "metadata": {},
   "outputs": [
    {
     "data": {
      "text/plain": [
       "array([[0., 0., 0.],\n",
       "       [0., 0., 0.],\n",
       "       [0., 0., 0.]])"
      ]
     },
     "execution_count": 28,
     "metadata": {},
     "output_type": "execute_result"
    }
   ],
   "source": [
    "np.zeros((3,3))       #generate a 3*3 null matrix"
   ]
  },
  {
   "cell_type": "code",
   "execution_count": 29,
   "id": "27a4a295-986b-48db-b32b-3a8cfefad360",
   "metadata": {},
   "outputs": [
    {
     "data": {
      "text/plain": [
       "array([[1., 1., 1.],\n",
       "       [1., 1., 1.],\n",
       "       [1., 1., 1.]])"
      ]
     },
     "execution_count": 29,
     "metadata": {},
     "output_type": "execute_result"
    }
   ],
   "source": [
    "np.ones((3,3))       #filled with 1"
   ]
  },
  {
   "cell_type": "code",
   "execution_count": 31,
   "id": "eefddb75-aeb0-4244-9f4e-108c7b12e881",
   "metadata": {},
   "outputs": [
    {
     "data": {
      "text/plain": [
       "array([0.        , 0.55555556, 1.11111111, 1.66666667, 2.22222222,\n",
       "       2.77777778, 3.33333333, 3.88888889, 4.44444444, 5.        ])"
      ]
     },
     "execution_count": 31,
     "metadata": {},
     "output_type": "execute_result"
    }
   ],
   "source": [
    "np.linspace(0,5,10)      #Generate 10 points between 0 to 5.\n",
    "#linspace is used for making high resolution plots"
   ]
  },
  {
   "cell_type": "code",
   "execution_count": 32,
   "id": "731fc764-ea5f-4800-b809-99b6b528673f",
   "metadata": {},
   "outputs": [
    {
     "data": {
      "text/plain": [
       "array([[1., 0., 0.],\n",
       "       [0., 1., 0.],\n",
       "       [0., 0., 1.]])"
      ]
     },
     "execution_count": 32,
     "metadata": {},
     "output_type": "execute_result"
    }
   ],
   "source": [
    "np.eye(3)  #generate identity matrix of size 3*3(this is used in singular value decomposition)"
   ]
  },
  {
   "cell_type": "code",
   "execution_count": 38,
   "id": "9feb3246-9e1a-4cd6-a37a-c9a95fd909f4",
   "metadata": {},
   "outputs": [
    {
     "data": {
      "text/plain": [
       "array([0.84413067, 0.36554383, 0.61015327, 0.46012475, 0.28597643])"
      ]
     },
     "execution_count": 38,
     "metadata": {},
     "output_type": "execute_result"
    }
   ],
   "source": [
    "#Array Intitialization using Random Numbers\n",
    "#In various application like assigning weights in Artificial Neural Network,arrays need to be initialised randomly\n",
    "np.random.rand(5)"
   ]
  },
  {
   "cell_type": "code",
   "execution_count": 34,
   "id": "749097ff-ef99-442a-a92f-c7ed66857698",
   "metadata": {},
   "outputs": [
    {
     "data": {
      "text/plain": [
       "array([[0.62749425, 0.5597809 ],\n",
       "       [0.19773732, 0.89624895]])"
      ]
     },
     "execution_count": 34,
     "metadata": {},
     "output_type": "execute_result"
    }
   ],
   "source": [
    "np.random.rand(2,2)         #generate 2D matrix where elements are random"
   ]
  },
  {
   "cell_type": "code",
   "execution_count": 35,
   "id": "7e80160b-1aee-4162-9dc5-ba54b15ed6f1",
   "metadata": {},
   "outputs": [
    {
     "data": {
      "text/plain": [
       "array([[0.42492448, 0.91128659, 0.15493297, 0.13238095],\n",
       "       [0.3596375 , 0.94569989, 0.66768661, 0.35515104],\n",
       "       [0.85090266, 0.64818081, 0.01886689, 0.53886039],\n",
       "       [0.66525888, 0.52362749, 0.38902039, 0.80743398]])"
      ]
     },
     "execution_count": 35,
     "metadata": {},
     "output_type": "execute_result"
    }
   ],
   "source": [
    "np.random.rand(4,4)         #4D matrix with random elements"
   ]
  },
  {
   "cell_type": "code",
   "execution_count": 37,
   "id": "0acfe187-9e18-4a05-9576-96c66551a7d5",
   "metadata": {},
   "outputs": [
    {
     "data": {
      "text/plain": [
       "array([[0.63017012, 0.57312929, 0.00176919],\n",
       "       [0.19133914, 0.95897253, 0.64461146],\n",
       "       [0.13193312, 0.09121514, 0.87779325]])"
      ]
     },
     "execution_count": 37,
     "metadata": {},
     "output_type": "execute_result"
    }
   ],
   "source": [
    "np.random.rand(9).reshape(3,3)"
   ]
  },
  {
   "cell_type": "code",
   "execution_count": 39,
   "id": "d6ac05c1-684c-4af2-9972-2cb1b6adc983",
   "metadata": {},
   "outputs": [
    {
     "data": {
      "text/plain": [
       "array([ 0,  1,  2,  3,  4,  5,  6,  7,  8,  9, 10])"
      ]
     },
     "execution_count": 39,
     "metadata": {},
     "output_type": "execute_result"
    }
   ],
   "source": [
    "#Numpy indexing\n",
    "my_arr=np.arange(0,11)\n",
    "my_arr"
   ]
  },
  {
   "cell_type": "code",
   "execution_count": 40,
   "id": "3c3af917-b1c7-45ee-8a76-f9bcc4ca7ad3",
   "metadata": {},
   "outputs": [
    {
     "data": {
      "text/plain": [
       "3"
      ]
     },
     "execution_count": 40,
     "metadata": {},
     "output_type": "execute_result"
    }
   ],
   "source": [
    "my_arr[3]"
   ]
  },
  {
   "cell_type": "code",
   "execution_count": 41,
   "id": "f1c459ca-8e2a-47b1-8347-5cff3fff345f",
   "metadata": {},
   "outputs": [
    {
     "data": {
      "text/plain": [
       "array([1, 2, 3, 4])"
      ]
     },
     "execution_count": 41,
     "metadata": {},
     "output_type": "execute_result"
    }
   ],
   "source": [
    "#Arrays Slicing\n",
    "my_arr[1:5]    #It will return all the elements between 1 and 5 excluding 5"
   ]
  },
  {
   "cell_type": "code",
   "execution_count": 42,
   "id": "126c23fe-1f27-4bca-b356-7b39c99f588c",
   "metadata": {},
   "outputs": [
    {
     "data": {
      "text/plain": [
       "array([ 8,  9, 10])"
      ]
     },
     "execution_count": 42,
     "metadata": {},
     "output_type": "execute_result"
    }
   ],
   "source": [
    "my_arr[8:]         #It will return all the element from index 8 and beyond"
   ]
  },
  {
   "cell_type": "code",
   "execution_count": 43,
   "id": "dfd31228-1252-44d9-b85c-d97bbb9c89de",
   "metadata": {},
   "outputs": [
    {
     "data": {
      "text/plain": [
       "array([0, 1, 2, 3, 4, 5])"
      ]
     },
     "execution_count": 43,
     "metadata": {},
     "output_type": "execute_result"
    }
   ],
   "source": [
    "my_arr[:6]         #It will return all element from first index to 5"
   ]
  },
  {
   "cell_type": "code",
   "execution_count": 44,
   "id": "508b9313-cc32-43ce-adcd-2e69c91bc97b",
   "metadata": {},
   "outputs": [
    {
     "data": {
      "text/plain": [
       "array([-3, -3, -3, -3, -3,  5,  6,  7,  8,  9, 10])"
      ]
     },
     "execution_count": 44,
     "metadata": {},
     "output_type": "execute_result"
    }
   ],
   "source": [
    "my_arr[0:5]=-3         #Numpy arrays are mutable\n",
    "my_arr"
   ]
  },
  {
   "cell_type": "code",
   "execution_count": 45,
   "id": "e5346229-8c7f-4a7f-b9e1-97b069a618fe",
   "metadata": {},
   "outputs": [
    {
     "data": {
      "text/plain": [
       "array([[ 0,  1,  2],\n",
       "       [ 3,  4,  5],\n",
       "       [ 6,  7,  8],\n",
       "       [ 9, 10, 11]])"
      ]
     },
     "execution_count": 45,
     "metadata": {},
     "output_type": "execute_result"
    }
   ],
   "source": [
    "arr_2d=np.array([[0,1,2],[3,4,5],[6,7,8],[9,10,11]])     #creating 2D array\n",
    "arr_2d"
   ]
  },
  {
   "cell_type": "code",
   "execution_count": 46,
   "id": "f3f7b22c-e516-4883-a915-f7ada3c593ef",
   "metadata": {},
   "outputs": [
    {
     "data": {
      "text/plain": [
       "2"
      ]
     },
     "execution_count": 46,
     "metadata": {},
     "output_type": "execute_result"
    }
   ],
   "source": [
    "arr_2d[0][2]   #throws 0th row and 2nd column element"
   ]
  },
  {
   "cell_type": "code",
   "execution_count": 47,
   "id": "588482f9-2057-4481-90b3-f7ed559da8ab",
   "metadata": {},
   "outputs": [
    {
     "data": {
      "text/plain": [
       "array([[0, 1],\n",
       "       [3, 4]])"
      ]
     },
     "execution_count": 47,
     "metadata": {},
     "output_type": "execute_result"
    }
   ],
   "source": [
    "arr_2d[0:2,0:2]     #Elements in row 0 and 1 and column 0 and 1"
   ]
  },
  {
   "cell_type": "code",
   "execution_count": 49,
   "id": "2f33e6ae-310b-4ea4-9e7e-1dce6df6ff89",
   "metadata": {},
   "outputs": [
    {
     "data": {
      "text/plain": [
       "array([[1, 2],\n",
       "       [4, 5]])"
      ]
     },
     "execution_count": 49,
     "metadata": {},
     "output_type": "execute_result"
    }
   ],
   "source": [
    "arr_2d[:2,1:]     #Elements from rows 0 and 1 and column 1 and 2"
   ]
  },
  {
   "cell_type": "code",
   "execution_count": 11,
   "id": "2a0c5094-5155-49a5-8ab3-0ae82dc4bd70",
   "metadata": {},
   "outputs": [
    {
     "data": {
      "text/plain": [
       "array([False, False, False, False, False, False,  True,  True,  True,\n",
       "        True,  True])"
      ]
     },
     "execution_count": 11,
     "metadata": {},
     "output_type": "execute_result"
    }
   ],
   "source": [
    "#Conditional Indexing in Array\n",
    "arr_cond=np.arange(0,11)\n",
    "arr_cond>5             #this will return a boolean array"
   ]
  },
  {
   "cell_type": "code",
   "execution_count": 12,
   "id": "75ab8c32-fc79-445e-9cc9-304b23aabd76",
   "metadata": {},
   "outputs": [
    {
     "data": {
      "text/plain": [
       "array([0, 1, 2, 3, 4])"
      ]
     },
     "execution_count": 12,
     "metadata": {},
     "output_type": "execute_result"
    }
   ],
   "source": [
    "bool_arr=arr_cond<5\n",
    "arr_cond[bool_arr]         #this will return all the element of an array where element size>5     "
   ]
  },
  {
   "cell_type": "code",
   "execution_count": 13,
   "id": "36a65a1e-2ffe-4c5a-a9d2-4d09f3a31762",
   "metadata": {},
   "outputs": [
    {
     "data": {
      "text/plain": [
       "array([ 6,  7,  8,  9, 10])"
      ]
     },
     "execution_count": 13,
     "metadata": {},
     "output_type": "execute_result"
    }
   ],
   "source": [
    "bool_arr=arr_cond>5\n",
    "arr_cond[bool_arr]"
   ]
  },
  {
   "cell_type": "code",
   "execution_count": 14,
   "id": "848ee885-bf82-46c1-861b-3d330f965416",
   "metadata": {},
   "outputs": [
    {
     "data": {
      "text/plain": [
       "array([0, 1, 2, 3, 4])"
      ]
     },
     "execution_count": 14,
     "metadata": {},
     "output_type": "execute_result"
    }
   ],
   "source": [
    "arr_cond[arr_cond<5]  #this is the same thing without using another object."
   ]
  },
  {
   "cell_type": "code",
   "execution_count": 8,
   "id": "0cbb4fb6-bed7-469b-8f31-732031c65d40",
   "metadata": {},
   "outputs": [],
   "source": [
    "#Numpy broadcasting\n",
    "#Rule\n",
    "#If two dimension are equal,you can continue\n",
    "#If one of the operand is 1, stretch it to match the largest one"
   ]
  },
  {
   "cell_type": "code",
   "execution_count": 10,
   "id": "f3cdc042-1216-464d-982a-a72eae40b692",
   "metadata": {},
   "outputs": [
    {
     "data": {
      "text/plain": [
       "array([[ 1,  2,  3],\n",
       "       [ 4,  5,  6],\n",
       "       [ 7,  8,  9],\n",
       "       [10, 11, 12]])"
      ]
     },
     "execution_count": 10,
     "metadata": {},
     "output_type": "execute_result"
    }
   ],
   "source": [
    "arr_2d=np.array([[1,2,3],[4,5,6],[7,8,9],[10,11,12]])     #Creating Numpy array\n",
    "arr_2d"
   ]
  },
  {
   "cell_type": "code",
   "execution_count": 15,
   "id": "bba2db86-ed7f-4135-ac08-91e272584662",
   "metadata": {},
   "outputs": [
    {
     "data": {
      "text/plain": [
       "(4, 3)"
      ]
     },
     "execution_count": 15,
     "metadata": {},
     "output_type": "execute_result"
    }
   ],
   "source": [
    "arr_2d.shape"
   ]
  },
  {
   "cell_type": "code",
   "execution_count": 17,
   "id": "b355283e-e378-4722-b305-ff67662629c0",
   "metadata": {},
   "outputs": [],
   "source": [
    "scaler=3           #scaler\n",
    "arr_1d=np.array([10,10,10])        #array with different shape"
   ]
  },
  {
   "cell_type": "code",
   "execution_count": 18,
   "id": "475149cf-37f0-44cf-b1c1-558304e1ea5d",
   "metadata": {},
   "outputs": [
    {
     "data": {
      "text/plain": [
       "(3,)"
      ]
     },
     "execution_count": 18,
     "metadata": {},
     "output_type": "execute_result"
    }
   ],
   "source": [
    "arr_1d.shape"
   ]
  },
  {
   "cell_type": "code",
   "execution_count": 19,
   "id": "c7842362-79e3-4aa8-8b6c-cc559a0340da",
   "metadata": {},
   "outputs": [
    {
     "data": {
      "text/plain": [
       "array([[ 4,  5,  6],\n",
       "       [ 7,  8,  9],\n",
       "       [10, 11, 12],\n",
       "       [13, 14, 15]])"
      ]
     },
     "execution_count": 19,
     "metadata": {},
     "output_type": "execute_result"
    }
   ],
   "source": [
    "arr_2d+scaler"
   ]
  },
  {
   "cell_type": "code",
   "execution_count": 20,
   "id": "afc0985d-6caa-4422-aded-f38095ec867a",
   "metadata": {},
   "outputs": [
    {
     "data": {
      "text/plain": [
       "array([[11, 12, 13],\n",
       "       [14, 15, 16],\n",
       "       [17, 18, 19],\n",
       "       [20, 21, 22]])"
      ]
     },
     "execution_count": 20,
     "metadata": {},
     "output_type": "execute_result"
    }
   ],
   "source": [
    "arr_2d+arr_1d"
   ]
  },
  {
   "cell_type": "code",
   "execution_count": 22,
   "id": "ba3d06d1-5905-4b18-9834-b4281abac8fe",
   "metadata": {},
   "outputs": [
    {
     "ename": "ValueError",
     "evalue": "operands could not be broadcast together with shapes (4,3) (1,4) ",
     "output_type": "error",
     "traceback": [
      "\u001b[1;31m---------------------------------------------------------------------------\u001b[0m",
      "\u001b[1;31mValueError\u001b[0m                                Traceback (most recent call last)",
      "\u001b[1;32m<ipython-input-22-ae22acb0a6f7>\u001b[0m in \u001b[0;36m<module>\u001b[1;34m\u001b[0m\n\u001b[0;32m      1\u001b[0m \u001b[0marr\u001b[0m\u001b[1;33m=\u001b[0m\u001b[0mnp\u001b[0m\u001b[1;33m.\u001b[0m\u001b[0marray\u001b[0m\u001b[1;33m(\u001b[0m\u001b[1;33m[\u001b[0m\u001b[1;33m[\u001b[0m\u001b[1;36m1\u001b[0m\u001b[1;33m,\u001b[0m\u001b[1;36m1\u001b[0m\u001b[1;33m,\u001b[0m\u001b[1;36m1\u001b[0m\u001b[1;33m,\u001b[0m\u001b[1;36m1\u001b[0m\u001b[1;33m]\u001b[0m\u001b[1;33m]\u001b[0m\u001b[1;33m)\u001b[0m\u001b[1;33m\u001b[0m\u001b[1;33m\u001b[0m\u001b[0m\n\u001b[1;32m----> 2\u001b[1;33m \u001b[0marr_2d\u001b[0m\u001b[1;33m+\u001b[0m\u001b[0marr\u001b[0m\u001b[1;33m\u001b[0m\u001b[1;33m\u001b[0m\u001b[0m\n\u001b[0m",
      "\u001b[1;31mValueError\u001b[0m: operands could not be broadcast together with shapes (4,3) (1,4) "
     ]
    }
   ],
   "source": [
    "arr=np.array([[1,1,1,1]])\n",
    "arr_2d+arr                     #throws an exception if dimensions doesn't match"
   ]
  },
  {
   "cell_type": "code",
   "execution_count": 25,
   "id": "422bf517-35fe-491b-8fb4-e90262d82562",
   "metadata": {},
   "outputs": [
    {
     "data": {
      "text/plain": [
       "array([ 1,  2,  3,  4,  5,  6,  7,  8,  9, 10])"
      ]
     },
     "execution_count": 25,
     "metadata": {},
     "output_type": "execute_result"
    }
   ],
   "source": [
    "#Numpy mathematical Function\n",
    "arr=np.arange(1,11)\n",
    "arr"
   ]
  },
  {
   "cell_type": "markdown",
   "id": "f439ae31-7ca1-4331-bde5-4a085195e570",
   "metadata": {},
   "source": []
  },
  {
   "cell_type": "code",
   "execution_count": 27,
   "id": "09bf72af-53c6-4fe6-a6af-25d3add454d9",
   "metadata": {},
   "outputs": [
    {
     "data": {
      "text/plain": [
       "1"
      ]
     },
     "execution_count": 27,
     "metadata": {},
     "output_type": "execute_result"
    }
   ],
   "source": [
    "arr.min()"
   ]
  },
  {
   "cell_type": "code",
   "execution_count": 28,
   "id": "461dbbd7-a9ba-4a62-88d1-3c1b3714f899",
   "metadata": {},
   "outputs": [
    {
     "data": {
      "text/plain": [
       "10"
      ]
     },
     "execution_count": 28,
     "metadata": {},
     "output_type": "execute_result"
    }
   ],
   "source": [
    "arr.max()          #min and max are used to calculate the range of an array"
   ]
  },
  {
   "cell_type": "code",
   "execution_count": 29,
   "id": "0c118f14-868a-4821-9a02-9214814cacf4",
   "metadata": {},
   "outputs": [
    {
     "data": {
      "text/plain": [
       "0"
      ]
     },
     "execution_count": 29,
     "metadata": {},
     "output_type": "execute_result"
    }
   ],
   "source": [
    "arr.argmin()          #Index position of min and max element"
   ]
  },
  {
   "cell_type": "code",
   "execution_count": 30,
   "id": "140de42f-2edd-4c01-83aa-8639762abbdd",
   "metadata": {},
   "outputs": [
    {
     "data": {
      "text/plain": [
       "9"
      ]
     },
     "execution_count": 30,
     "metadata": {},
     "output_type": "execute_result"
    }
   ],
   "source": [
    "arr.argmax()          #Argmax can be used to observe the output of softmax layer Neural Network"
   ]
  },
  {
   "cell_type": "code",
   "execution_count": 31,
   "id": "38d6954c-9a7f-41df-a02d-fed3fbb0d4a8",
   "metadata": {},
   "outputs": [
    {
     "data": {
      "text/plain": [
       "array([1.        , 1.41421356, 1.73205081, 2.        , 2.23606798,\n",
       "       2.44948974, 2.64575131, 2.82842712, 3.        , 3.16227766])"
      ]
     },
     "execution_count": 31,
     "metadata": {},
     "output_type": "execute_result"
    }
   ],
   "source": [
    "np.sqrt(arr)"
   ]
  },
  {
   "cell_type": "code",
   "execution_count": 33,
   "id": "184f3a73-9c48-40d7-8b5a-c78b510f316c",
   "metadata": {},
   "outputs": [
    {
     "data": {
      "text/plain": [
       "5.5"
      ]
     },
     "execution_count": 33,
     "metadata": {},
     "output_type": "execute_result"
    }
   ],
   "source": [
    "arr.mean()          #Missing value of the column can be replaced by the mean of that column in some dataset"
   ]
  },
  {
   "cell_type": "code",
   "execution_count": 34,
   "id": "c2f00524-b05d-4803-8273-4678a87e1929",
   "metadata": {},
   "outputs": [
    {
     "data": {
      "text/plain": [
       "array([2.71828183e+00, 7.38905610e+00, 2.00855369e+01, 5.45981500e+01,\n",
       "       1.48413159e+02, 4.03428793e+02, 1.09663316e+03, 2.98095799e+03,\n",
       "       8.10308393e+03, 2.20264658e+04])"
      ]
     },
     "execution_count": 34,
     "metadata": {},
     "output_type": "execute_result"
    }
   ],
   "source": [
    "np.exp(arr)      #To calculate exponentioal value/Expo function is used in Activation Function of Neural Network"
   ]
  },
  {
   "cell_type": "code",
   "execution_count": 35,
   "id": "a934df8c-39bc-4dbb-a149-29280de6b3d9",
   "metadata": {},
   "outputs": [],
   "source": [
    "#Array Manipulation(Change the Sturcture and shape of an array)"
   ]
  },
  {
   "cell_type": "code",
   "execution_count": 41,
   "id": "0ef8c649-4a90-4ef0-9ba7-4cdcd607ec24",
   "metadata": {},
   "outputs": [
    {
     "data": {
      "text/plain": [
       "array([[ 0,  1,  2,  3],\n",
       "       [ 4,  5,  6,  7],\n",
       "       [ 8,  9, 10, 11],\n",
       "       [12, 13, 14, 15]])"
      ]
     },
     "execution_count": 41,
     "metadata": {},
     "output_type": "execute_result"
    }
   ],
   "source": [
    "#Reshape Function\n",
    "arr=np.arange(0,16)\n",
    "arr_2d=arr.reshape(4,4)\n",
    "arr_2d"
   ]
  },
  {
   "cell_type": "code",
   "execution_count": 47,
   "id": "0e6eb30e-c02c-428e-9314-6bba096fc5dd",
   "metadata": {},
   "outputs": [
    {
     "data": {
      "text/plain": [
       "array([ 0,  1,  2,  3,  4,  5,  6,  7,  8,  9, 10, 11, 12, 13, 14, 15])"
      ]
     },
     "execution_count": 47,
     "metadata": {},
     "output_type": "execute_result"
    }
   ],
   "source": [
    "#Flatten Function\n",
    "arr_2d.flatten()            #This is used in convolutional neural network to flatten a 2D image mto individual pixels"
   ]
  },
  {
   "cell_type": "code",
   "execution_count": 48,
   "id": "fe9ff4c8-ce62-43a3-8b2a-dcf5a99fcea5",
   "metadata": {},
   "outputs": [
    {
     "data": {
      "text/plain": [
       "array([[ 0,  4,  8, 12],\n",
       "       [ 1,  5,  9, 13],\n",
       "       [ 2,  6, 10, 14],\n",
       "       [ 3,  7, 11, 15]])"
      ]
     },
     "execution_count": 48,
     "metadata": {},
     "output_type": "execute_result"
    }
   ],
   "source": [
    "#Transpose Function\n",
    "arr_2d.transpose()"
   ]
  },
  {
   "cell_type": "code",
   "execution_count": 51,
   "id": "8f1fd825-5862-44aa-a52c-1aed8b36cb84",
   "metadata": {},
   "outputs": [],
   "source": [
    "#Merging and Splitting an array\n",
    "arr_x=np.array([[1,2,3,4],[5,6,7,8]])      #Lets create 2 arrays\n",
    "arr_y=np.array([[21,22,23,24],[25,26,27,28]])"
   ]
  },
  {
   "cell_type": "code",
   "execution_count": 56,
   "id": "db0efaea-6116-44bb-8b9b-88a61a02ae9c",
   "metadata": {},
   "outputs": [
    {
     "data": {
      "text/plain": [
       "array([[ 1,  2,  3,  4],\n",
       "       [ 5,  6,  7,  8],\n",
       "       [21, 22, 23, 24],\n",
       "       [25, 26, 27, 28]])"
      ]
     },
     "execution_count": 56,
     "metadata": {},
     "output_type": "execute_result"
    }
   ],
   "source": [
    "arr_z=np.concatenate((arr_x,arr_y),axis=0)  #Join 2 arrays along rows/use to add new features in dataset\n",
    "arr_z"
   ]
  },
  {
   "cell_type": "code",
   "execution_count": 57,
   "id": "d38e6177-6ecd-48a6-a1fd-233592364c61",
   "metadata": {},
   "outputs": [
    {
     "data": {
      "text/plain": [
       "[array([[ 1,  2],\n",
       "        [ 5,  6],\n",
       "        [21, 22],\n",
       "        [25, 26]]),\n",
       " array([[ 3,  4],\n",
       "        [ 7,  8],\n",
       "        [23, 24],\n",
       "        [27, 28]])]"
      ]
     },
     "execution_count": 57,
     "metadata": {},
     "output_type": "execute_result"
    }
   ],
   "source": [
    "#Horizontal Split\n",
    "np.hsplit(arr_z,2)"
   ]
  },
  {
   "cell_type": "code",
   "execution_count": 59,
   "id": "42da38c0-aaf7-422d-9aee-1fe92ed5b525",
   "metadata": {},
   "outputs": [
    {
     "data": {
      "text/plain": [
       "[array([[1, 2, 3, 4],\n",
       "        [5, 6, 7, 8]]),\n",
       " array([[21, 22, 23, 24],\n",
       "        [25, 26, 27, 28]])]"
      ]
     },
     "execution_count": 59,
     "metadata": {},
     "output_type": "execute_result"
    }
   ],
   "source": [
    "#Vertical Split\n",
    "np.vsplit(arr_z,2)             #vertical split can be used in cross validation in machine learning"
   ]
  },
  {
   "cell_type": "code",
   "execution_count": null,
   "id": "373bd0ed-2082-429e-bce2-70cdb136b91e",
   "metadata": {},
   "outputs": [],
   "source": []
  }
 ],
 "metadata": {
  "kernelspec": {
   "display_name": "Python 3",
   "language": "python",
   "name": "python3"
  },
  "language_info": {
   "codemirror_mode": {
    "name": "ipython",
    "version": 3
   },
   "file_extension": ".py",
   "mimetype": "text/x-python",
   "name": "python",
   "nbconvert_exporter": "python",
   "pygments_lexer": "ipython3",
   "version": "3.8.8"
  }
 },
 "nbformat": 4,
 "nbformat_minor": 5
}
