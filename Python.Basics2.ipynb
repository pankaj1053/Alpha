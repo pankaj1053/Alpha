{
 "cells": [
  {
   "cell_type": "code",
   "execution_count": 3,
   "id": "46d25107-eae1-41a5-b1ed-26fd98a3ca78",
   "metadata": {},
   "outputs": [],
   "source": [
    "#Variable Assignment"
   ]
  },
  {
   "cell_type": "code",
   "execution_count": 7,
   "id": "8d840753-baf3-459c-8a1a-a5745058bbb9",
   "metadata": {},
   "outputs": [
    {
     "name": "stdout",
     "output_type": "stream",
     "text": [
      "5 20 StringValue\n"
     ]
    }
   ],
   "source": [
    "integerNumber= 5\n",
    "decimalNumber=20                  #We use assignment operator(=) to assign value to variables\n",
    "stringVariable=\"StringValue\"\n",
    "print(integerNumber, decimalNumber, stringVariable)"
   ]
  },
  {
   "cell_type": "code",
   "execution_count": 9,
   "id": "8913a868-1e66-4fb6-a820-974302981a8d",
   "metadata": {},
   "outputs": [
    {
     "name": "stdout",
     "output_type": "stream",
     "text": [
      "3 33.3 StringValue\n"
     ]
    }
   ],
   "source": [
    "integerNumber , decimalNumber , stringVariable = 3,33.3,\"StringValue\"\n",
    "\"\"\"Use comma to seperate the variable and their corresponding values\"\"\"\n",
    "print(integerNumber , decimalNumber , stringVariable)"
   ]
  },
  {
   "cell_type": "code",
   "execution_count": 12,
   "id": "bbe2b741-5832-4e5b-b654-d1e2529ee7e8",
   "metadata": {},
   "outputs": [
    {
     "name": "stdout",
     "output_type": "stream",
     "text": [
      "All variable assigned the same value All variable assigned the same value All variable assigned the same value cat and dogs cat and dogs cat and dogs cat and dogs cat and dogs\n"
     ]
    }
   ],
   "source": [
    "variable1=variable2=variable3=\"All variable assigned the same value\"\n",
    "cat3=cat4=cat5=dog3=dog5=\"cat and dogs\" #Multiple variable with the same value use one assigment\n",
    "print(variable1,variable2,variable3,cat3,cat4,cat5,dog3,dog5)"
   ]
  },
  {
   "cell_type": "code",
   "execution_count": 20,
   "id": "1ce6ee37-826f-42c7-b6ff-a5a438b7ebed",
   "metadata": {},
   "outputs": [
    {
     "ename": "NameError",
     "evalue": "name 'intergerNumber' is not defined",
     "output_type": "error",
     "traceback": [
      "\u001b[1;31m---------------------------------------------------------------------------\u001b[0m",
      "\u001b[1;31mNameError\u001b[0m                                 Traceback (most recent call last)",
      "\u001b[1;32m<ipython-input-20-350bfc5b810b>\u001b[0m in \u001b[0;36m<module>\u001b[1;34m\u001b[0m\n\u001b[1;32m----> 1\u001b[1;33m \u001b[0mprint\u001b[0m\u001b[1;33m(\u001b[0m\u001b[0mid\u001b[0m\u001b[1;33m(\u001b[0m\u001b[0mintergerNumber\u001b[0m\u001b[1;33m)\u001b[0m\u001b[1;33m)\u001b[0m   \u001b[1;31m#print address of variable: 'intergerNumber'\u001b[0m\u001b[1;33m\u001b[0m\u001b[1;33m\u001b[0m\u001b[0m\n\u001b[0m",
      "\u001b[1;31mNameError\u001b[0m: name 'intergerNumber' is not defined"
     ]
    }
   ],
   "source": [
    "print(id(intergerNumber))   #print address of variable: 'intergerNumber'// Storage Location"
   ]
  },
  {
   "cell_type": "code",
   "execution_count": null,
   "id": "8ff5fb2a-f582-4f31-ba7e-4af4ac5908e7",
   "metadata": {},
   "outputs": [],
   "source": [
    "print(id(decimalNumber))   #print address of variable: 'decimalNumber'// Storage Location"
   ]
  },
  {
   "cell_type": "code",
   "execution_count": 21,
   "id": "573b8639-c9b9-404b-80ae-88aa1fbaf0b3",
   "metadata": {},
   "outputs": [
    {
     "name": "stdout",
     "output_type": "stream",
     "text": [
      "1933405744\n",
      "1933403296\n"
     ]
    }
   ],
   "source": [
    "interger1 = 154\n",
    "decimal2 = 1\n",
    "print(id(interger1))\n",
    "print(id(decimal2))"
   ]
  },
  {
   "cell_type": "code",
   "execution_count": 27,
   "id": "20768637-8067-4dac-ba4a-dbbcd4c0e13e",
   "metadata": {},
   "outputs": [
    {
     "name": "stdout",
     "output_type": "stream",
     "text": [
      "3434 is of type <class 'int'>\n",
      "12.32 is of type <class 'float'>\n",
      "(343+4j) is a complex number? True\n"
     ]
    }
   ],
   "source": [
    "data1=3434   #Integer Data type\n",
    "data2=12.32  #Float Data type\n",
    "data3=343+4j #Data type is chaned to complex\n",
    "print(data1,\"is of type\",type(data1))\n",
    "print(data2,\"is of type\",type(data2))\n",
    "print(data3, \"is a complex number?\",isinstance(data3,complex))"
   ]
  },
  {
   "cell_type": "code",
   "execution_count": 28,
   "id": "2f877de3-73ce-4b8e-bfcf-44859c420f40",
   "metadata": {},
   "outputs": [
    {
     "name": "stdout",
     "output_type": "stream",
     "text": [
      "<class 'bool'>\n"
     ]
    }
   ],
   "source": [
    "booleanVariable=True #'booleanVariable' is a boolean type and True is a keyword\n",
    "print(type(booleanVariable))"
   ]
  },
  {
   "cell_type": "code",
   "execution_count": 30,
   "id": "6fb245e1-e0c4-469a-b437-52f2aa65cace",
   "metadata": {},
   "outputs": [],
   "source": [
    "#Python Strings"
   ]
  },
  {
   "cell_type": "code",
   "execution_count": 35,
   "id": "42122328-8e33-4c08-b054-2f4daaf57d48",
   "metadata": {},
   "outputs": [
    {
     "name": "stdout",
     "output_type": "stream",
     "text": [
      "stringVariable is : This is a string variable\n",
      "First character in stringVariable is : T\n",
      "tenth character in stringVariable is : s\n"
     ]
    },
    {
     "ename": "IndexError",
     "evalue": "string index out of range",
     "output_type": "error",
     "traceback": [
      "\u001b[1;31m---------------------------------------------------------------------------\u001b[0m",
      "\u001b[1;31mIndexError\u001b[0m                                Traceback (most recent call last)",
      "\u001b[1;32m<ipython-input-35-9b81d362927d>\u001b[0m in \u001b[0;36m<module>\u001b[1;34m\u001b[0m\n\u001b[0;32m      3\u001b[0m \u001b[0mprint\u001b[0m\u001b[1;33m(\u001b[0m\u001b[1;34m'First character in stringVariable is :'\u001b[0m\u001b[1;33m,\u001b[0m\u001b[0mstringVariable\u001b[0m\u001b[1;33m[\u001b[0m\u001b[1;36m0\u001b[0m\u001b[1;33m]\u001b[0m\u001b[1;33m)\u001b[0m\u001b[1;33m\u001b[0m\u001b[1;33m\u001b[0m\u001b[0m\n\u001b[0;32m      4\u001b[0m \u001b[0mprint\u001b[0m\u001b[1;33m(\u001b[0m\u001b[1;34m'tenth character in stringVariable is :'\u001b[0m\u001b[1;33m,\u001b[0m\u001b[0mstringVariable\u001b[0m\u001b[1;33m[\u001b[0m\u001b[1;36m10\u001b[0m\u001b[1;33m]\u001b[0m\u001b[1;33m)\u001b[0m\u001b[1;33m\u001b[0m\u001b[1;33m\u001b[0m\u001b[0m\n\u001b[1;32m----> 5\u001b[1;33m \u001b[0mprint\u001b[0m\u001b[1;33m(\u001b[0m\u001b[1;34m'100th character in stringVariable is :'\u001b[0m\u001b[1;33m,\u001b[0m\u001b[0mstringVariable\u001b[0m\u001b[1;33m[\u001b[0m\u001b[1;36m100\u001b[0m\u001b[1;33m]\u001b[0m\u001b[1;33m)\u001b[0m\u001b[1;33m\u001b[0m\u001b[1;33m\u001b[0m\u001b[0m\n\u001b[0m",
      "\u001b[1;31mIndexError\u001b[0m: string index out of range"
     ]
    }
   ],
   "source": [
    "stringVariable = \"This is a string variable\"    #Python String\n",
    "print('stringVariable is :',stringVariable)\n",
    "print('First character in stringVariable is :',stringVariable[0])\n",
    "print('tenth character in stringVariable is :',stringVariable[10])\n",
    "print('100th character in stringVariable is :',stringVariable[100]) #Out of Range\n"
   ]
  },
  {
   "cell_type": "code",
   "execution_count": 36,
   "id": "3f045220-e9bc-4d12-8b8a-b263187a8ca5",
   "metadata": {},
   "outputs": [
    {
     "name": "stdout",
     "output_type": "stream",
     "text": [
      "This is \n",
      "This is \n",
      "s a string variable\n"
     ]
    }
   ],
   "source": [
    "#Slicing of String Variable\n",
    "print(stringVariable[0:8])\n",
    "print(stringVariable[:8])\n",
    "print(stringVariable[6:])"
   ]
  },
  {
   "cell_type": "code",
   "execution_count": 1,
   "id": "7ddcb73a-87fb-4e7b-8718-68282d3ac383",
   "metadata": {},
   "outputs": [
    {
     "name": "stdout",
     "output_type": "stream",
     "text": [
      "[3, 3.5, 'ThirdElement', 12, 24, 'More Values']\n"
     ]
    }
   ],
   "source": [
    "#Python List\n",
    "#Orderd sequence\n",
    "#Seperated by comma and enclosed in[]\n",
    "myList=[3,3.5, \"ThirdElement\", 12,24,\"More Values\"]\n",
    "print(myList)"
   ]
  },
  {
   "cell_type": "code",
   "execution_count": 5,
   "id": "925b2f34-ce63-4816-a2df-e251a757932b",
   "metadata": {},
   "outputs": [
    {
     "name": "stdout",
     "output_type": "stream",
     "text": [
      "24\n",
      "3\n"
     ]
    }
   ],
   "source": [
    "print(myList[4]) \n",
    "print(myList[0])  #Print an element Bases on its index. Index start rom Zero"
   ]
  },
  {
   "cell_type": "code",
   "execution_count": 6,
   "id": "4341372f-02ca-42ee-89ec-48dc2774056e",
   "metadata": {},
   "outputs": [
    {
     "name": "stdout",
     "output_type": "stream",
     "text": [
      "[3, 3.5, 'Pankaj', 12, 24, 'More Values']\n"
     ]
    }
   ],
   "source": [
    "myList[2]=\"Pankaj\"             #list are mutable means value of elements of the list can be changed.\n",
    "print(myList)             "
   ]
  },
  {
   "cell_type": "code",
   "execution_count": 8,
   "id": "34213313-28fe-4086-a179-0e1774ff874f",
   "metadata": {},
   "outputs": [
    {
     "name": "stdout",
     "output_type": "stream",
     "text": [
      "[3, 3.5, 'Pankaj', 12, 24]\n"
     ]
    }
   ],
   "source": [
    "myList.remove(\"More Values\")   #Remove items from particular index\n",
    "print(myList)"
   ]
  },
  {
   "cell_type": "code",
   "execution_count": 9,
   "id": "dec3f0b9-ef4c-4f37-87fd-3f40c2c02657",
   "metadata": {},
   "outputs": [
    {
     "name": "stdout",
     "output_type": "stream",
     "text": [
      "[3, 3.5, 12, 24]\n"
     ]
    }
   ],
   "source": [
    "myList.pop(2)     #Remove item from particular index\n",
    "print(myList)"
   ]
  },
  {
   "cell_type": "code",
   "execution_count": 10,
   "id": "f75fe459-f998-4bd8-8ea0-fcf26c58c2e8",
   "metadata": {},
   "outputs": [
    {
     "name": "stdout",
     "output_type": "stream",
     "text": [
      "[3, 3.5, 12, 24, 2.2]\n"
     ]
    }
   ],
   "source": [
    "myList.append(2.2)         #Add item at the last index\n",
    "print(myList)"
   ]
  },
  {
   "cell_type": "code",
   "execution_count": 11,
   "id": "361314ed-5e19-4c8a-b5ec-1637e4350b65",
   "metadata": {},
   "outputs": [],
   "source": [
    "#Python tupple\n",
    "#immutable means cannot be modified\n",
    "#Defined with parenthses and separated by commma."
   ]
  },
  {
   "cell_type": "code",
   "execution_count": 16,
   "id": "9e7c5d85-e611-44a1-9b5d-6f944cd6a8bf",
   "metadata": {},
   "outputs": [
    {
     "name": "stdout",
     "output_type": "stream",
     "text": [
      "('Pankaj', 2, 422, 45)\n",
      "45\n"
     ]
    }
   ],
   "source": [
    "myTuple = (\"Pankaj\",2,422,45)\n",
    "print(myTupple); print(myTupple[3])"
   ]
  },
  {
   "cell_type": "code",
   "execution_count": 17,
   "id": "c8bd2a39-b998-4bee-873b-6301c015fef7",
   "metadata": {},
   "outputs": [
    {
     "ename": "TypeError",
     "evalue": "'tuple' object does not support item assignment",
     "output_type": "error",
     "traceback": [
      "\u001b[1;31m---------------------------------------------------------------------------\u001b[0m",
      "\u001b[1;31mTypeError\u001b[0m                                 Traceback (most recent call last)",
      "\u001b[1;32m<ipython-input-17-c59c8532c20f>\u001b[0m in \u001b[0;36m<module>\u001b[1;34m\u001b[0m\n\u001b[1;32m----> 1\u001b[1;33m \u001b[0mmyTuple\u001b[0m\u001b[1;33m[\u001b[0m\u001b[1;36m3\u001b[0m\u001b[1;33m]\u001b[0m\u001b[1;33m=\u001b[0m\u001b[1;36m234\u001b[0m\u001b[1;33m\u001b[0m\u001b[1;33m\u001b[0m\u001b[0m\n\u001b[0m",
      "\u001b[1;31mTypeError\u001b[0m: 'tuple' object does not support item assignment"
     ]
    }
   ],
   "source": [
    "myTuple[3]=234"
   ]
  },
  {
   "cell_type": "code",
   "execution_count": 18,
   "id": "071afaee-4540-40d6-8c1f-e3af01089d12",
   "metadata": {},
   "outputs": [
    {
     "name": "stdout",
     "output_type": "stream",
     "text": [
      "{65, 33, 35, 53, 29}\n"
     ]
    }
   ],
   "source": [
    "#Python set\n",
    "#Unordered collection of unique itmes\n",
    "#Defined and seperated by comma inside curly braces{}.\n",
    "mySet={29,35,53,65,33}\n",
    "print(mySet)"
   ]
  },
  {
   "cell_type": "code",
   "execution_count": 19,
   "id": "bcf6ae66-07c6-48b1-aff9-33395cdec430",
   "metadata": {},
   "outputs": [
    {
     "name": "stdout",
     "output_type": "stream",
     "text": [
      "{64, 33, 53, 23, 56}\n"
     ]
    }
   ],
   "source": [
    "mySet={23,33,23,33,53,53,56,64}  #Only unique value is considered,duplicates removed automatically\n",
    "print(mySet)"
   ]
  },
  {
   "cell_type": "code",
   "execution_count": 21,
   "id": "0f2249a6-c490-40b7-a18d-c977f59ac1d3",
   "metadata": {},
   "outputs": [
    {
     "name": "stdout",
     "output_type": "stream",
     "text": [
      "<class 'set'>\n"
     ]
    }
   ],
   "source": [
    "print(type(mySet))  #Check the type of the variables"
   ]
  },
  {
   "cell_type": "code",
   "execution_count": 22,
   "id": "40c26af3-84bd-4eeb-bf7f-727cdbf290a9",
   "metadata": {},
   "outputs": [
    {
     "ename": "TypeError",
     "evalue": "'set' object is not subscriptable",
     "output_type": "error",
     "traceback": [
      "\u001b[1;31m---------------------------------------------------------------------------\u001b[0m",
      "\u001b[1;31mTypeError\u001b[0m                                 Traceback (most recent call last)",
      "\u001b[1;32m<ipython-input-22-826059ac1bc6>\u001b[0m in \u001b[0;36m<module>\u001b[1;34m\u001b[0m\n\u001b[1;32m----> 1\u001b[1;33m \u001b[0mprint\u001b[0m\u001b[1;33m(\u001b[0m\u001b[0mmySet\u001b[0m\u001b[1;33m[\u001b[0m\u001b[1;36m2\u001b[0m\u001b[1;33m]\u001b[0m\u001b[1;33m)\u001b[0m  \u001b[1;31m#Cannot print any particular element coz its and unordered collection\u001b[0m\u001b[1;33m\u001b[0m\u001b[1;33m\u001b[0m\u001b[0m\n\u001b[0m",
      "\u001b[1;31mTypeError\u001b[0m: 'set' object is not subscriptable"
     ]
    }
   ],
   "source": [
    "print(mySet[2])  #Cannot print any particular element coz its and unordered collection"
   ]
  },
  {
   "cell_type": "code",
   "execution_count": 25,
   "id": "53226f11-4b6a-443f-88cf-d54d94e76d4a",
   "metadata": {},
   "outputs": [],
   "source": [
    " #Python Dictionary used when we have a huge amount of data.\n",
    " #Optimized for retriving Data\n",
    " #Must know the key to retrive the value.\n",
    " #Dictionaries are defined within curly braces.\n",
    " #Each item being a pair in the form key:value(key and value can be of any type)"
   ]
  },
  {
   "cell_type": "code",
   "execution_count": 27,
   "id": "41756cbc-08fc-4b79-b2ce-af5f58bedbd3",
   "metadata": {},
   "outputs": [
    {
     "name": "stdout",
     "output_type": "stream",
     "text": [
      "value2\n",
      "value3\n"
     ]
    }
   ],
   "source": [
    "myDictionary= {'key1':\"value1\",'key2':\"value2\",'key3':\"value3\",}\n",
    "print(myDictionary['key2'])\n",
    "print(myDictionary['key3'])"
   ]
  },
  {
   "cell_type": "code",
   "execution_count": 32,
   "id": "7ac992d7-226c-4c1f-abaf-1303769e0d32",
   "metadata": {},
   "outputs": [
    {
     "name": "stdout",
     "output_type": "stream",
     "text": [
      "{'key1': 'value1', 'key2': 'value2.2', 'key3': 'value3'}\n"
     ]
    }
   ],
   "source": [
    "#Update a value in the dictionary\n",
    "myDictionary['key2']=\"value2.2\"\n",
    "print(myDictionary)\n"
   ]
  },
  {
   "cell_type": "code",
   "execution_count": 33,
   "id": "c81c0703-f22c-4250-932f-26b5230dfbef",
   "metadata": {},
   "outputs": [
    {
     "name": "stdout",
     "output_type": "stream",
     "text": [
      "{'key1': 'value1', 'key2': 'value2.2', 'key3': 'value3', 'key4': 'value4'}\n"
     ]
    }
   ],
   "source": [
    "myDictionary[\"key4\"]=\"value4\"   #Add a new key value\n",
    "print(myDictionary)"
   ]
  },
  {
   "cell_type": "code",
   "execution_count": 34,
   "id": "6e7fa95d-184d-42cd-a862-beac75082ee6",
   "metadata": {},
   "outputs": [
    {
     "name": "stdout",
     "output_type": "stream",
     "text": [
      "{'key1': 'value1', 'key3': 'value3', 'key4': 'value4'}\n"
     ]
    }
   ],
   "source": [
    "del myDictionary[\"key2\"]\n",
    "print(myDictionary)"
   ]
  },
  {
   "cell_type": "code",
   "execution_count": 37,
   "id": "3bd9e21a-420e-4ad4-8147-83120c30f300",
   "metadata": {},
   "outputs": [
    {
     "data": {
      "text/plain": [
       "5"
      ]
     },
     "execution_count": 37,
     "metadata": {},
     "output_type": "execute_result"
    }
   ],
   "source": [
    "int(5.5)"
   ]
  },
  {
   "cell_type": "code",
   "execution_count": 38,
   "id": "c16c2402-9cb0-4abe-948a-a658f425546b",
   "metadata": {},
   "outputs": [
    {
     "data": {
      "text/plain": [
       "'5'"
      ]
     },
     "execution_count": 38,
     "metadata": {},
     "output_type": "execute_result"
    }
   ],
   "source": [
    "str('5')"
   ]
  },
  {
   "cell_type": "code",
   "execution_count": 39,
   "id": "fcd81155-592f-4365-b4b0-fc15e67efd09",
   "metadata": {},
   "outputs": [
    {
     "data": {
      "text/plain": [
       "5.0"
      ]
     },
     "execution_count": 39,
     "metadata": {},
     "output_type": "execute_result"
    }
   ],
   "source": [
    "float(5)"
   ]
  },
  {
   "cell_type": "code",
   "execution_count": 40,
   "id": "fd0c0485-83cb-4f66-8448-40b3857dd74c",
   "metadata": {},
   "outputs": [
    {
     "data": {
      "text/plain": [
       "'5.5'"
      ]
     },
     "execution_count": 40,
     "metadata": {},
     "output_type": "execute_result"
    }
   ],
   "source": [
    "str(5.5)"
   ]
  },
  {
   "cell_type": "code",
   "execution_count": 41,
   "id": "f7871faa-bc1e-49ac-a708-82d01e266087",
   "metadata": {},
   "outputs": [
    {
     "data": {
      "text/plain": [
       "5"
      ]
     },
     "execution_count": 41,
     "metadata": {},
     "output_type": "execute_result"
    }
   ],
   "source": [
    "int('5')"
   ]
  },
  {
   "cell_type": "code",
   "execution_count": 42,
   "id": "a5e5bfb7-dcea-4c7b-8869-0163a223c9d9",
   "metadata": {},
   "outputs": [
    {
     "ename": "ValueError",
     "evalue": "invalid literal for int() with base 10: '5.5'",
     "output_type": "error",
     "traceback": [
      "\u001b[1;31m---------------------------------------------------------------------------\u001b[0m",
      "\u001b[1;31mValueError\u001b[0m                                Traceback (most recent call last)",
      "\u001b[1;32m<ipython-input-42-b9fcb4cd3570>\u001b[0m in \u001b[0;36m<module>\u001b[1;34m\u001b[0m\n\u001b[1;32m----> 1\u001b[1;33m \u001b[0mint\u001b[0m\u001b[1;33m(\u001b[0m\u001b[1;34m'5.5'\u001b[0m\u001b[1;33m)\u001b[0m\u001b[1;33m\u001b[0m\u001b[1;33m\u001b[0m\u001b[0m\n\u001b[0m",
      "\u001b[1;31mValueError\u001b[0m: invalid literal for int() with base 10: '5.5'"
     ]
    }
   ],
   "source": [
    "int('5.5')"
   ]
  },
  {
   "cell_type": "code",
   "execution_count": 43,
   "id": "fa658ba3-8480-48bf-a3e7-0abf9d3497a4",
   "metadata": {},
   "outputs": [
    {
     "data": {
      "text/plain": [
       "5.5"
      ]
     },
     "execution_count": 43,
     "metadata": {},
     "output_type": "execute_result"
    }
   ],
   "source": [
    "float('5.5')"
   ]
  },
  {
   "cell_type": "code",
   "execution_count": 44,
   "id": "3dc74b35-6358-4684-ae80-a5a2bbcebf4b",
   "metadata": {},
   "outputs": [
    {
     "ename": "ValueError",
     "evalue": "invalid literal for int() with base 10: 'CharIn10'",
     "output_type": "error",
     "traceback": [
      "\u001b[1;31m---------------------------------------------------------------------------\u001b[0m",
      "\u001b[1;31mValueError\u001b[0m                                Traceback (most recent call last)",
      "\u001b[1;32m<ipython-input-44-e0efe699a269>\u001b[0m in \u001b[0;36m<module>\u001b[1;34m\u001b[0m\n\u001b[1;32m----> 1\u001b[1;33m \u001b[0mint\u001b[0m\u001b[1;33m(\u001b[0m\u001b[1;34m'CharIn10'\u001b[0m\u001b[1;33m)\u001b[0m\u001b[1;33m\u001b[0m\u001b[1;33m\u001b[0m\u001b[0m\n\u001b[0m",
      "\u001b[1;31mValueError\u001b[0m: invalid literal for int() with base 10: 'CharIn10'"
     ]
    }
   ],
   "source": [
    "int('CharIn10')"
   ]
  },
  {
   "cell_type": "code",
   "execution_count": 45,
   "id": "38fee1ca-88b8-421c-b4aa-2c4ff5afdc5e",
   "metadata": {},
   "outputs": [
    {
     "ename": "TypeError",
     "evalue": "can only concatenate str (not \"int\") to str",
     "output_type": "error",
     "traceback": [
      "\u001b[1;31m---------------------------------------------------------------------------\u001b[0m",
      "\u001b[1;31mTypeError\u001b[0m                                 Traceback (most recent call last)",
      "\u001b[1;32m<ipython-input-45-d623df9835fd>\u001b[0m in \u001b[0;36m<module>\u001b[1;34m\u001b[0m\n\u001b[1;32m----> 1\u001b[1;33m \u001b[0mmyNewString\u001b[0m \u001b[1;33m=\u001b[0m \u001b[1;34m'text1'\u001b[0m\u001b[1;33m+\u001b[0m\u001b[1;36m10\u001b[0m\u001b[1;33m+\u001b[0m\u001b[1;34m'text2'\u001b[0m\u001b[1;33m\u001b[0m\u001b[1;33m\u001b[0m\u001b[0m\n\u001b[0m\u001b[0;32m      2\u001b[0m \u001b[0mprint\u001b[0m\u001b[1;33m(\u001b[0m\u001b[0mmyNewString\u001b[0m\u001b[1;33m)\u001b[0m\u001b[1;33m\u001b[0m\u001b[1;33m\u001b[0m\u001b[0m\n",
      "\u001b[1;31mTypeError\u001b[0m: can only concatenate str (not \"int\") to str"
     ]
    }
   ],
   "source": [
    "myNewString = 'text1'+10+'text2'\n",
    "print(myNewString)"
   ]
  },
  {
   "cell_type": "code",
   "execution_count": 49,
   "id": "b063457b-ed59-4ca9-b906-48abd0fdc259",
   "metadata": {},
   "outputs": [
    {
     "name": "stdout",
     "output_type": "stream",
     "text": [
      "text120text2\n"
     ]
    }
   ],
   "source": [
    "myNewString=\"text1\" + str(20) + 'text2'\n",
    "print(myNewString)"
   ]
  },
  {
   "cell_type": "code",
   "execution_count": 53,
   "id": "4ecda968-588b-4553-b515-306319607543",
   "metadata": {},
   "outputs": [
    {
     "name": "stdout",
     "output_type": "stream",
     "text": [
      "['a', 'b', 'c', 'd', 's', 'a']\n",
      "<class 'list'>\n",
      "<class 'set'>\n",
      "{'c', 's', 'a', 'b', 'd'}\n"
     ]
    }
   ],
   "source": [
    "#Convert list to set\n",
    "myList1=['a','b','c','d','s','a']\n",
    "print(myList1)\n",
    "print(type(myList1))\n",
    "mySet2 = set(myList1)\n",
    "print(type(mySet2))\n",
    "print(mySet2)"
   ]
  },
  {
   "cell_type": "code",
   "execution_count": 57,
   "id": "3d547233-a3f6-432a-b319-06707903f0ca",
   "metadata": {},
   "outputs": [
    {
     "name": "stdout",
     "output_type": "stream",
     "text": [
      "{56, 53, 55}\n",
      "<class 'set'>\n",
      "<class 'list'>\n",
      "[56, 53, 55]\n"
     ]
    }
   ],
   "source": [
    "#Convert set to list\n",
    "mySet3={55,53,56}\n",
    "print(mySet3)\n",
    "print(type(mySet3))\n",
    "myList4= list(mySet3)\n",
    "print(type(myList4))\n",
    "print(myList4)"
   ]
  },
  {
   "cell_type": "code",
   "execution_count": 62,
   "id": "07d33583-b09a-4cbb-8c12-afe65d036cdb",
   "metadata": {},
   "outputs": [
    {
     "name": "stdout",
     "output_type": "stream",
     "text": [
      "<class 'str'>\n",
      "<class 'list'>\n",
      "['T', 'h', 'i', 's', ' ', 'i', 's', ' ', 's', 't', 'r', 'i', 'n', 'g', ' ', 't', 'o', ' ', 'l', 'i', 's', 't']\n"
     ]
    }
   ],
   "source": [
    "#String to list\n",
    "myString2='This is string to list'\n",
    "print(type(myString2))\n",
    "strToList = list(myString2)\n",
    "print(type(strToList))\n",
    "print(strToList)"
   ]
  },
  {
   "cell_type": "code",
   "execution_count": null,
   "id": "c39abdf1-ed4b-4e3b-8d11-9b5fb006d096",
   "metadata": {},
   "outputs": [],
   "source": []
  }
 ],
 "metadata": {
  "kernelspec": {
   "display_name": "Python 3",
   "language": "python",
   "name": "python3"
  },
  "language_info": {
   "codemirror_mode": {
    "name": "ipython",
    "version": 3
   },
   "file_extension": ".py",
   "mimetype": "text/x-python",
   "name": "python",
   "nbconvert_exporter": "python",
   "pygments_lexer": "ipython3",
   "version": "3.8.8"
  }
 },
 "nbformat": 4,
 "nbformat_minor": 5
}
