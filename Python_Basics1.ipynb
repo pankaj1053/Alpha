{
 "cells": [
  {
   "cell_type": "code",
   "execution_count": 8,
   "id": "90270c2a-ed51-48dd-80fe-995de57b5c0d",
   "metadata": {},
   "outputs": [
    {
     "name": "stdout",
     "output_type": "stream",
     "text": [
      "['False', 'None', 'True', 'and', 'as', 'assert', 'async', 'await', 'break', 'class', 'continue', 'def', 'del', 'elif', 'else', 'except', 'finally', 'for', 'from', 'global', 'if', 'import', 'in', 'is', 'lambda', 'nonlocal', 'not', 'or', 'pass', 'raise', 'return', 'try', 'while', 'with', 'yield']\n"
     ]
    }
   ],
   "source": [
    "import keyword\n",
    "print(keyword.kwlist)   # To extract all keyword  in python"
   ]
  },
  {
   "cell_type": "code",
   "execution_count": 9,
   "id": "6548b5f2-a094-4da2-bcd7-a09a3573cb6d",
   "metadata": {},
   "outputs": [
    {
     "name": "stdout",
     "output_type": "stream",
     "text": [
      "keywords in python 3.6 are: 35\n"
     ]
    }
   ],
   "source": [
    "import keyword\n",
    "print(\"keywords in python 3.6 are:\",len(keyword.kwlist))  #Number of keywords are"
   ]
  },
  {
   "cell_type": "code",
   "execution_count": 10,
   "id": "e88b6ec4-5998-4484-a081-5f2ee15ab72f",
   "metadata": {},
   "outputs": [
    {
     "name": "stdout",
     "output_type": "stream",
     "text": [
      "['False', 'None', 'True', 'and', 'as', 'assert', 'async', 'await', 'break', 'class', 'continue', 'def', 'del', 'elif', 'else', 'except', 'finally', 'for', 'from', 'global', 'if', 'import', 'in', 'is', 'lambda', 'nonlocal', 'not', 'or', 'pass', 'raise', 'return', 'try', 'while', 'with', 'yield']\n",
      "keywords in python 3.6: 35\n"
     ]
    }
   ],
   "source": [
    "import keyword\n",
    "print(keyword.kwlist)\n",
    "print(\"keywords in python 3.6:\",len(keyword.kwlist))"
   ]
  },
  {
   "cell_type": "code",
   "execution_count": 11,
   "id": "e8859a7c-9598-4ced-92d6-00435cee9506",
   "metadata": {},
   "outputs": [
    {
     "ename": "SyntaxError",
     "evalue": "invalid syntax (<ipython-input-11-0777b21c7384>, line 1)",
     "output_type": "error",
     "traceback": [
      "\u001b[1;36m  File \u001b[1;32m\"<ipython-input-11-0777b21c7384>\"\u001b[1;36m, line \u001b[1;32m1\u001b[0m\n\u001b[1;33m    56pankaj=100   #Wrong way of defining identifiers\u001b[0m\n\u001b[1;37m      ^\u001b[0m\n\u001b[1;31mSyntaxError\u001b[0m\u001b[1;31m:\u001b[0m invalid syntax\n"
     ]
    }
   ],
   "source": [
    "56pankaj=100   #Wrong way of defining identifiers"
   ]
  },
  {
   "cell_type": "code",
   "execution_count": 13,
   "id": "231171fc-abe0-4cbd-9383-acaf818c71ef",
   "metadata": {},
   "outputs": [
    {
     "name": "stdout",
     "output_type": "stream",
     "text": [
      "100\n"
     ]
    }
   ],
   "source": [
    "pankaj56=100   #Right way of defining identifiers\n",
    "print(pankaj56)"
   ]
  },
  {
   "cell_type": "code",
   "execution_count": 15,
   "id": "9328f878-5373-414b-82e0-dfe1cedd8654",
   "metadata": {},
   "outputs": [
    {
     "ename": "SyntaxError",
     "evalue": "invalid syntax (<ipython-input-15-add50196d0c2>, line 1)",
     "output_type": "error",
     "traceback": [
      "\u001b[1;36m  File \u001b[1;32m\"<ipython-input-15-add50196d0c2>\"\u001b[1;36m, line \u001b[1;32m1\u001b[0m\n\u001b[1;33m    global=1     #Cannot use keyword as identifiers\u001b[0m\n\u001b[1;37m          ^\u001b[0m\n\u001b[1;31mSyntaxError\u001b[0m\u001b[1;31m:\u001b[0m invalid syntax\n"
     ]
    }
   ],
   "source": [
    "global=1     #Cannot use keyword as identifiers"
   ]
  },
  {
   "cell_type": "code",
   "execution_count": 17,
   "id": "cba5d45f-fefd-4a23-84d2-c5ce4c19eea5",
   "metadata": {},
   "outputs": [
    {
     "ename": "SyntaxError",
     "evalue": "invalid syntax (<ipython-input-17-36e8fca4b605>, line 1)",
     "output_type": "error",
     "traceback": [
      "\u001b[1;36m  File \u001b[1;32m\"<ipython-input-17-36e8fca4b605>\"\u001b[1;36m, line \u001b[1;32m1\u001b[0m\n\u001b[1;33m    hello@ = 10   #can't use special symbols like !,@,#,$,% etc as an identifier\u001b[0m\n\u001b[1;37m           ^\u001b[0m\n\u001b[1;31mSyntaxError\u001b[0m\u001b[1;31m:\u001b[0m invalid syntax\n"
     ]
    }
   ],
   "source": [
    "hello@ = 10   #can't use special symbols like !,@,#,$,% etc as an identifier"
   ]
  },
  {
   "cell_type": "code",
   "execution_count": 19,
   "id": "66768487-edb7-4b84-b01f-4926a5286985",
   "metadata": {},
   "outputs": [
    {
     "name": "stdout",
     "output_type": "stream",
     "text": [
      "hello: 1\n",
      "hello123: 1\n",
      "hello_1: 1\n"
     ]
    }
   ],
   "source": [
    "hello = 1\n",
    "print('hello:',hello)\n",
    "hello123 = 1\n",
    "print('hello123:',hello123)\n",
    "hello_1 = 1\n",
    "print('hello_1:',hello_1)            #Few more correct identifiers"
   ]
  },
  {
   "cell_type": "code",
   "execution_count": 27,
   "id": "3fe169df-d618-4750-ad94-ba84226872f2",
   "metadata": {},
   "outputs": [
    {
     "name": "stdout",
     "output_type": "stream",
     "text": [
      "400\n",
      "160000\n",
      "155.00249999999997\n",
      "0.10890000000000001\n"
     ]
    }
   ],
   "source": [
    "def square(num):  \n",
    "    \"\"\"\n",
    "    Function to square a number.\n",
    "print this doc string using _doc_ attribute of the function.\n",
    "\"\"\"\n",
    "    return num * num\n",
    "print(square(20))\n",
    "print(square(400))\n",
    "print(square(12.45))\n",
    "print(square(.33))"
   ]
  },
  {
   "cell_type": "code",
   "execution_count": 32,
   "id": "6704c44c-e4bf-4f50-b5f6-3f7b5049aedb",
   "metadata": {},
   "outputs": [
    {
     "ename": "IndentationError",
     "evalue": "unexpected indent (<ipython-input-32-174803aa1b5e>, line 2)",
     "output_type": "error",
     "traceback": [
      "\u001b[1;36m  File \u001b[1;32m\"<ipython-input-32-174803aa1b5e>\"\u001b[1;36m, line \u001b[1;32m2\u001b[0m\n\u001b[1;33m    variable = 20      #Logical continuation disrupted\u001b[0m\n\u001b[1;37m    ^\u001b[0m\n\u001b[1;31mIndentationError\u001b[0m\u001b[1;31m:\u001b[0m unexpected indent\n"
     ]
    }
   ],
   "source": [
    "variable = 10\n",
    "  variable = 20      #Logical continuation disrupted"
   ]
  },
  {
   "cell_type": "code",
   "execution_count": 33,
   "id": "5ef836ec-777b-4a16-be10-22cad7208fa6",
   "metadata": {},
   "outputs": [],
   "source": [
    "variable = 10\n",
    "variable = 20"
   ]
  },
  {
   "cell_type": "code",
   "execution_count": 34,
   "id": "32f9ff56-65c5-4c8a-929d-dd3865bf59eb",
   "metadata": {},
   "outputs": [
    {
     "name": "stdout",
     "output_type": "stream",
     "text": [
      "1\n",
      "2\n",
      "3\n",
      "4\n",
      "5\n",
      "6\n",
      "7\n",
      "8\n"
     ]
    }
   ],
   "source": [
    "for i in range (1,9):\n",
    "    print(i)                 #Logical continuation maintained"
   ]
  },
  {
   "cell_type": "code",
   "execution_count": 4,
   "id": "6d67ed32-0e40-43a0-a5c9-246b9457b21d",
   "metadata": {},
   "outputs": [
    {
     "name": "stdout",
     "output_type": "stream",
     "text": [
      "1\n",
      "2\n",
      "3\n",
      "4\n",
      "5\n",
      "6\n",
      "7\n",
      "8\n",
      "9\n"
     ]
    }
   ],
   "source": [
    "variable1=20;variable2=30     #Everything could be in line but less readable. Multiple statement in one line\n",
    "for i in range(1,10): print(i)  #Everything could be in one line but less readable."
   ]
  },
  {
   "cell_type": "code",
   "execution_count": 5,
   "id": "04f56946-1d98-4a60-aec6-10c3728e7665",
   "metadata": {},
   "outputs": [
    {
     "name": "stdout",
     "output_type": "stream",
     "text": [
      "20\n"
     ]
    }
   ],
   "source": [
    "number = 20   # single line statement\n",
    "print(number)"
   ]
  },
  {
   "cell_type": "code",
   "execution_count": 6,
   "id": "63445f66-d144-49f1-af06-b56599deacc7",
   "metadata": {},
   "outputs": [
    {
     "name": "stdout",
     "output_type": "stream",
     "text": [
      "210\n"
     ]
    }
   ],
   "source": [
    "number= 10+20+ \\       #Multi-line statement\n",
    "        40+50+ \\       #Use a continuation character '\\'\n",
    "        90\n",
    "print(number)"
   ]
  },
  {
   "cell_type": "code",
   "execution_count": 7,
   "id": "04f546a5-030e-491a-b898-0ec76d5cc7f0",
   "metadata": {},
   "outputs": [
    {
     "name": "stdout",
     "output_type": "stream",
     "text": [
      "210\n"
     ]
    }
   ],
   "source": [
    "number = (10+20+30+\n",
    "         40+50+\n",
    "         60)\n",
    "print(number)"
   ]
  },
  {
   "cell_type": "code",
   "execution_count": 11,
   "id": "727d17ef-adde-4303-8d57-7a256f7dc2b8",
   "metadata": {},
   "outputs": [
    {
     "name": "stdout",
     "output_type": "stream",
     "text": [
      "['False', 'None', 'True', 'and', 'as', 'assert', 'async', 'await', 'break', 'class', 'continue', 'def', 'del', 'elif', 'else', 'except', 'finally', 'for', 'from', 'global', 'if', 'import', 'in', 'is', 'lambda', 'nonlocal', 'not', 'or', 'pass', 'raise', 'return', 'try', 'while', 'with', 'yield']\n",
      "total number of keyword in python are: 35\n",
      "100\n",
      "hello1: 10\n",
      "84100\n",
      "1\n",
      "2\n",
      "3\n",
      "4\n",
      "5\n",
      "6\n",
      "7\n",
      "170\n"
     ]
    }
   ],
   "source": [
    "import keyword\n",
    "print(keyword.kwlist)\n",
    "print(\"total number of keyword in python are:\", len(keyword.kwlist))\n",
    "pankaj94 = 100\n",
    "print(pankaj94)\n",
    "hello1 = 10\n",
    "print('hello1:',hello1)\n",
    "def square(num):\n",
    "    return num*num\n",
    "print(square(290))\n",
    "for i in range (1,8):\n",
    "    print(i)\n",
    "number= (10+20+\n",
    "        30+50+\n",
    "        60)\n",
    "print(number)"
   ]
  },
  {
   "cell_type": "code",
   "execution_count": null,
   "id": "30afb9e0-83ed-4aad-b491-59c18600bceb",
   "metadata": {},
   "outputs": [],
   "source": []
  }
 ],
 "metadata": {
  "kernelspec": {
   "display_name": "Python 3",
   "language": "python",
   "name": "python3"
  },
  "language_info": {
   "codemirror_mode": {
    "name": "ipython",
    "version": 3
   },
   "file_extension": ".py",
   "mimetype": "text/x-python",
   "name": "python",
   "nbconvert_exporter": "python",
   "pygments_lexer": "ipython3",
   "version": "3.8.8"
  }
 },
 "nbformat": 4,
 "nbformat_minor": 5
}
