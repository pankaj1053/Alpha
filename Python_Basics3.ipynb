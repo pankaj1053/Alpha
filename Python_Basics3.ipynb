{
 "cells": [
  {
   "cell_type": "code",
   "execution_count": 1,
   "id": "5a2a04bd-eca7-4d50-be30-6552656ccb2e",
   "metadata": {},
   "outputs": [],
   "source": [
    "#Python i/o function"
   ]
  },
  {
   "cell_type": "code",
   "execution_count": 2,
   "id": "cf9da814-7052-483c-864b-98968d1ed220",
   "metadata": {},
   "outputs": [
    {
     "name": "stdout",
     "output_type": "stream",
     "text": [
      "the output will be displayed on the screen\n"
     ]
    }
   ],
   "source": [
    "print(\"the output will be displayed on the screen\") #Use print() function"
   ]
  },
  {
   "cell_type": "code",
   "execution_count": 5,
   "id": "02f710ba-077e-4860-9993-813cf22c0782",
   "metadata": {},
   "outputs": [
    {
     "name": "stdout",
     "output_type": "stream",
     "text": [
      "the value of myInt is 33443\n",
      "the value of myInt is33443\n"
     ]
    }
   ],
   "source": [
    "myInt=33443\n",
    "print(\"the value of myInt is\",myInt)\n",
    "print(\"the value of myInt is\"+ str(myInt))   #Print the number in string form"
   ]
  },
  {
   "cell_type": "code",
   "execution_count": 6,
   "id": "0e255597-4164-4ae3-b1f6-aba121406aa2",
   "metadata": {},
   "outputs": [],
   "source": [
    "#Output Formatting"
   ]
  },
  {
   "cell_type": "code",
   "execution_count": 8,
   "id": "a216bf7b-8db9-4b03-bb17-a193daa0bb27",
   "metadata": {},
   "outputs": [
    {
     "name": "stdout",
     "output_type": "stream",
     "text": [
      "myInt:20 is the half of myInt2:40\n"
     ]
    }
   ],
   "source": [
    "myInt1=20\n",
    "myInt2=40\n",
    "print(\"myInt:{} is the half of myInt2:{}\".format(myInt1,myInt2))"
   ]
  },
  {
   "cell_type": "code",
   "execution_count": 11,
   "id": "3a60a99a-2806-400a-8a01-9038552df33c",
   "metadata": {},
   "outputs": [
    {
     "name": "stdout",
     "output_type": "stream",
     "text": [
      "myInt2:40 is double of myInt1:20\n"
     ]
    }
   ],
   "source": [
    "myInt1=20\n",
    "myInt2=40\n",
    "print(\"myInt2:{1} is double of myInt1:{0}\".format(myInt1,myInt2)) #Considers position of arguements"
   ]
  },
  {
   "cell_type": "code",
   "execution_count": 14,
   "id": "2e5b77ac-cd67-4b6a-b156-1ac99f8e4123",
   "metadata": {},
   "outputs": [
    {
     "name": "stdout",
     "output_type": "stream",
     "text": [
      "Welcome pankaj to the world of data science\n"
     ]
    }
   ],
   "source": [
    "#Use of keyword arguement format the string\n",
    "print(\"Welcome {name} to the world of {DS}\".format(name=\"pankaj\",DS=\"data science\"))\n"
   ]
  },
  {
   "cell_type": "code",
   "execution_count": 15,
   "id": "6eae401d-ac88-4a85-9296-58435a0c13d6",
   "metadata": {},
   "outputs": [
    {
     "name": "stdout",
     "output_type": "stream",
     "text": [
      "welcomepankaj, to the world of Data Science.We are learningPython\n"
     ]
    }
   ],
   "source": [
    "#Also a combination of positional arguements with the keyword arguments is applicable\n",
    "print(\"welcome{0}, to the world of {1}.We are learning{Subject}\".format('Pankaj','Data Science', Subject='Python'))"
   ]
  },
  {
   "cell_type": "code",
   "execution_count": 30,
   "id": "65a172ee-5f08-4134-9913-8589aa619810",
   "metadata": {},
   "outputs": [
    {
     "name": "stdout",
     "output_type": "stream",
     "text": [
      "+3.140000;-3.140000\n"
     ]
    }
   ],
   "source": [
    "print('{:+f};{:+f}'.format(3.14,-3.14))   #show the signs"
   ]
  },
  {
   "cell_type": "code",
   "execution_count": null,
   "id": "d1552ced-ae0b-46c1-a98a-884863e317d1",
   "metadata": {},
   "outputs": [],
   "source": [
    "#Python Input"
   ]
  },
  {
   "cell_type": "code",
   "execution_count": 31,
   "id": "59fe2518-12d6-4836-89c1-b8f22796a60c",
   "metadata": {},
   "outputs": [
    {
     "name": "stdin",
     "output_type": "stream",
     "text": [
      "Please enter some data: 52\n"
     ]
    },
    {
     "name": "stdout",
     "output_type": "stream",
     "text": [
      "You typed in: 52\n"
     ]
    }
   ],
   "source": [
    "userInput = input(\"Please enter some data:\")\n",
    "print(\"You typed in:\",userInput)"
   ]
  },
  {
   "cell_type": "code",
   "execution_count": 40,
   "id": "148d929c-2396-4d22-ae50-e935f6a89e55",
   "metadata": {},
   "outputs": [
    {
     "name": "stdin",
     "output_type": "stream",
     "text": [
      "Enter class strength: 52\n"
     ]
    },
    {
     "name": "stdout",
     "output_type": "stream",
     "text": [
      "You typed in: 52\n",
      "userInput type is: <class 'str'>\n"
     ]
    }
   ],
   "source": [
    "userInput = input(\"Enter class strength:\")\n",
    "print(\"You typed in:\",userInput)\n",
    "print(\"userInput type is:\",type(userInput))"
   ]
  },
  {
   "cell_type": "code",
   "execution_count": 41,
   "id": "22a58966-4f5a-492c-a038-7aa4f049b78d",
   "metadata": {},
   "outputs": [
    {
     "name": "stdout",
     "output_type": "stream",
     "text": [
      "classStrength value is: 52\n",
      "classStrength type is : <class 'int'>\n"
     ]
    }
   ],
   "source": [
    "classStrength = int(userInput)\n",
    "print(\"classStrength value is:\", classStrength)\n",
    "print(\"classStrength type is :\", type(classStrength))"
   ]
  },
  {
   "cell_type": "code",
   "execution_count": null,
   "id": "dc221419-0b5a-492c-acf2-d69a4cac413f",
   "metadata": {},
   "outputs": [],
   "source": []
  }
 ],
 "metadata": {
  "kernelspec": {
   "display_name": "Python 3",
   "language": "python",
   "name": "python3"
  },
  "language_info": {
   "codemirror_mode": {
    "name": "ipython",
    "version": 3
   },
   "file_extension": ".py",
   "mimetype": "text/x-python",
   "name": "python",
   "nbconvert_exporter": "python",
   "pygments_lexer": "ipython3",
   "version": "3.8.8"
  }
 },
 "nbformat": 4,
 "nbformat_minor": 5
}
