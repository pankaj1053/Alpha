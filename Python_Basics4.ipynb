{
 "cells": [
  {
   "cell_type": "code",
   "execution_count": 1,
   "id": "dfd222f4-7cb2-44f8-82a5-ba1353b5cf34",
   "metadata": {},
   "outputs": [],
   "source": [
    "#Arithmetic Operator \" +,-,*,/,%,//,** \""
   ]
  },
  {
   "cell_type": "code",
   "execution_count": 2,
   "id": "eab433c7-9ac5-463f-a290-9fde5b1d819e",
   "metadata": {},
   "outputs": [
    {
     "name": "stdout",
     "output_type": "stream",
     "text": [
      "7\n",
      "3\n",
      "10\n",
      "2.5\n",
      "1\n",
      "2\n",
      "25\n"
     ]
    }
   ],
   "source": [
    "variable1 , variable2=5,2\n",
    "print(variable1+variable2)\n",
    "print(variable1-variable2)\n",
    "print(variable1*variable2)\n",
    "print(variable1/variable2)\n",
    "print(variable1%variable2)      #Modulo Division\n",
    "print(variable1//variable2)     #Floor Division\n",
    "print(variable1**variable2)     #Exponent(**)"
   ]
  },
  {
   "cell_type": "code",
   "execution_count": 3,
   "id": "a888f6e5-55fc-4bb1-a181-328e33d6e604",
   "metadata": {},
   "outputs": [],
   "source": [
    "#Comparision Operator \" >,<,==,!=,>=,<= \""
   ]
  },
  {
   "cell_type": "code",
   "execution_count": 4,
   "id": "45c86a94-ba4b-4614-a0f2-b40089ed52fe",
   "metadata": {},
   "outputs": [
    {
     "name": "stdout",
     "output_type": "stream",
     "text": [
      "False\n",
      "True\n",
      "False\n",
      "True\n",
      "True\n",
      "False\n"
     ]
    }
   ],
   "source": [
    "print(variable1<variable2)\n",
    "print(variable1>variable2)\n",
    "print(variable1==variable2)  #Is equal to \n",
    "print(variable1!=variable2)  #Not equal to\n",
    "print(variable1>=variable2)\n",
    "print(variable1<=variable2)"
   ]
  },
  {
   "cell_type": "code",
   "execution_count": 5,
   "id": "bddb87d2-9836-40aa-9f3a-97abbba068e1",
   "metadata": {},
   "outputs": [],
   "source": [
    "#Logical Operator \" and,or,not \""
   ]
  },
  {
   "cell_type": "code",
   "execution_count": 6,
   "id": "53f652c6-cde7-429d-a0e6-b091df4e2131",
   "metadata": {},
   "outputs": [
    {
     "name": "stdout",
     "output_type": "stream",
     "text": [
      "False\n",
      "True\n",
      "True\n"
     ]
    }
   ],
   "source": [
    "variable1,variable2=True,False\n",
    "print(variable1 and variable2)\n",
    "print(variable1 or variable2)\n",
    "print( not variable2)"
   ]
  },
  {
   "cell_type": "code",
   "execution_count": 7,
   "id": "9b98958f-204a-4860-ac25-9e8419591517",
   "metadata": {},
   "outputs": [],
   "source": [
    "#Bitwise Operator \" &, |, ~, ^, >>, << \""
   ]
  },
  {
   "cell_type": "code",
   "execution_count": 10,
   "id": "b0c246d5-e692-47a4-83ae-f31fb0367f53",
   "metadata": {},
   "outputs": [
    {
     "name": "stdout",
     "output_type": "stream",
     "text": [
      "3\n",
      "7\n",
      "-8\n",
      "4\n",
      "0\n",
      "12\n"
     ]
    }
   ],
   "source": [
    "variable1, variable2 = 3,7     #Decimal to bitwise 3- 00000011 & 7- 00000111\n",
    "print(variable1&variable2)     #Bitwise AND -> 00000011 & 00000111 -> 3\n",
    "print(variable1|variable2)     #Bitwise OR-> 00000011|00000111 ->7\n",
    "print(~variable2)              #Bitwise NOT-> ~00000111 ->11111000->8\n",
    "print(variable1^variable2)     #Bitwise XOR-> 00000011^00000111 ->4\n",
    "print(variable1>>2)            #Bitwise Rightshift 00000011>>2 ->00000000\n",
    "print(variable1<<2)            #Bitwise Leftshift 00000011<<2 ->00001100 ->12"
   ]
  },
  {
   "cell_type": "code",
   "execution_count": 11,
   "id": "489e7a5c-d810-4701-9e0b-03f8ecc81e60",
   "metadata": {},
   "outputs": [],
   "source": [
    "#Assignment Operators \" =, +=, -=, /=, //=, **=, &=, |=, ^=, >>=, <<= \""
   ]
  },
  {
   "cell_type": "code",
   "execution_count": 12,
   "id": "611b495a-1600-443b-bf35-1e473d18a092",
   "metadata": {},
   "outputs": [
    {
     "name": "stdout",
     "output_type": "stream",
     "text": [
      "44\n",
      "37\n",
      "148\n",
      "37.0\n",
      "17.0\n",
      "4.0\n",
      "256.0\n"
     ]
    }
   ],
   "source": [
    "age = 40\n",
    "age+=4\n",
    "print(age)\n",
    "age-=7\n",
    "print(age)\n",
    "age*=4\n",
    "print(age)\n",
    "age/=4\n",
    "print(age)\n",
    "age%=20\n",
    "print(age)\n",
    "age //=4\n",
    "print(age)\n",
    "age**=4\n",
    "print(age)"
   ]
  },
  {
   "cell_type": "code",
   "execution_count": 13,
   "id": "32fc7f20-16e6-4894-ae74-4193b797f735",
   "metadata": {},
   "outputs": [],
   "source": [
    "#Identitiy operator(Special Operator)\n",
    "#\"is and is not are the two special operator\""
   ]
  },
  {
   "cell_type": "code",
   "execution_count": 14,
   "id": "1e3818e3-9b85-411e-a93f-7acdc6e89900",
   "metadata": {},
   "outputs": [
    {
     "name": "stdout",
     "output_type": "stream",
     "text": [
      "False\n",
      "True\n"
     ]
    }
   ],
   "source": [
    "variable1 = 20\n",
    "variable2 = 23\n",
    "print(variable1 is variable2)\n",
    "print(variable1 is not variable2)"
   ]
  },
  {
   "cell_type": "code",
   "execution_count": 16,
   "id": "566e7fc5-9f16-4d9d-ae48-552692193a6b",
   "metadata": {},
   "outputs": [
    {
     "name": "stdout",
     "output_type": "stream",
     "text": [
      "False\n"
     ]
    }
   ],
   "source": [
    "myList1=[1,32,23]\n",
    "myList2=[1,32,23]\n",
    "print(myList1 is myList2)"
   ]
  },
  {
   "cell_type": "code",
   "execution_count": 17,
   "id": "7e1fb9b9-728d-4627-8849-19db661b7581",
   "metadata": {},
   "outputs": [
    {
     "name": "stdout",
     "output_type": "stream",
     "text": [
      "False\n"
     ]
    }
   ],
   "source": [
    "myString1=\"pankaj\"\n",
    "myString2=\"pankaj\"\n",
    "print(myString1 is not myString2)"
   ]
  },
  {
   "cell_type": "code",
   "execution_count": 18,
   "id": "6731f75b-6782-4882-8942-d003ca2458c0",
   "metadata": {},
   "outputs": [],
   "source": [
    "#Membership operator(Special operators)\n",
    "#in and not in"
   ]
  },
  {
   "cell_type": "code",
   "execution_count": 20,
   "id": "c68374bc-ce95-4feb-b179-09e96dbaece9",
   "metadata": {},
   "outputs": [
    {
     "name": "stdout",
     "output_type": "stream",
     "text": [
      "True\n",
      "False\n"
     ]
    }
   ],
   "source": [
    "myList3=['a',22,'b',100]\n",
    "print(22 in myList3)\n",
    "print('b' not in myList3)"
   ]
  },
  {
   "cell_type": "code",
   "execution_count": 24,
   "id": "a1298844-23a2-4b8d-a9e4-fac364ce0f5a",
   "metadata": {},
   "outputs": [
    {
     "name": "stdout",
     "output_type": "stream",
     "text": [
      "True\n"
     ]
    }
   ],
   "source": [
    "myDictionary = {123: 'Apple', 200:'Banana'}\n",
    "print(123 in myDictionary)"
   ]
  },
  {
   "cell_type": "code",
   "execution_count": 29,
   "id": "b7637296-0c14-49a6-8227-53aa24bda557",
   "metadata": {},
   "outputs": [
    {
     "name": "stdout",
     "output_type": "stream",
     "text": [
      "num is less than 15\n",
      "outside if block\n"
     ]
    }
   ],
   "source": [
    "#Example of if-statement\n",
    "num=20\n",
    "if num<150:\n",
    "    print('num is less than 15')\n",
    "    print('outside if block')"
   ]
  },
  {
   "cell_type": "code",
   "execution_count": 30,
   "id": "afc0ffed-480a-4e91-81cd-8f88533b9b6f",
   "metadata": {},
   "outputs": [
    {
     "name": "stdout",
     "output_type": "stream",
     "text": [
      "Inside if\n",
      "Outside if\n",
      "True\n"
     ]
    }
   ],
   "source": [
    "if -1:\n",
    "    print(\"Inside if\")\n",
    "print(\"Outside if\")\n",
    "\n",
    "val=-1\n",
    "print(bool(val))"
   ]
  },
  {
   "cell_type": "code",
   "execution_count": 33,
   "id": "43735bdd-a187-4ccb-8f56-dbd1bc0f499c",
   "metadata": {},
   "outputs": [
    {
     "name": "stdout",
     "output_type": "stream",
     "text": [
      "Child\n"
     ]
    }
   ],
   "source": [
    "#if-else statement\n",
    "age=22\n",
    "if age>32:\n",
    "    print('Adult')\n",
    "else:\n",
    "    print('Child')"
   ]
  },
  {
   "cell_type": "code",
   "execution_count": 36,
   "id": "09a8b9a3-a38a-4cd0-bf9a-b7f2b93f91f0",
   "metadata": {},
   "outputs": [
    {
     "name": "stdout",
     "output_type": "stream",
     "text": [
      "child\n"
     ]
    }
   ],
   "source": [
    "#if-elif-else Statement\n",
    "age=20\n",
    "if age<20:\n",
    "    print('Adult')\n",
    "elif age>20:\n",
    "    print('teen')\n",
    "else:\n",
    "    print('child')"
   ]
  },
  {
   "cell_type": "code",
   "execution_count": 40,
   "id": "53d4acbe-e5d8-4b00-8632-326ef6fed2e9",
   "metadata": {},
   "outputs": [
    {
     "name": "stdout",
     "output_type": "stream",
     "text": [
      "Child\n",
      "This will always get executed\n"
     ]
    }
   ],
   "source": [
    "#Nested if Statement\n",
    "age=2\n",
    "if age>=20:\n",
    "    if age<=26:\n",
    "        print('Teen')\n",
    "    else:\n",
    "        print('Adult')\n",
    "else:\n",
    "    print('Child')\n",
    "    \n",
    "print('This will always get executed')"
   ]
  },
  {
   "cell_type": "code",
   "execution_count": 44,
   "id": "fdca0e90-f5a0-4323-9786-63d1c24f530e",
   "metadata": {},
   "outputs": [
    {
     "name": "stdout",
     "output_type": "stream",
     "text": [
      "The person is in category: Adult\n"
     ]
    }
   ],
   "source": [
    "#Combineing operator in if-statement\n",
    "age=305\n",
    "person_type='not sure'\n",
    "if (age>= 30) and (age<=40):\n",
    "    person_type='teen'\n",
    "elif (age>=0) and (age<=29):\n",
    "    person_type='Child'\n",
    "else:\n",
    "    person_type='Adult'\n",
    "print('The person is in category: {}'.format(person_type))"
   ]
  },
  {
   "cell_type": "code",
   "execution_count": 47,
   "id": "434a06b0-2b64-44b0-9e55-550167b47ff3",
   "metadata": {},
   "outputs": [
    {
     "name": "stdout",
     "output_type": "stream",
     "text": [
      "sum of the array is:15\n"
     ]
    }
   ],
   "source": [
    "#While Loop\n",
    "#it is checked again after one iteration\n",
    "#Continues untill the test_expression evaluates to False\n",
    "\n",
    "#Find the sum of all the numbers in the list\n",
    "myList=[1,2,3,4,5]\n",
    "sum=0\n",
    "index=0\n",
    "while index<len(myList):\n",
    "    sum+=myList[index]\n",
    "    index+=1\n",
    "print('sum of the array is:{}'.format(sum))"
   ]
  },
  {
   "cell_type": "code",
   "execution_count": 48,
   "id": "6c855035-c923-4c8f-bd18-bae234d4b31b",
   "metadata": {},
   "outputs": [
    {
     "name": "stdout",
     "output_type": "stream",
     "text": [
      "0\n",
      "1\n",
      "2\n",
      "3\n",
      "4\n"
     ]
    }
   ],
   "source": [
    "#range() function\n",
    "#range(start,stop,step size)\n",
    "for element in range(5):\n",
    "    print(element)"
   ]
  },
  {
   "cell_type": "code",
   "execution_count": 49,
   "id": "f273b01f-eb7a-4f57-b0c7-0dec9b761172",
   "metadata": {},
   "outputs": [
    {
     "name": "stdout",
     "output_type": "stream",
     "text": [
      "1\n",
      "5\n",
      "9\n",
      "13\n",
      "17\n",
      "21\n",
      "25\n",
      "29\n",
      "33\n",
      "37\n"
     ]
    }
   ],
   "source": [
    "#print range numbers from 0 to 40 but with step size of 12\n",
    "for element in range(1,40,4):\n",
    "    print (element)"
   ]
  },
  {
   "cell_type": "code",
   "execution_count": 50,
   "id": "b9249834-13df-4d07-83f8-94619af23713",
   "metadata": {},
   "outputs": [
    {
     "name": "stdout",
     "output_type": "stream",
     "text": [
      "1\n",
      "2\n",
      "2\n",
      "3\n",
      "4\n",
      "2\n",
      "pankaj\n"
     ]
    }
   ],
   "source": [
    "myList=[1,2,2,3,4,2,\"pankaj\"]\n",
    "#Iterate over myList using index\n",
    "#for index in range(len(myList)):\n",
    "# print(myList[index])\n",
    "for element in myList:\n",
    "    print(element)"
   ]
  },
  {
   "cell_type": "code",
   "execution_count": 51,
   "id": "dd1b04b2-e268-45bd-985c-fd224a9d44eb",
   "metadata": {},
   "outputs": [
    {
     "name": "stdout",
     "output_type": "stream",
     "text": [
      "pankaj\n",
      "annu\n",
      "sushma\n",
      "ashok\n",
      "completed the name list\n"
     ]
    }
   ],
   "source": [
    "#for loop with else\n",
    "names = ['pankaj','annu','sushma','ashok']\n",
    "#iterating over the list\n",
    "for name in names:\n",
    "    print(name)\n",
    "else:\n",
    "    print(\"completed the name list\")"
   ]
  },
  {
   "cell_type": "code",
   "execution_count": 54,
   "id": "0549c93e-92db-431a-ae21-a0115e9d6b9f",
   "metadata": {},
   "outputs": [
    {
     "name": "stdout",
     "output_type": "stream",
     "text": [
      "pankaj\n",
      "annu\n",
      "sushma\n",
      "ashok\n",
      "completed the name list\n",
      "totally outside the for else block\n"
     ]
    }
   ],
   "source": [
    "#let's use the break keyword\n",
    "for name in names:\n",
    "    print(name)\n",
    "    if name==\"didi\":\n",
    "        break\n",
    "else:\n",
    "    print(\"completed the name list\")\n",
    "print('totally outside the for else block')"
   ]
  },
  {
   "cell_type": "code",
   "execution_count": 59,
   "id": "420c0578-a816-4a5b-88e5-6a6714678b7d",
   "metadata": {},
   "outputs": [
    {
     "name": "stdin",
     "output_type": "stream",
     "text": [
      "please enter a positive number: 1000\n"
     ]
    },
    {
     "name": "stdout",
     "output_type": "stream",
     "text": [
      "[1, 2, 4, 5, 8, 10, 20, 25, 40, 50, 100, 125, 200, 250, 500]\n"
     ]
    }
   ],
   "source": [
    "#program to calculate the divisiors of the number\n",
    "inputNumber=input(\"please enter a positive number:\")\n",
    "number= int(inputNumber)\n",
    "listofDivisors=[1]\n",
    "for divisor in range(2,int(number/2)+1):\n",
    "    if(number%divisor == 0):\n",
    "        listofDivisors.append(divisor)\n",
    "else:\n",
    "    print(listofDivisors)"
   ]
  },
  {
   "cell_type": "code",
   "execution_count": 62,
   "id": "e1c434b9-6bd9-40dc-bac6-19963cac426b",
   "metadata": {},
   "outputs": [
    {
     "name": "stdout",
     "output_type": "stream",
     "text": [
      "pankaj\n",
      "annu\n",
      "Roshini\n",
      "For is completed and we are in else part\n",
      "Totally outside the for & else loop\n"
     ]
    }
   ],
   "source": [
    "#Use of break\n",
    "names=['pankaj','annu','Roshini']\n",
    "for name in names:\n",
    "    if name == \"Roshin\":\n",
    "        break\n",
    "    print(name)\n",
    "else:\n",
    "    print('For is completed and we are in else part')\n",
    "print(\"Totally outside the for & else loop\")"
   ]
  },
  {
   "cell_type": "code",
   "execution_count": 67,
   "id": "79238d9b-28c0-4a36-a054-c8df5934cc64",
   "metadata": {},
   "outputs": [
    {
     "name": "stdout",
     "output_type": "stream",
     "text": [
      "annu\n",
      "munna\n",
      "sushma\n",
      "For is completed and we are in else part\n",
      "Totally outside the for & else loop\n"
     ]
    }
   ],
   "source": [
    "#use of continue\n",
    "names = ['pankaj','annu','munna','sushma']\n",
    "for name in names:\n",
    "    if name == 'pankaj':\n",
    "        continue\n",
    "    print(name)\n",
    "else:\n",
    "    print('For is completed and we are in else part')\n",
    "print(\"Totally outside the for & else loop\")"
   ]
  },
  {
   "cell_type": "code",
   "execution_count": null,
   "id": "c0b4c151-f517-4ace-9bc8-3f848d343dab",
   "metadata": {},
   "outputs": [],
   "source": [
    "#First three divisors of a number except 2 & 3\n",
    "inputNumber = input(\"please enter a positive number:\")\n",
    "number=int(inputNumber)\n",
    "listofDivisors=[1]\n",
    "for divisor in range(2,int(number/2)+1):\n",
    "    if number%divisor ==0:\n",
    "        if divisor in [2,3]:\n",
    "            continue\n",
    "        elif len(listofDivisors) == 3:\n",
    "            break\n",
    "        listofDivisors.append(divisor)\n",
    "print(listofDivisors)       "
   ]
  },
  {
   "cell_type": "code",
   "execution_count": null,
   "id": "a2f3fd3b-206f-40b4-b7c6-f883a3ffd986",
   "metadata": {},
   "outputs": [],
   "source": []
  }
 ],
 "metadata": {
  "kernelspec": {
   "display_name": "Python 3",
   "language": "python",
   "name": "python3"
  },
  "language_info": {
   "codemirror_mode": {
    "name": "ipython",
    "version": 3
   },
   "file_extension": ".py",
   "mimetype": "text/x-python",
   "name": "python",
   "nbconvert_exporter": "python",
   "pygments_lexer": "ipython3",
   "version": "3.8.8"
  }
 },
 "nbformat": 4,
 "nbformat_minor": 5
}
