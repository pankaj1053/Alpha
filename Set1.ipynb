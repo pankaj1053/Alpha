{
 "cells": [
  {
   "cell_type": "code",
   "execution_count": 2,
   "id": "858294e8-4dd0-468a-a55c-6548eecbb483",
   "metadata": {},
   "outputs": [],
   "source": [
    "#Working with Python set\n",
    "#Python set\n",
    "#How to create set?\n",
    "#**Insertion order is not preserved but we can sort the elements**\n",
    "#Indexing and slicing is not allowed for the set.\n",
    "#Hetrogeneous elements are allowed.\n",
    "#We can represent set element in curly bracket with comma seperation.\n",
    "#Mathematical opertaion can be applied like union,intersecton,differnece.\n",
    "#There are crurrently two built in set types:set(mutable) and frozenset(immutable and hashable)"
   ]
  },
  {
   "cell_type": "code",
   "execution_count": 4,
   "id": "e78de662-ac56-4eb5-88e4-80e1127c084f",
   "metadata": {},
   "outputs": [
    {
     "name": "stdout",
     "output_type": "stream",
     "text": [
      "<class 'set'>\n"
     ]
    },
    {
     "data": {
      "text/plain": [
       "{'Apple', 'Banana', 'Mango', 'Orange'}"
      ]
     },
     "execution_count": 4,
     "metadata": {},
     "output_type": "execute_result"
    }
   ],
   "source": [
    "FruitBasket={\"Apple\",\"Mango\",\"Orange\",\"Banana\",\"Apple\",\"Mango\"}\n",
    "print(type(FruitBasket))\n",
    "FruitBasket"
   ]
  },
  {
   "cell_type": "code",
   "execution_count": 6,
   "id": "4129a4f7-e76c-4758-a4d5-591bbc61868d",
   "metadata": {},
   "outputs": [
    {
     "name": "stdout",
     "output_type": "stream",
     "text": [
      "<class 'dict'>\n"
     ]
    }
   ],
   "source": [
    "#We should not use empty curly bracs-treated as dict\n",
    "PySet={}\n",
    "print(type(PySet))"
   ]
  },
  {
   "cell_type": "code",
   "execution_count": 12,
   "id": "686839fd-b26f-4f1b-a524-ad704d380d8f",
   "metadata": {},
   "outputs": [
    {
     "data": {
      "text/plain": [
       "{1, 2, 3, 4, 25, 32, 52}"
      ]
     },
     "execution_count": 12,
     "metadata": {},
     "output_type": "execute_result"
    }
   ],
   "source": [
    "#Set doesn't allow dupliates but list allows\n",
    "List=[1,2,3,4,32,4,52,2,25,52,1]\n",
    "UniqueChar=set(List)\n",
    "UniqueChar"
   ]
  },
  {
   "cell_type": "code",
   "execution_count": 15,
   "id": "78432a75-08cc-4330-9b67-decaf7f3e072",
   "metadata": {},
   "outputs": [
    {
     "name": "stdout",
     "output_type": "stream",
     "text": [
      "0\n",
      "1\n",
      "2\n",
      "3\n",
      "4\n",
      "5\n"
     ]
    }
   ],
   "source": [
    "#Iteation over set\n",
    "NumSet=set([0,1,2,3,4,5])\n",
    "for n in NumSet:\n",
    "    print(n)"
   ]
  },
  {
   "cell_type": "code",
   "execution_count": null,
   "id": "47a982ca-a5d6-4a19-af1c-0bc6aa5e0ef2",
   "metadata": {},
   "outputs": [],
   "source": [
    "#Different python set method-add(),clear(),copy(),difference(),difference_update(),discard(),intersection(),intersection_update()\n",
    "#isdisjoint(),issubset(),issuperset(),pop(),remove(),symmetric_difference_update(),union(),update()"
   ]
  },
  {
   "cell_type": "code",
   "execution_count": 17,
   "id": "8d0c381e-1c5d-40dc-a644-6c7629b27891",
   "metadata": {},
   "outputs": [
    {
     "name": "stdout",
     "output_type": "stream",
     "text": [
      "{}\n"
     ]
    },
    {
     "ename": "AttributeError",
     "evalue": "'dict' object has no attribute 'add'",
     "output_type": "error",
     "traceback": [
      "\u001b[1;31m---------------------------------------------------------------------------\u001b[0m",
      "\u001b[1;31mAttributeError\u001b[0m                            Traceback (most recent call last)",
      "\u001b[1;32m~\\AppData\\Local\\Temp/ipykernel_2444/3843242084.py\u001b[0m in \u001b[0;36m<module>\u001b[1;34m\u001b[0m\n\u001b[0;32m      1\u001b[0m \u001b[0mPySet\u001b[0m\u001b[1;33m=\u001b[0m\u001b[1;33m{\u001b[0m\u001b[1;33m}\u001b[0m\u001b[1;33m\u001b[0m\u001b[1;33m\u001b[0m\u001b[0m\n\u001b[0;32m      2\u001b[0m \u001b[0mprint\u001b[0m\u001b[1;33m(\u001b[0m\u001b[0mPySet\u001b[0m\u001b[1;33m)\u001b[0m\u001b[1;33m\u001b[0m\u001b[1;33m\u001b[0m\u001b[0m\n\u001b[1;32m----> 3\u001b[1;33m \u001b[0mPySet\u001b[0m\u001b[1;33m.\u001b[0m\u001b[0madd\u001b[0m\u001b[1;33m(\u001b[0m\u001b[1;36m1\u001b[0m\u001b[1;33m)\u001b[0m\u001b[1;33m\u001b[0m\u001b[1;33m\u001b[0m\u001b[0m\n\u001b[0m\u001b[0;32m      4\u001b[0m \u001b[0mprint\u001b[0m\u001b[1;33m(\u001b[0m\u001b[0mPySet\u001b[0m\u001b[1;33m)\u001b[0m\u001b[1;33m\u001b[0m\u001b[1;33m\u001b[0m\u001b[0m\n",
      "\u001b[1;31mAttributeError\u001b[0m: 'dict' object has no attribute 'add'"
     ]
    }
   ],
   "source": [
    "PySet={}\n",
    "print(PySet)\n",
    "PySet.add(1)\n",
    "print(PySet)"
   ]
  },
  {
   "cell_type": "code",
   "execution_count": 18,
   "id": "537a6d2c-79c4-44a4-a7fd-346f5cf7c03d",
   "metadata": {},
   "outputs": [
    {
     "ename": "TypeError",
     "evalue": "set.add() takes exactly one argument (2 given)",
     "output_type": "error",
     "traceback": [
      "\u001b[1;31m---------------------------------------------------------------------------\u001b[0m",
      "\u001b[1;31mTypeError\u001b[0m                                 Traceback (most recent call last)",
      "\u001b[1;32m~\\AppData\\Local\\Temp/ipykernel_2444/4188925588.py\u001b[0m in \u001b[0;36m<module>\u001b[1;34m\u001b[0m\n\u001b[0;32m      1\u001b[0m \u001b[0mPySet\u001b[0m\u001b[1;33m=\u001b[0m\u001b[1;33m{\u001b[0m\u001b[1;36m1\u001b[0m\u001b[1;33m}\u001b[0m\u001b[1;33m\u001b[0m\u001b[1;33m\u001b[0m\u001b[0m\n\u001b[1;32m----> 2\u001b[1;33m \u001b[0mPySet\u001b[0m\u001b[1;33m.\u001b[0m\u001b[0madd\u001b[0m\u001b[1;33m(\u001b[0m\u001b[1;36m1\u001b[0m\u001b[1;33m,\u001b[0m\u001b[1;36m2\u001b[0m\u001b[1;33m)\u001b[0m\u001b[1;33m\u001b[0m\u001b[1;33m\u001b[0m\u001b[0m\n\u001b[0m\u001b[0;32m      3\u001b[0m \u001b[0mprint\u001b[0m\u001b[1;33m(\u001b[0m\u001b[0mPySet\u001b[0m\u001b[1;33m)\u001b[0m\u001b[1;33m\u001b[0m\u001b[1;33m\u001b[0m\u001b[0m\n",
      "\u001b[1;31mTypeError\u001b[0m: set.add() takes exactly one argument (2 given)"
     ]
    }
   ],
   "source": [
    "PySet={1}\n",
    "PySet.add(1,2)\n",
    "print(PySet)"
   ]
  },
  {
   "cell_type": "code",
   "execution_count": 19,
   "id": "5d2e874e-792a-4a1a-817c-6d34490a0b6a",
   "metadata": {},
   "outputs": [
    {
     "ename": "TypeError",
     "evalue": "unhashable type: 'list'",
     "output_type": "error",
     "traceback": [
      "\u001b[1;31m---------------------------------------------------------------------------\u001b[0m",
      "\u001b[1;31mTypeError\u001b[0m                                 Traceback (most recent call last)",
      "\u001b[1;32m~\\AppData\\Local\\Temp/ipykernel_2444/2453128920.py\u001b[0m in \u001b[0;36m<module>\u001b[1;34m\u001b[0m\n\u001b[0;32m      1\u001b[0m \u001b[0mPySet\u001b[0m\u001b[1;33m=\u001b[0m\u001b[1;33m{\u001b[0m\u001b[1;36m1\u001b[0m\u001b[1;33m}\u001b[0m\u001b[1;33m\u001b[0m\u001b[1;33m\u001b[0m\u001b[0m\n\u001b[1;32m----> 2\u001b[1;33m \u001b[0mPySet\u001b[0m\u001b[1;33m.\u001b[0m\u001b[0madd\u001b[0m\u001b[1;33m(\u001b[0m\u001b[1;33m[\u001b[0m\u001b[1;36m1\u001b[0m\u001b[1;33m,\u001b[0m\u001b[1;36m2\u001b[0m\u001b[1;33m]\u001b[0m\u001b[1;33m)\u001b[0m\u001b[1;33m\u001b[0m\u001b[1;33m\u001b[0m\u001b[0m\n\u001b[0m\u001b[0;32m      3\u001b[0m \u001b[0mprint\u001b[0m\u001b[1;33m(\u001b[0m\u001b[0mPySet\u001b[0m\u001b[1;33m)\u001b[0m\u001b[1;33m\u001b[0m\u001b[1;33m\u001b[0m\u001b[0m\n",
      "\u001b[1;31mTypeError\u001b[0m: unhashable type: 'list'"
     ]
    }
   ],
   "source": [
    "PySet={1}\n",
    "PySet.add([1,2])\n",
    "print(PySet)"
   ]
  },
  {
   "cell_type": "code",
   "execution_count": 24,
   "id": "008ae282-e3b9-4239-99d1-9aad730172ae",
   "metadata": {},
   "outputs": [
    {
     "data": {
      "text/plain": [
       "{(1, 20), 1}"
      ]
     },
     "execution_count": 24,
     "metadata": {},
     "output_type": "execute_result"
    }
   ],
   "source": [
    "PySet={1}\n",
    "PySet.add((1,20))\n",
    "PySet"
   ]
  },
  {
   "cell_type": "code",
   "execution_count": 28,
   "id": "53361024-c1c0-4548-98ad-aafe850d8e71",
   "metadata": {},
   "outputs": [
    {
     "data": {
      "text/plain": [
       "set()"
      ]
     },
     "execution_count": 28,
     "metadata": {},
     "output_type": "execute_result"
    }
   ],
   "source": [
    "PySet={1,2,3,4}\n",
    "PySet.clear()\n",
    "PySet"
   ]
  },
  {
   "cell_type": "code",
   "execution_count": 33,
   "id": "a0b335f7-6882-4f56-a09b-ed1523a6fc9e",
   "metadata": {},
   "outputs": [
    {
     "data": {
      "text/plain": [
       "{'Big Data', 'Data Sciecne', 'a', 'j', 'k', 'n', 'p'}"
      ]
     },
     "execution_count": 33,
     "metadata": {},
     "output_type": "execute_result"
    }
   ],
   "source": [
    "#set update()-it adds elements form a set to a set.\n",
    "DataSet=set(\"pankaj\")\n",
    "DataSet.update([\"Data Sciecne\",\"Big Data\"])\n",
    "DataSet"
   ]
  },
  {
   "cell_type": "code",
   "execution_count": 35,
   "id": "421aed9e-25f5-4231-bd0e-554e931798d4",
   "metadata": {},
   "outputs": [
    {
     "data": {
      "text/plain": [
       "{0, 1, 2, 3, 4, 10, 20, 30, 40, 50, 60}"
      ]
     },
     "execution_count": 35,
     "metadata": {},
     "output_type": "execute_result"
    }
   ],
   "source": [
    "A={10,20,30};B={40,50,60,10}\n",
    "A.update(B,range(5))\n",
    "A"
   ]
  },
  {
   "cell_type": "code",
   "execution_count": 37,
   "id": "098f05fc-0076-4bbd-9ac2-1bedc129c476",
   "metadata": {},
   "outputs": [
    {
     "name": "stdout",
     "output_type": "stream",
     "text": [
      "return value is: c\n"
     ]
    },
    {
     "data": {
      "text/plain": [
       "{'a', 'b', 'd'}"
      ]
     },
     "execution_count": 37,
     "metadata": {},
     "output_type": "execute_result"
    }
   ],
   "source": [
    "#Python set pop()-removes an arbitrary element from the set and returns the element removed.\n",
    "#set.pop()\n",
    "A={'a','b','c','d'}\n",
    "print(\"return value is:\",A.pop())\n",
    "A"
   ]
  },
  {
   "cell_type": "code",
   "execution_count": 41,
   "id": "e5684a64-d625-4f92-8220-8bae42ccae7a",
   "metadata": {},
   "outputs": [
    {
     "name": "stdout",
     "output_type": "stream",
     "text": [
      "{1, 2, 3, 4, 5}\n"
     ]
    },
    {
     "data": {
      "text/plain": [
       "{2, 3, 4, 5}"
      ]
     },
     "execution_count": 41,
     "metadata": {},
     "output_type": "execute_result"
    }
   ],
   "source": [
    "NumSet=set([0,1,2,3,4,5])\n",
    "NumSet.pop()\n",
    "print(NumSet)\n",
    "NumSet.pop()\n",
    "NumSet"
   ]
  },
  {
   "cell_type": "code",
   "execution_count": 48,
   "id": "32f8e1a8-d2b1-4177-bb16-b5d6dbe8fe42",
   "metadata": {},
   "outputs": [
    {
     "name": "stdout",
     "output_type": "stream",
     "text": [
      "{0, 1, 2, 3, 4}\n"
     ]
    }
   ],
   "source": [
    "#Python set remove()-It searches for the given element in the set and removes it but not a member of the set, key error will be raised\n",
    "NumSet=set([0,1,2,3,4,5])\n",
    "NumSet.remove(5)\n",
    "print(NumSet)"
   ]
  },
  {
   "cell_type": "code",
   "execution_count": 50,
   "id": "9917f4c1-3e19-4829-a99f-b0bb4bc65fdd",
   "metadata": {},
   "outputs": [
    {
     "name": "stdout",
     "output_type": "stream",
     "text": [
      "{0, 1, 2, 3, 5}\n"
     ]
    },
    {
     "data": {
      "text/plain": [
       "{0, 1, 2, 3, 5}"
      ]
     },
     "execution_count": 50,
     "metadata": {},
     "output_type": "execute_result"
    }
   ],
   "source": [
    "#python set discard()-Element removed from the set if it is the member,if not then nothing will be done\n",
    "NumSet=set([0,1,2,3,4,5])\n",
    "NumSet.discard(4)\n",
    "print(NumSet)\n",
    "NumSet.discard(9)     #Noting will happen here/No error\n",
    "NumSet"
   ]
  },
  {
   "cell_type": "code",
   "execution_count": 52,
   "id": "ff7eb16b-16d5-4beb-9a00-279a1d275196",
   "metadata": {},
   "outputs": [
    {
     "name": "stdout",
     "output_type": "stream",
     "text": [
      "{'d'}\n",
      "{'d'}\n"
     ]
    }
   ],
   "source": [
    "#Intersection \n",
    "x={\"a\",\"b\",\"c\",\"d\"}\n",
    "y={\"d\",\"e\",\"f\",\"g\"}\n",
    "print(x.intersection(y))\n",
    "print(x & y)"
   ]
  },
  {
   "cell_type": "code",
   "execution_count": 57,
   "id": "1b14c280-6d5f-4470-b877-45d29a86f689",
   "metadata": {},
   "outputs": [
    {
     "name": "stdout",
     "output_type": "stream",
     "text": [
      "{'d'}\n"
     ]
    }
   ],
   "source": [
    "x={\"a\",\"b\",\"c\",\"d\"}\n",
    "y={\"d\",\"e\",\"f\",\"g\"}\n",
    "x.intersection_update(y)\n",
    "print(x & y)"
   ]
  },
  {
   "cell_type": "code",
   "execution_count": 55,
   "id": "3470e37a-b89e-417e-8dc6-09a8c0a5e193",
   "metadata": {},
   "outputs": [
    {
     "name": "stdout",
     "output_type": "stream",
     "text": [
      "{'g', 'b', 'a', 'c', 'e', 'd', 'f'}\n"
     ]
    }
   ],
   "source": [
    "x={\"a\",\"b\",\"c\",\"d\"}\n",
    "y={\"d\",\"e\",\"f\",\"g\"}\n",
    "x.union(y)\n",
    "print(x|y)"
   ]
  },
  {
   "cell_type": "code",
   "execution_count": 58,
   "id": "fab8cc29-beb9-4fdd-9012-1e9e397c8d1e",
   "metadata": {},
   "outputs": [
    {
     "name": "stdout",
     "output_type": "stream",
     "text": [
      "{'g', 'b', 'a', 'c', 'e', 'd', 'f'}\n"
     ]
    }
   ],
   "source": [
    "x={\"a\",\"b\",\"c\",\"d\"}\n",
    "y={\"d\",\"e\",\"f\",\"g\"}\n",
    "z=x|y\n",
    "print(z)"
   ]
  },
  {
   "cell_type": "code",
   "execution_count": null,
   "id": "ec328f49-f8da-4e2c-bea5-a75373b53ce0",
   "metadata": {},
   "outputs": [],
   "source": []
  }
 ],
 "metadata": {
  "kernelspec": {
   "display_name": "Python 3 (ipykernel)",
   "language": "python",
   "name": "python3"
  },
  "language_info": {
   "codemirror_mode": {
    "name": "ipython",
    "version": 3
   },
   "file_extension": ".py",
   "mimetype": "text/x-python",
   "name": "python",
   "nbconvert_exporter": "python",
   "pygments_lexer": "ipython3",
   "version": "3.9.7"
  }
 },
 "nbformat": 4,
 "nbformat_minor": 5
}
