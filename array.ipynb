{
 "cells": [
  {
   "cell_type": "code",
   "execution_count": 1,
   "id": "739b79bf-46a8-4b23-be30-778ed7c66a79",
   "metadata": {},
   "outputs": [],
   "source": [
    "#WORKING WITH PYTHON ARRAYS\n",
    "#IT IS THE COLLECTION FO ELEMENT OF SINGLE DATA TYPE\n",
    "#ARRAY OF INT,ARRAY OF STRING\n",
    "#THERE IS NO NATIVE ARRAY  DATA STR SO WE USE PYTHON LISTS INSTEAD OF AN ARRAY\n",
    "#WE CAN CREATE A PYTHON ARRAY USING COMMA SEPERATED ELEMENTS BETWEEN SQUARE BRACKETS[].\n",
    "#ARRAY INDEX IS THE POSTION OF ELEMENT IN THE ARRAY.IN PYTHON, ARRAY ARE ZERO INDEXED."
   ]
  },
  {
   "cell_type": "code",
   "execution_count": 2,
   "id": "a96e6064-64ac-44e7-9e42-cf22ca9209c0",
   "metadata": {},
   "outputs": [
    {
     "name": "stdout",
     "output_type": "stream",
     "text": [
      "4\n"
     ]
    }
   ],
   "source": [
    "#ACCESSING ELEMENTS OF ARRAY USING INDEXING\n",
    "arr1=[1,2,3,4,5]\n",
    "print(arr1[3])"
   ]
  },
  {
   "cell_type": "code",
   "execution_count": 3,
   "id": "e0cceb8e-8991-445c-893f-76de4fdf22fb",
   "metadata": {},
   "outputs": [
    {
     "name": "stdout",
     "output_type": "stream",
     "text": [
      "4\n"
     ]
    }
   ],
   "source": [
    "arr1=['pankaj','suraj','neeraj','jalaj']\n",
    "print(len(arr1))"
   ]
  },
  {
   "cell_type": "code",
   "execution_count": 4,
   "id": "4a7b8a28-7141-4880-9754-76b0f4c74c0d",
   "metadata": {},
   "outputs": [],
   "source": [
    "#ARRAY OPERTAIONS\n",
    "#TRAVERSE-IT PRINTS ALL THE ELEMENTS ONE BY ONE.\n",
    "#INSERTION-IT ADDS AN ELEMENT AT THE GIVEN INDEX.\n",
    "#DELETION-IT DELETES AN ELEMENT AT THE GIVEN INDEX.\n",
    "#SEARCH-IT SEARCHES AN ELEMENT USING THE GIVEN INDEX OR BY THE VALUE.\n",
    "#UPDATE-IT UPDATES AN ELEMENT AT THE GIVEN INDEX.\n",
    "#THE ARRAY CAN BE CREATED IN PYTHONBY IMPORTING THE ARRAY MODULETO THE PYTHON PROGRAM.\n",
    "#from array import*\n",
    "#arrayName=array(typecode,[initializers])"
   ]
  },
  {
   "cell_type": "code",
   "execution_count": 5,
   "id": "4ad4b5cc-ca9f-44af-91f5-ed3707c4825e",
   "metadata": {},
   "outputs": [
    {
     "name": "stdout",
     "output_type": "stream",
     "text": [
      "2\n",
      "5\n",
      "4\n"
     ]
    }
   ],
   "source": [
    "import array as arr\n",
    "a=arr.array('i',[2,3,4,5])\n",
    "print(a[0])\n",
    "print(a[-1])\n",
    "print(a[2])"
   ]
  },
  {
   "cell_type": "code",
   "execution_count": 6,
   "id": "fd3b5927-50a0-4486-9009-6497e2262926",
   "metadata": {},
   "outputs": [
    {
     "name": "stdout",
     "output_type": "stream",
     "text": [
      "array('i', [10, 2, 3, 4, 5, 6, 7, 8])\n",
      "array('i', [10, 2, 22, 23, 24, 6, 7, 8])\n"
     ]
    }
   ],
   "source": [
    "#arrays are mutable and their elements can be changed in a similar way like lists.\n",
    "import array as arr\n",
    "numbers=arr.array('i',[1,2,3,4,5,6,7,8])\n",
    "#changing first element\n",
    "numbers[0]=10\n",
    "print(numbers)\n",
    "#changing 3rd to 5th element\n",
    "numbers[2:5]=arr.array('i',[22,23,24])\n",
    "print(numbers)"
   ]
  },
  {
   "cell_type": "code",
   "execution_count": 7,
   "id": "6eddfa1c-e2f6-4341-ad16-24fe46a86893",
   "metadata": {},
   "outputs": [
    {
     "name": "stdout",
     "output_type": "stream",
     "text": [
      "array('i', [34, 35, 36, 37, 22, 23, 24, 25])\n"
     ]
    }
   ],
   "source": [
    "#ARRAY CONCATNATION\n",
    "import array as arr\n",
    "l1=arr.array('i',[34,35,36,37])\n",
    "l2=arr.array('i',[22,23,24,25])\n",
    "l3=arr.array('i')\n",
    "l3=l1+l2\n",
    "print(l3)"
   ]
  },
  {
   "cell_type": "code",
   "execution_count": null,
   "id": "d13e1689-a32a-4daf-b455-86ed0963efbb",
   "metadata": {},
   "outputs": [],
   "source": []
  }
 ],
 "metadata": {
  "kernelspec": {
   "display_name": "Python 3 (ipykernel)",
   "language": "python",
   "name": "python3"
  },
  "language_info": {
   "codemirror_mode": {
    "name": "ipython",
    "version": 3
   },
   "file_extension": ".py",
   "mimetype": "text/x-python",
   "name": "python",
   "nbconvert_exporter": "python",
   "pygments_lexer": "ipython3",
   "version": "3.9.7"
  }
 },
 "nbformat": 4,
 "nbformat_minor": 5
}
