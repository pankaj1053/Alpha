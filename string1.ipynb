{
 "cells": [
  {
   "cell_type": "code",
   "execution_count": 1,
   "id": "ccf02afe-5811-4b7c-854c-0d92b1a6ab9a",
   "metadata": {},
   "outputs": [],
   "source": [
    "#py_strings"
   ]
  },
  {
   "cell_type": "code",
   "execution_count": 3,
   "id": "fffdbd7c-22ae-4ff6-8aed-4b3c348c0152",
   "metadata": {},
   "outputs": [
    {
     "name": "stdout",
     "output_type": "stream",
     "text": [
      "First Second\n"
     ]
    }
   ],
   "source": [
    "first=\"First\"\n",
    "second=\"Second\"\n",
    "tat=first+\" \"+second\n",
    "print(tat)             #It won't add the, it will link both the string end to end"
   ]
  },
  {
   "cell_type": "code",
   "execution_count": 4,
   "id": "21726ff7-65c8-478b-92f0-d9a6d3550c14",
   "metadata": {},
   "outputs": [
    {
     "name": "stdout",
     "output_type": "stream",
     "text": [
      "spamspamspamspam\n"
     ]
    }
   ],
   "source": [
    "#string repeatition\n",
    "print(\"spam\"*4)"
   ]
  },
  {
   "cell_type": "code",
   "execution_count": 9,
   "id": "0825f372-5240-4c67-ab3a-2764e2d640dc",
   "metadata": {},
   "outputs": [
    {
     "name": "stdout",
     "output_type": "stream",
     "text": [
      "<class 'str'>\n",
      "<class 'str'>\n",
      "<class 'str'>\n",
      "<class 'str'>\n"
     ]
    }
   ],
   "source": [
    "#different type of quotes in python\n",
    "Pystr=\"PYTHON\"\n",
    "print(type(Pystr))\n",
    "Pystr='PYTHON'\n",
    "print(type(Pystr))\n",
    "Pystr=\"\"\"PYTHON\"\"\"\n",
    "print(type(Pystr))\n",
    "Pystr='''PYTHON'''\n",
    "print(type(Pystr))"
   ]
  },
  {
   "cell_type": "code",
   "execution_count": 11,
   "id": "9bbb6415-d895-49b5-b5ed-a6ce84f83cc5",
   "metadata": {},
   "outputs": [
    {
     "name": "stdout",
     "output_type": "stream",
     "text": [
      "PYTHON\n",
      "Machine Learning\n"
     ]
    }
   ],
   "source": [
    "#Assigning and Re-assigning\n",
    "MyStr=\"PYTHON\"\n",
    "print(MyStr)\n",
    "MyStr=\"Machine Learning\"\n",
    "print(MyStr)"
   ]
  },
  {
   "cell_type": "code",
   "execution_count": 13,
   "id": "e68dc0a1-8b8a-4e3a-a14d-4f30f070e258",
   "metadata": {},
   "outputs": [
    {
     "name": "stdout",
     "output_type": "stream",
     "text": [
      "PYTHON\n",
      "PYTHONPYTHON\n",
      "PYTHON PYTHON\n",
      "PYTHONPYTHONPYTHON\n",
      "P\n",
      "PYTHON\n"
     ]
    }
   ],
   "source": [
    "PyStr=\"PYTHON\"\n",
    "print(PyStr)\n",
    "print(PyStr+PyStr)\n",
    "print(PyStr+\" \"+PyStr)\n",
    "print(PyStr*3)\n",
    "print(PyStr[0])\n",
    "print(PyStr)"
   ]
  },
  {
   "cell_type": "code",
   "execution_count": 14,
   "id": "9266fd70-0362-484c-9615-6025aa5aef70",
   "metadata": {},
   "outputs": [
    {
     "name": "stdout",
     "output_type": "stream",
     "text": [
      "5\n",
      "5\n",
      "5\n"
     ]
    }
   ],
   "source": [
    " #Multiple assignment\n",
    "a=b=c=5\n",
    "print(a);print(b);print(c)"
   ]
  },
  {
   "cell_type": "code",
   "execution_count": 17,
   "id": "af474fd3-0195-4a4d-8c33-67ce3ab376a4",
   "metadata": {},
   "outputs": [
    {
     "name": "stdout",
     "output_type": "stream",
     "text": [
      "Py\n",
      "thon\n",
      "is \n"
     ]
    }
   ],
   "source": [
    "#String Slicing\n",
    "PyStr=\"Python is fun\"\n",
    "print(PyStr[0:2])\n",
    "print(PyStr[2:6])\n",
    "print(PyStr[7:10])"
   ]
  },
  {
   "cell_type": "code",
   "execution_count": 19,
   "id": "a6943b4c-850e-4564-9c9e-058654e8c3fe",
   "metadata": {},
   "outputs": [
    {
     "name": "stdout",
     "output_type": "stream",
     "text": [
      "P\n",
      "r\n",
      "u\n",
      "a\n"
     ]
    }
   ],
   "source": [
    "#String Indices and Indexing\n",
    "PyStr=\"Pankaj Kumar\"\n",
    "print(PyStr[0])\n",
    "print(PyStr[-1])\n",
    "print(PyStr[-4])\n",
    "print(PyStr[4])"
   ]
  },
  {
   "cell_type": "code",
   "execution_count": 20,
   "id": "3134483c-bde2-4daf-958e-ec4023e145d5",
   "metadata": {},
   "outputs": [
    {
     "name": "stdout",
     "output_type": "stream",
     "text": [
      "Hi\n",
      "Hello\n"
     ]
    }
   ],
   "source": [
    "#Python Raw String-\n",
    "PyStr=\"Hi\\nHello\"\n",
    "print(PyStr)"
   ]
  },
  {
   "cell_type": "code",
   "execution_count": 21,
   "id": "654a4d57-98fc-4fdd-93d7-9a71bb1ca600",
   "metadata": {},
   "outputs": [
    {
     "name": "stdout",
     "output_type": "stream",
     "text": [
      "Hi\\nHello\n"
     ]
    }
   ],
   "source": [
    "PyStr=r\"Hi\\nHello\"\n",
    "print(PyStr)"
   ]
  },
  {
   "cell_type": "code",
   "execution_count": 24,
   "id": "d362a06d-be2c-4dc1-bfe8-e64bb6af7ec4",
   "metadata": {},
   "outputs": [
    {
     "name": "stdout",
     "output_type": "stream",
     "text": [
      "Hi\\xHello\n"
     ]
    }
   ],
   "source": [
    "PyStr=r\"Hi\\xHello\"\n",
    "print(PyStr)"
   ]
  },
  {
   "cell_type": "code",
   "execution_count": 26,
   "id": "8e092daa-ad44-478f-814c-581ffc411a22",
   "metadata": {},
   "outputs": [
    {
     "name": "stdout",
     "output_type": "stream",
     "text": [
      "Python normal string is: Normal String\n",
      "PYTHON Unicode string is: Unicode String\n"
     ]
    }
   ],
   "source": [
    "#Unicode String-get stored as 16 bit unicode\n",
    "str1=r\"Normal String\"\n",
    "print(\"Python normal string is:\",str1)\n",
    "str2=u\"Unicode String\"\n",
    "print(\"PYTHON Unicode string is:\",str2)"
   ]
  },
  {
   "cell_type": "code",
   "execution_count": 27,
   "id": "8169a089-b48d-4ce2-948b-ed3344cc3733",
   "metadata": {},
   "outputs": [
    {
     "name": "stdout",
     "output_type": "stream",
     "text": [
      "A\n",
      "a\n",
      "A\n",
      "A\n"
     ]
    }
   ],
   "source": [
    "#Indexing With unicode Characters\n",
    "PyStr=u\"AgraAgraAgraAgra\"\n",
    "print(PyStr[0])\n",
    "print(PyStr[-1])\n",
    "print(PyStr[-4])\n",
    "print(PyStr[4])"
   ]
  },
  {
   "cell_type": "code",
   "execution_count": 29,
   "id": "010980ee-21a4-4217-8fdf-e2c842820d72",
   "metadata": {},
   "outputs": [
    {
     "name": "stdout",
     "output_type": "stream",
     "text": [
      "Pankaj kumar agarhari\n",
      "I love india\n"
     ]
    }
   ],
   "source": [
    "#String built in methods\n",
    "#captialize() Method-str.capitalze()\n",
    "str1=\"pankaj kumar agarhari\"\n",
    "print(str1.capitalize())\n",
    "str2=\"i love India\"\n",
    "print(str2.capitalize())"
   ]
  },
  {
   "cell_type": "code",
   "execution_count": 32,
   "id": "197a9751-a90b-4fa7-a966-b633217ee29f",
   "metadata": {},
   "outputs": [
    {
     "name": "stdout",
     "output_type": "stream",
     "text": [
      "False\n",
      "True\n",
      "False\n"
     ]
    }
   ],
   "source": [
    "#isdigit() method-str.isdigit()\n",
    "str1=\"Python\"\n",
    "print(str1.isdigit())\n",
    "str2=\"12345\"\n",
    "print(str2.isdigit())\n",
    "str3=\"Hello1234\"\n",
    "print(str3.isdigit())"
   ]
  },
  {
   "cell_type": "code",
   "execution_count": 35,
   "id": "5e5fae23-f93b-452d-8376-f8abe8919a38",
   "metadata": {},
   "outputs": [
    {
     "name": "stdout",
     "output_type": "stream",
     "text": [
      "False\n",
      "True\n",
      "False\n"
     ]
    }
   ],
   "source": [
    "#islower method-str.islower()\n",
    "PyStr=\"PYTHON\"\n",
    "print(PyStr.islower())\n",
    "str1=\"python\"\n",
    "print(str1.islower())\n",
    "str2=\"Indian are secularist\"\n",
    "print(str2.islower())"
   ]
  },
  {
   "cell_type": "code",
   "execution_count": 36,
   "id": "1dde94f9-bb0c-4cce-9589-5e0984340e17",
   "metadata": {},
   "outputs": [
    {
     "name": "stdout",
     "output_type": "stream",
     "text": [
      "6\n"
     ]
    }
   ],
   "source": [
    "#len() function-len(str)\n",
    "str1=\"Python\"\n",
    "print(len(str1))"
   ]
  },
  {
   "cell_type": "code",
   "execution_count": 39,
   "id": "d1393ff6-d4bb-4770-857e-fe815cacb869",
   "metadata": {},
   "outputs": [
    {
     "name": "stdout",
     "output_type": "stream",
     "text": [
      "H*E*L*L*O\n"
     ]
    }
   ],
   "source": [
    "#Joining of the string\n",
    "#join() method- str.join(iterable)\n",
    "\n",
    "PyList=[\"H\",\"E\",\"L\",\"L\",\"O\"]\n",
    "Sep=\"*\"\n",
    "print(Sep.join(PyList))\n"
   ]
  },
  {
   "cell_type": "code",
   "execution_count": 41,
   "id": "ab628873-f206-44c3-8692-d76f29678ca7",
   "metadata": {},
   "outputs": [
    {
     "name": "stdout",
     "output_type": "stream",
     "text": [
      "e\n",
      "e\n"
     ]
    }
   ],
   "source": [
    "#string max function\n",
    "#max(str)\n",
    "str1=\"abcde\"\n",
    "print(max(str1))\n",
    "str2=\"ababababcdea\"\n",
    "print(max(str2))"
   ]
  },
  {
   "cell_type": "code",
   "execution_count": 45,
   "id": "70a716b7-6f79-4960-8ccf-30ac9a31ca1d",
   "metadata": {},
   "outputs": [
    {
     "name": "stdout",
     "output_type": "stream",
     "text": [
      "hello how are U\n",
      "hello how was you\n"
     ]
    }
   ],
   "source": [
    "#Python string replace method\n",
    "#str.replace(old,new[,count])\n",
    "str1=\"hello how are you\"\n",
    "print(str1.replace(\"you\",\"U\"))\n",
    "print(str1.replace(\"are\",\"was\",3))"
   ]
  },
  {
   "cell_type": "code",
   "execution_count": 46,
   "id": "bf053f51-3385-49b3-8c32-2946bc1779e9",
   "metadata": {},
   "outputs": [
    {
     "name": "stdout",
     "output_type": "stream",
     "text": [
      "Python Is Powerful\n"
     ]
    }
   ],
   "source": [
    "#title() method\n",
    "#str.title()\n",
    "str1=\"Python is powerful\"\n",
    "print(str1.title())"
   ]
  },
  {
   "cell_type": "code",
   "execution_count": 48,
   "id": "6136b08d-bdcb-4f0a-aebc-30a94072fc31",
   "metadata": {},
   "outputs": [
    {
     "name": "stdout",
     "output_type": "stream",
     "text": [
      "00Python\n",
      "0000Python\n",
      "000000Python\n"
     ]
    }
   ],
   "source": [
    "#zfill() method\n",
    "#str.zfill(width)\n",
    "str=\"Python\"\n",
    "print(str.zfill(8))\n",
    "print(str.zfill(10))\n",
    "print(str.zfill(12))"
   ]
  },
  {
   "cell_type": "code",
   "execution_count": 50,
   "id": "37cc42f2-df4c-4b3c-807c-040afc7b3ff5",
   "metadata": {},
   "outputs": [
    {
     "name": "stdout",
     "output_type": "stream",
     "text": [
      "#####Python\n",
      "Python#####\n",
      "###Python##\n"
     ]
    }
   ],
   "source": [
    "#str.isalnum()-checks whether string consists alpha num\n",
    "#string.rjust(length,fillchar)\n",
    "#string.ljust(length,fillchar)\n",
    "#center(lenght,fillchar)\n",
    "\n",
    "PyStr=\"Python\"\n",
    "length=11;fillchar=\"#\"\n",
    "print(PyStr.rjust(length,fillchar))\n",
    "print(PyStr.ljust(length,fillchar))\n",
    "print(PyStr.center(length,fillchar))"
   ]
  },
  {
   "cell_type": "code",
   "execution_count": 52,
   "id": "ec5e2e01-9463-4243-9a1f-283b69a9bb81",
   "metadata": {},
   "outputs": [
    {
     "name": "stdout",
     "output_type": "stream",
     "text": [
      "    Data is the new oil in 21st centuary\n",
      "Data is the new oil in 21st centuary  \n",
      "Data is the new oil in 21st centuary\n"
     ]
    }
   ],
   "source": [
    "#Removing spaces from string\n",
    "#rstrip()-removes character from the right based on the arguement\n",
    "#lstrip()-removes character from the left based on the arguement\n",
    "#strip()- removes all leading and trailing spaces from the string\n",
    "\n",
    "str=\"    Data is the new oil in 21st centuary  \"\n",
    "print(str.rstrip())\n",
    "print(str.lstrip())\n",
    "print(str.strip())\n"
   ]
  },
  {
   "cell_type": "code",
   "execution_count": null,
   "id": "b3f197af-7945-4dd7-ab54-352236f270ab",
   "metadata": {},
   "outputs": [],
   "source": []
  }
 ],
 "metadata": {
  "kernelspec": {
   "display_name": "Python 3 (ipykernel)",
   "language": "python",
   "name": "python3"
  },
  "language_info": {
   "codemirror_mode": {
    "name": "ipython",
    "version": 3
   },
   "file_extension": ".py",
   "mimetype": "text/x-python",
   "name": "python",
   "nbconvert_exporter": "python",
   "pygments_lexer": "ipython3",
   "version": "3.9.7"
  }
 },
 "nbformat": 4,
 "nbformat_minor": 5
}
