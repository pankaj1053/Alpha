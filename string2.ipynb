{
 "cells": [
  {
   "cell_type": "code",
   "execution_count": 3,
   "id": "930289ec-72f4-41c6-93ee-734785a0bf2f",
   "metadata": {},
   "outputs": [
    {
     "name": "stdout",
     "output_type": "stream",
     "text": [
      "False\n",
      "False\n",
      "True\n"
     ]
    }
   ],
   "source": [
    "#isspace()-true-if there are only white case characters. False-if not\\\n",
    "#string.isspace()\n",
    "str1=\"Pyhton\"\n",
    "print(str1.isspace())\n",
    "str2='python is '\n",
    "print(str2.isspace())\n",
    "str3=' '\n",
    "print(str3.isspace())"
   ]
  },
  {
   "cell_type": "code",
   "execution_count": 5,
   "id": "950167b2-b765-441a-bff3-9be0bad46438",
   "metadata": {},
   "outputs": [
    {
     "name": "stdout",
     "output_type": "stream",
     "text": [
      "True\n",
      "True\n"
     ]
    }
   ],
   "source": [
    "str4='\\t\\t'\n",
    "print(str4.isspace())\n",
    "str5='\\n'\n",
    "print(str5.isspace())"
   ]
  },
  {
   "cell_type": "code",
   "execution_count": 7,
   "id": "8412fcf8-5c5c-45eb-b58b-067a724b193c",
   "metadata": {},
   "outputs": [
    {
     "name": "stdout",
     "output_type": "stream",
     "text": [
      "True\n",
      "True\n",
      "True\n"
     ]
    }
   ],
   "source": [
    "#isprintable()-retuen true if all char in the string is printable or string is empty,if not them false\n",
    "#string.isprintable()\n",
    "PyStr='space is printable'\n",
    "print(PyStr.isprintable())\n",
    "str1='\\nNew line is printable'\n",
    "print(PyStr.isprintable())\n",
    "PyStr=''\n",
    "print(PyStr.isprintable())"
   ]
  },
  {
   "cell_type": "code",
   "execution_count": 10,
   "id": "f3a10867-6bb4-41e7-91a8-01ad3f706517",
   "metadata": {},
   "outputs": [
    {
     "name": "stdout",
     "output_type": "stream",
     "text": [
      "python is awesome\n",
      "my name is pankaj\n"
     ]
    }
   ],
   "source": [
    "#casefold()-convert string to casefold\n",
    "#string.casefold()\n",
    "str1='PYTHON IS AWESOME'\n",
    "print(str1.casefold())\n",
    "str2='My name is Pankaj'\n",
    "print(str2.casefold())"
   ]
  },
  {
   "cell_type": "code",
   "execution_count": 11,
   "id": "efa3331d-7ee3-4767-899c-dd76030a4ee5",
   "metadata": {},
   "outputs": [
    {
     "name": "stdout",
     "output_type": "stream",
     "text": [
      "THIS SHOULD ALL BE UPPERCASE\n",
      "this should all be lower case\n",
      "nothing AS SUCH\n"
     ]
    }
   ],
   "source": [
    "#Python string swapcase-upper case to lowercase and lower case to uppercase\n",
    "#string.swapcase()\n",
    "str1=\"this should all be uppercase\"\n",
    "str2='THIS SHOULD ALL BE LOWER CASE'\n",
    "str3='NOTHING as such'\n",
    "print(str1.swapcase())\n",
    "print(str2.swapcase())\n",
    "print(str3.swapcase())"
   ]
  },
  {
   "cell_type": "code",
   "execution_count": 14,
   "id": "5d8ee758-f630-454a-8886-d2815e0754f7",
   "metadata": {},
   "outputs": [
    {
     "name": "stdout",
     "output_type": "stream",
     "text": [
      "xyz 12345 abc\n"
     ]
    }
   ],
   "source": [
    "#python string expendtabs()-returns a copy of all tab char with whitespaces\n",
    "#string.expandtabs(tabsize) #Default tab is 4-8 spaces\n",
    "str1='xyz\\t12345\\tabc'\n",
    "print(str1.expandtabs(1))"
   ]
  },
  {
   "cell_type": "code",
   "execution_count": 15,
   "id": "952c3568-de40-4a83-9b15-96db0f81df2e",
   "metadata": {},
   "outputs": [],
   "source": [
    "#finding substring\n",
    "#forward direction-find() and index()\n",
    "#backward direction-rfind() and rindex()"
   ]
  },
  {
   "cell_type": "code",
   "execution_count": 20,
   "id": "d568f68c-a567-44b7-8260-c62d528b8de4",
   "metadata": {},
   "outputs": [
    {
     "name": "stdout",
     "output_type": "stream",
     "text": [
      "9\n",
      "0\n",
      "17\n",
      "4\n",
      "23\n"
     ]
    }
   ],
   "source": [
    "#find()-return index of first occurence of the given string. If not available then will return -1\n",
    "#string.find(substring,begin,end)\n",
    "str1=\"Learning python is simpler\"\n",
    "print(str1.find('python'))\n",
    "print(str1.find('Learning'))\n",
    "print(str1.find('s'))\n",
    "print(str1.find('n',0,5))\n",
    "print(str1.find('l',4))"
   ]
  },
  {
   "cell_type": "code",
   "execution_count": 25,
   "id": "e516d5a6-de07-4fac-8b17-30f5806a2dc6",
   "metadata": {},
   "outputs": [
    {
     "name": "stdout",
     "output_type": "stream",
     "text": [
      "7\n",
      "14\n",
      "19\n"
     ]
    }
   ],
   "source": [
    "#index()-it returns the index of substring inside the string.If substring is not found then raises exception.\n",
    "#string.index(sub[,start[,end]])\n",
    "str1='python is the best language'\n",
    "print(str1.index('is the'))\n",
    "print(str1.index('best',13))\n",
    "print(str1.index('language',18,30))"
   ]
  },
  {
   "cell_type": "code",
   "execution_count": 28,
   "id": "03b52bd3-e21c-43d5-b700-4b801362f1db",
   "metadata": {},
   "outputs": [
    {
     "name": "stdout",
     "output_type": "stream",
     "text": [
      "3\n",
      "3\n",
      "1\n"
     ]
    }
   ],
   "source": [
    "#count()-return number of occurence of sub string in the given string\n",
    "#string.count(sub[,start[,end]])\n",
    "str1='python is awesome, yes or no'\n",
    "print(str1.count('e'))\n",
    "print(str1.count('e',10))\n",
    "print(str1.count('o',10,19))"
   ]
  },
  {
   "cell_type": "code",
   "execution_count": 36,
   "id": "d0cedd93-1bb4-46b3-939d-a07746abb1ee",
   "metadata": {},
   "outputs": [
    {
     "name": "stdout",
     "output_type": "stream",
     "text": [
      "True\n",
      "False\n",
      "True\n"
     ]
    }
   ],
   "source": [
    "#startswith()-returns true if string starts with specified prefix, if not then false\n",
    "#str.startswith(prefix[,start[,end]])\n",
    "pt1=\"python programming is easy\"\n",
    "print(pt1.startswith('programming is ',7))\n",
    "print(pt1.startswith('programming is ',5))\n",
    "print(pt1.startswith('programming is ',7,22))"
   ]
  },
  {
   "cell_type": "code",
   "execution_count": 39,
   "id": "d41879f6-63b9-4c14-8887-d2f068926534",
   "metadata": {},
   "outputs": [
    {
     "name": "stdout",
     "output_type": "stream",
     "text": [
      "['hello', 'my', 'name', 'is', 'pankaj', 'kumar']\n",
      "['hello my name is pankaj kumar']\n"
     ]
    }
   ],
   "source": [
    "#split()-splits a string into a list\n",
    "#string.split(seperator.max)\n",
    "str1='hello my name is pankaj kumar'\n",
    "print(str1.split(\" \"))\n",
    "print(str1.split(\"#\"))"
   ]
  },
  {
   "cell_type": "code",
   "execution_count": 42,
   "id": "67cdafbf-17ff-41bc-a9d9-169ca6fb89ed",
   "metadata": {},
   "outputs": [
    {
     "name": "stdout",
     "output_type": "stream",
     "text": [
      "['hello', 'my', 'name', 'is pankaj kumar']\n",
      "['hello', 'my', 'name@is pankaj kumar']\n"
     ]
    }
   ],
   "source": [
    "str1='hello@my@name@is pankaj kumar'\n",
    "print(str1.split(\"@\"))\n",
    "print(str1.split(\"@\",2))"
   ]
  },
  {
   "cell_type": "code",
   "execution_count": null,
   "id": "a7048fb5-5852-45f8-b478-dc121ac8df17",
   "metadata": {},
   "outputs": [],
   "source": []
  }
 ],
 "metadata": {
  "kernelspec": {
   "display_name": "Python 3 (ipykernel)",
   "language": "python",
   "name": "python3"
  },
  "language_info": {
   "codemirror_mode": {
    "name": "ipython",
    "version": 3
   },
   "file_extension": ".py",
   "mimetype": "text/x-python",
   "name": "python",
   "nbconvert_exporter": "python",
   "pygments_lexer": "ipython3",
   "version": "3.9.7"
  }
 },
 "nbformat": 4,
 "nbformat_minor": 5
}
