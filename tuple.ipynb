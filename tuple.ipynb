{
 "cells": [
  {
   "cell_type": "code",
   "execution_count": 1,
   "id": "7aedccdf-cb8d-44af-a24e-af2670ac3442",
   "metadata": {},
   "outputs": [],
   "source": [
    "#WORKING WITH PYTHON TUPLE DATA STRUCTURE\n",
    "#TUPLE IS READONLY LIST AND CANNOT BE MODIFIED. A TUPLE IS DEFINED USIN PARENTHESIS.\n",
    "##ADVANTAGE OF TUPLE OVER LIST##\n",
    "#TUPLE IS USED FOR HETROGENEOUS DATATYPE AND LIST FOR HOMOGENEOUS.\n",
    "#SINCE TUPLE ARE IMMUTABLE,HENCE ITERTAING THROUGH TUPLE IS FASTER THAN LIST.\n",
    "#TUPLE CAN BE USED AS A KEY FOR A DICTIONARY, WITH LIST IT IS NOT POSSIBLE.\n",
    "#MORE ABOUT TUPLE- CAN'T ADD ELEMENTS TO TUPLE, CAN'T REMOVE ELEMENTS FROM A TUPLE"
   ]
  },
  {
   "cell_type": "code",
   "execution_count": 2,
   "id": "230f3b4d-4a1e-44b4-af32-c9825190ece2",
   "metadata": {},
   "outputs": [
    {
     "name": "stdout",
     "output_type": "stream",
     "text": [
      "<class 'tuple'>\n",
      "()\n"
     ]
    }
   ],
   "source": [
    "#CREATE EMPTY TUPLE\n",
    "PyTuple=()\n",
    "print(type(PyTuple))\n",
    "print(PyTuple)"
   ]
  },
  {
   "cell_type": "code",
   "execution_count": 3,
   "id": "f541dc64-86fa-43c8-a03a-823bcb549e73",
   "metadata": {},
   "outputs": [
    {
     "name": "stdout",
     "output_type": "stream",
     "text": [
      "<class 'tuple'>\n",
      "(1, 2, 3)\n"
     ]
    }
   ],
   "source": [
    "#Creating tuple having integers\n",
    "PyTuple=(1,2,3)\n",
    "print(type(PyTuple))\n",
    "print(PyTuple)"
   ]
  },
  {
   "cell_type": "code",
   "execution_count": 4,
   "id": "8a3596b6-2dae-42de-ab49-f12704af5095",
   "metadata": {},
   "outputs": [
    {
     "name": "stdout",
     "output_type": "stream",
     "text": [
      "(1.1, 2.2, 3.3)\n"
     ]
    }
   ],
   "source": [
    "#Creaeting tuple having float value\n",
    "t1=(1.1,2.2,3.3)\n",
    "print(t1)"
   ]
  },
  {
   "cell_type": "code",
   "execution_count": 6,
   "id": "2665cfa0-ef6a-427e-9630-e906fa11984e",
   "metadata": {},
   "outputs": [
    {
     "name": "stdout",
     "output_type": "stream",
     "text": [
      "(1, 'data science', 2)\n"
     ]
    }
   ],
   "source": [
    "#Creating tuple having mix datatype\n",
    "t1=(1,'data science',2)\n",
    "print(t1)"
   ]
  },
  {
   "cell_type": "code",
   "execution_count": 7,
   "id": "2bb81e77-42ca-4f73-a3fa-6499f05f308e",
   "metadata": {},
   "outputs": [
    {
     "name": "stdout",
     "output_type": "stream",
     "text": [
      "('pankaj', 1, 2, 3, (4, 5, 56, 'Data Science'))\n"
     ]
    }
   ],
   "source": [
    "#Creating nested tuple\n",
    "t2=('pankaj',1,2,3,(4,5,56,'Data Science'))\n",
    "print(t2)"
   ]
  },
  {
   "cell_type": "code",
   "execution_count": 8,
   "id": "af86327e-294e-42df-a2c7-84523816fc75",
   "metadata": {},
   "outputs": [
    {
     "name": "stdout",
     "output_type": "stream",
     "text": [
      "<class 'tuple'>\n",
      "(1, 2, 3, 4, 'allo')\n"
     ]
    }
   ],
   "source": [
    "#Tuple packing\n",
    "#Creating tuple without parenthesis is also called tuple packing\n",
    "t1=1,2,3,4,\"allo\"\n",
    "print(type(t1))\n",
    "print(t1)"
   ]
  },
  {
   "cell_type": "code",
   "execution_count": 10,
   "id": "b74ce919-df5e-4592-9f72-6e6c9260b9f7",
   "metadata": {},
   "outputs": [
    {
     "ename": "ValueError",
     "evalue": "too many values to unpack (expected 2)",
     "output_type": "error",
     "traceback": [
      "\u001b[1;31m---------------------------------------------------------------------------\u001b[0m",
      "\u001b[1;31mValueError\u001b[0m                                Traceback (most recent call last)",
      "\u001b[1;32m~\\AppData\\Local\\Temp/ipykernel_10544/3079412390.py\u001b[0m in \u001b[0;36m<module>\u001b[1;34m\u001b[0m\n\u001b[0;32m      1\u001b[0m \u001b[1;31m#Tuple unpacking is also possible\u001b[0m\u001b[1;33m\u001b[0m\u001b[1;33m\u001b[0m\u001b[0m\n\u001b[1;32m----> 2\u001b[1;33m \u001b[0ma\u001b[0m\u001b[1;33m,\u001b[0m\u001b[0mb\u001b[0m\u001b[1;33m=\u001b[0m\u001b[0mt1\u001b[0m\u001b[1;33m\u001b[0m\u001b[1;33m\u001b[0m\u001b[0m\n\u001b[0m\u001b[0;32m      3\u001b[0m \u001b[0mprint\u001b[0m\u001b[1;33m(\u001b[0m\u001b[0ma\u001b[0m\u001b[1;33m)\u001b[0m\u001b[1;33m;\u001b[0m\u001b[0mprint\u001b[0m\u001b[1;33m(\u001b[0m\u001b[0mb\u001b[0m\u001b[1;33m)\u001b[0m\u001b[1;33m\u001b[0m\u001b[1;33m\u001b[0m\u001b[0m\n",
      "\u001b[1;31mValueError\u001b[0m: too many values to unpack (expected 2)"
     ]
    }
   ],
   "source": [
    "#Tuple unpacking is also possible\n",
    "a,b=t1\n",
    "print(a);print(b)"
   ]
  },
  {
   "cell_type": "code",
   "execution_count": 11,
   "id": "fd7272f5-cb67-41e7-8c06-c28f9b13b003",
   "metadata": {},
   "outputs": [
    {
     "name": "stdout",
     "output_type": "stream",
     "text": [
      "<class 'str'>\n",
      "Data Science\n"
     ]
    }
   ],
   "source": [
    "#Creating a tuple with one element is bit tricky.\n",
    "#Having one element with parenthesis is not enough.We will need a trailing comma to indicate that it is in fact a tuple.\n",
    "t1=(\"Data Science\")\n",
    "print(type(t1))\n",
    "print(t1)"
   ]
  },
  {
   "cell_type": "code",
   "execution_count": 14,
   "id": "f2f1a5a4-e3a7-446e-8543-ecf9fb91fd0d",
   "metadata": {},
   "outputs": [
    {
     "name": "stdout",
     "output_type": "stream",
     "text": [
      "<class 'tuple'>\n",
      "('Data Science',)\n"
     ]
    }
   ],
   "source": [
    "t1=(\"Data Science\",)\n",
    "print(type(t1))\n",
    "print(t1)"
   ]
  },
  {
   "cell_type": "code",
   "execution_count": 17,
   "id": "1c19de9a-cc37-4ef0-927f-6b1bc8382124",
   "metadata": {},
   "outputs": [
    {
     "name": "stdout",
     "output_type": "stream",
     "text": [
      "(1, [1, 2])\n",
      "<class 'tuple'>\n",
      "1\n",
      "[1, 2]\n",
      "2\n",
      "(1, [1, '4'])\n"
     ]
    }
   ],
   "source": [
    "#List inside tuple\n",
    "t1=(1,[1,2])\n",
    "print(t1)\n",
    "print(type(t1))\n",
    "print(t1[0])\n",
    "print(t1[1])\n",
    "print(t1[1][1])\n",
    "t1[1][1]='4'\n",
    "print(t1)"
   ]
  },
  {
   "cell_type": "code",
   "execution_count": 18,
   "id": "298fa196-529a-4f05-91e0-0a8623b64e86",
   "metadata": {},
   "outputs": [
    {
     "name": "stdout",
     "output_type": "stream",
     "text": [
      "<class 'tuple'>\n",
      "True\n",
      "True\n",
      "False\n"
     ]
    }
   ],
   "source": [
    "#tuple membership test\n",
    "#We can test if an item exist in a tuple or not,using the keyword in.\n",
    "t1=(1,2,3,[4,5])\n",
    "print(type(t1))\n",
    "print(1 in t1)\n",
    "print(10 not in t1)\n",
    "print(5 in t1)"
   ]
  },
  {
   "cell_type": "code",
   "execution_count": 19,
   "id": "3514ad8a-fb47-422f-8fa2-992eaf1a96ce",
   "metadata": {},
   "outputs": [
    {
     "name": "stdout",
     "output_type": "stream",
     "text": [
      "Hai kumar\n",
      "Hai pankaj\n",
      "Hai agrahari\n"
     ]
    }
   ],
   "source": [
    "#Iterating through a tuple\n",
    "#using a for loop we can iterate through each item in a tuple.\n",
    "for name in ('kumar','pankaj','agrahari'):\n",
    "    print('Hai',name)"
   ]
  },
  {
   "cell_type": "code",
   "execution_count": 20,
   "id": "d9bd9d52-0e46-4d96-af52-100d386aa183",
   "metadata": {},
   "outputs": [
    {
     "name": "stdout",
     "output_type": "stream",
     "text": [
      "(4, 5)\n",
      "(1, 2, 3, 4, 5, 6)\n",
      "(6, 7, 8, 9)\n",
      "(1, 2, 3, 4, 5, 6, 7, 8, 9)\n",
      "(2, 3, 4, 5)\n"
     ]
    }
   ],
   "source": [
    "#Slice a tuple\n",
    "#We can access a range of items in tuple by using the slicing operator-colon ':'\n",
    "t1=(1,2,3,4,5,6,7,8,9)\n",
    "print(t1[3:5])\n",
    "print(t1[:6])\n",
    "print(t1[5:])\n",
    "print(t1[:])\n",
    "print(t1[-8:-4])"
   ]
  },
  {
   "cell_type": "code",
   "execution_count": 21,
   "id": "c6796200-c891-4e9b-8e11-8f20e91e9eb4",
   "metadata": {},
   "outputs": [
    {
     "name": "stdout",
     "output_type": "stream",
     "text": [
      "('D', 'a', 't', 'a', ' ', 'S', 'c', 'i', 'e', 'n', 'c', 'e')\n",
      "('t', ' ', 'c', 'e')\n",
      "('D', ' ', 'e')\n",
      "('n', 'c', 'a')\n"
     ]
    }
   ],
   "source": [
    "#slice of a tuple using step parameter\n",
    "t1=tuple(\"Data Science\")\n",
    "print(t1)\n",
    "print(t1[2:9:2])\n",
    "print(t1[::4])\n",
    "print(t1[9:2:-3])"
   ]
  },
  {
   "cell_type": "code",
   "execution_count": 1,
   "id": "8e57832e-4b3d-40b5-92be-bec5af375ebd",
   "metadata": {},
   "outputs": [
    {
     "name": "stdout",
     "output_type": "stream",
     "text": [
      "(3, 4, 5, 6, 8, 'P', 'Y', 'T', 'H', 'O', 'N', True, False)\n"
     ]
    }
   ],
   "source": [
    "#How operator + and * are used with a Python tuple?\n",
    "t1=(3,4,5,6,8)\n",
    "t2=(\"P\",\"Y\",\"T\",\"H\",\"O\",\"N\")\n",
    "t3=(True, False)\n",
    "t4=t1+t2+t3\n",
    "print(t4)"
   ]
  },
  {
   "cell_type": "code",
   "execution_count": 2,
   "id": "709bfa92-22d5-4977-a149-0e77808541e9",
   "metadata": {},
   "outputs": [
    {
     "name": "stdout",
     "output_type": "stream",
     "text": [
      "(5, 5, 5, 5, 5)\n"
     ]
    }
   ],
   "source": [
    "t5=5,\n",
    "print(t5*5)"
   ]
  },
  {
   "cell_type": "code",
   "execution_count": 3,
   "id": "d1bd18ce-61f8-4195-86e6-cded3c7457c4",
   "metadata": {},
   "outputs": [
    {
     "name": "stdout",
     "output_type": "stream",
     "text": [
      "4\n",
      "1\n",
      "2\n"
     ]
    }
   ],
   "source": [
    "#Python tuple method\n",
    "#count()-return the number of items\n",
    "#index()-return index of first item\n",
    "#In python how to know the number of times an item has been repeated\n",
    "t1=(1,2,3,4,5,2,3,2,3,5,6,65,4,43,22,1,1,1)\n",
    "print(t1.count(1))\n",
    "print(t1.count(6))\n",
    "print(t1.count(5))"
   ]
  },
  {
   "cell_type": "code",
   "execution_count": 5,
   "id": "ca237869-31fc-4b23-b04a-28a3be6d242d",
   "metadata": {},
   "outputs": [
    {
     "name": "stdout",
     "output_type": "stream",
     "text": [
      "1\n"
     ]
    }
   ],
   "source": [
    "#find the index of an item of the tuple\n",
    "t1=1,2,43,4,6,5\n",
    "print(t1.index(2))"
   ]
  },
  {
   "cell_type": "code",
   "execution_count": 7,
   "id": "7540b3e9-2f94-4c2b-af85-1fb37d410d3e",
   "metadata": {},
   "outputs": [
    {
     "name": "stdout",
     "output_type": "stream",
     "text": [
      "(1, 2, 3, 4, 5)\n",
      "(1, 2, 3, 4, 5, 6)\n"
     ]
    }
   ],
   "source": [
    "#Add item in tuple\n",
    "t1=1,2,3,4,5\n",
    "print(t1)\n",
    "t2=t1+(6,)\n",
    "print(t2)"
   ]
  },
  {
   "cell_type": "code",
   "execution_count": 8,
   "id": "e6afdd14-0d60-4a43-8ec2-56444137c821",
   "metadata": {},
   "outputs": [
    {
     "name": "stdout",
     "output_type": "stream",
     "text": [
      "6\n",
      "10\n"
     ]
    }
   ],
   "source": [
    "t1=tuple('Index value')\n",
    "print(t1.index('v'))\n",
    "print(t1.index('e',5))"
   ]
  },
  {
   "cell_type": "code",
   "execution_count": 9,
   "id": "56d721ac-05bc-412f-b010-1e1f616b6870",
   "metadata": {},
   "outputs": [
    {
     "name": "stdout",
     "output_type": "stream",
     "text": [
      "(4, 3, 2, 3, 45)\n",
      "\n"
     ]
    }
   ],
   "source": [
    "#mtd2- add item in tuple\n",
    "t1=(4,3,2,3,45)\n",
    "print(t1)\n",
    "lx=list(t1)\n",
    "lx.append(333)\n",
    "t1=tuple(lx)\n",
    "print()"
   ]
  },
  {
   "cell_type": "code",
   "execution_count": 11,
   "id": "a50f8679-f6ca-4a5d-866b-66f059fd9a91",
   "metadata": {},
   "outputs": [
    {
     "ename": "AttributeError",
     "evalue": "'tuple' object has no attribute 'append'",
     "output_type": "error",
     "traceback": [
      "\u001b[1;31m---------------------------------------------------------------------------\u001b[0m",
      "\u001b[1;31mAttributeError\u001b[0m                            Traceback (most recent call last)",
      "\u001b[1;32m~\\AppData\\Local\\Temp/ipykernel_5056/2592837401.py\u001b[0m in \u001b[0;36m<module>\u001b[1;34m\u001b[0m\n\u001b[0;32m      1\u001b[0m \u001b[0mt2\u001b[0m\u001b[1;33m=\u001b[0m\u001b[1;33m(\u001b[0m\u001b[1;36m23\u001b[0m\u001b[1;33m,\u001b[0m\u001b[1;36m44\u001b[0m\u001b[1;33m,\u001b[0m\u001b[1;36m55\u001b[0m\u001b[1;33m,\u001b[0m\u001b[1;36m6\u001b[0m\u001b[1;33m,\u001b[0m\u001b[1;36m6\u001b[0m\u001b[1;33m)\u001b[0m\u001b[1;33m\u001b[0m\u001b[1;33m\u001b[0m\u001b[0m\n\u001b[1;32m----> 2\u001b[1;33m \u001b[0mt2\u001b[0m\u001b[1;33m.\u001b[0m\u001b[0mappend\u001b[0m\u001b[1;33m(\u001b[0m\u001b[1;33m(\u001b[0m\u001b[1;36m2\u001b[0m\u001b[1;33m,\u001b[0m\u001b[1;36m3\u001b[0m\u001b[1;33m,\u001b[0m\u001b[1;36m4\u001b[0m\u001b[1;33m)\u001b[0m\u001b[1;33m)\u001b[0m\u001b[1;33m\u001b[0m\u001b[1;33m\u001b[0m\u001b[0m\n\u001b[0m\u001b[0;32m      3\u001b[0m \u001b[0mprint\u001b[0m\u001b[1;33m(\u001b[0m\u001b[0mlen\u001b[0m\u001b[1;33m(\u001b[0m\u001b[0mt2\u001b[0m\u001b[1;33m)\u001b[0m\u001b[1;33m)\u001b[0m\u001b[1;33m\u001b[0m\u001b[1;33m\u001b[0m\u001b[0m\n",
      "\u001b[1;31mAttributeError\u001b[0m: 'tuple' object has no attribute 'append'"
     ]
    }
   ],
   "source": [
    "t2=(23,44,55,6,6)\n",
    "t2.append((2,3,4))\n",
    "print(len(t2))"
   ]
  },
  {
   "cell_type": "code",
   "execution_count": 12,
   "id": "73c23fc0-c08f-4e95-9ac0-480e28c0e449",
   "metadata": {},
   "outputs": [
    {
     "ename": "NameError",
     "evalue": "name 't1' is not defined",
     "output_type": "error",
     "traceback": [
      "\u001b[1;31m---------------------------------------------------------------------------\u001b[0m",
      "\u001b[1;31mNameError\u001b[0m                                 Traceback (most recent call last)",
      "\u001b[1;32m~\\AppData\\Local\\Temp/ipykernel_5056/2259885360.py\u001b[0m in \u001b[0;36m<module>\u001b[1;34m\u001b[0m\n\u001b[0;32m      4\u001b[0m \u001b[0mt1\u001b[0m\u001b[1;33m=\u001b[0m\u001b[1;36m1\u001b[0m\u001b[1;33m,\u001b[0m\u001b[1;36m1\u001b[0m\u001b[1;33m,\u001b[0m\u001b[1;36m12\u001b[0m\u001b[1;33m,\u001b[0m\u001b[1;36m3\u001b[0m\u001b[1;33m,\u001b[0m\u001b[1;36m4\u001b[0m\u001b[1;33m,\u001b[0m\u001b[1;36m4\u001b[0m\u001b[1;33m,\u001b[0m\u001b[1;36m4\u001b[0m\u001b[1;33m\u001b[0m\u001b[1;33m\u001b[0m\u001b[0m\n\u001b[0;32m      5\u001b[0m \u001b[1;32mdel\u001b[0m \u001b[0mt1\u001b[0m\u001b[1;33m\u001b[0m\u001b[1;33m\u001b[0m\u001b[0m\n\u001b[1;32m----> 6\u001b[1;33m \u001b[0mprint\u001b[0m\u001b[1;33m(\u001b[0m\u001b[0mt1\u001b[0m\u001b[1;33m)\u001b[0m\u001b[1;33m\u001b[0m\u001b[1;33m\u001b[0m\u001b[0m\n\u001b[0m",
      "\u001b[1;31mNameError\u001b[0m: name 't1' is not defined"
     ]
    }
   ],
   "source": [
    "#Deletion of tuple\n",
    "#we cannot change the elements in tuple.That also means we cannot delete or removes items from a tuple.\n",
    "#but deleting a tuple entirely is possible using te keyword del.\n",
    "t1=(1,1,12,3,4,4,4)\n",
    "del t1\n",
    "print(t1)"
   ]
  },
  {
   "cell_type": "code",
   "execution_count": 14,
   "id": "e6807a2c-ecea-4bc6-ad7e-ee97b560fd8d",
   "metadata": {},
   "outputs": [
    {
     "name": "stdout",
     "output_type": "stream",
     "text": [
      "(1, 2, 4, 5, 6)\n"
     ]
    }
   ],
   "source": [
    "#remove an item from a tuple through list\n",
    "t1=(1,2,3,4,5,6)\n",
    "l1=list(t1)\n",
    "l1.remove(3)\n",
    "t1=tuple(l1)\n",
    "print(t1)"
   ]
  },
  {
   "cell_type": "code",
   "execution_count": 15,
   "id": "fa18668d-b3f5-4cda-9b74-fa7429f83735",
   "metadata": {},
   "outputs": [],
   "source": [
    "#Built in functions with tuple\n",
    "#all(),any(),enumerate(),len(),max(),min(),sorted(),sum()"
   ]
  },
  {
   "cell_type": "code",
   "execution_count": 16,
   "id": "95e64614-91fb-406b-8f68-33efe54e2e22",
   "metadata": {},
   "outputs": [
    {
     "name": "stdout",
     "output_type": "stream",
     "text": [
      "<class 'enumerate'>\n",
      "((10, 'pankaj'), (11, 'annu'), (12, 'sushma'))\n"
     ]
    }
   ],
   "source": [
    "#Pyhton emumerate()\n",
    "#enumerate(iterable,start=0)\n",
    "t1=('pankaj','annu','sushma')\n",
    "enumerateData=enumerate(t1)\n",
    "print(type(enumerateData))\n",
    "enumerateData=enumerate(t1,10)\n",
    "print(tuple(enumerateData))"
   ]
  },
  {
   "cell_type": "code",
   "execution_count": 18,
   "id": "d028fb58-9765-4618-b0c7-a24dae208584",
   "metadata": {},
   "outputs": [
    {
     "name": "stdout",
     "output_type": "stream",
     "text": [
      "(0, 'science')\n",
      "(1, 'art')\n",
      "(2, 'commerce')\n"
     ]
    }
   ],
   "source": [
    "t1=('science','art','commerce')\n",
    "for item in enumerate(t1):\n",
    "    print(item)"
   ]
  },
  {
   "cell_type": "code",
   "execution_count": 19,
   "id": "abec9d3b-7f14-41c2-9da9-94e4139ad8ac",
   "metadata": {},
   "outputs": [
    {
     "name": "stdout",
     "output_type": "stream",
     "text": [
      "100 science\n",
      "101 art\n",
      "102 commerce\n"
     ]
    }
   ],
   "source": [
    "for count,item in enumerate(t1,100):\n",
    "    print(count,item)"
   ]
  },
  {
   "cell_type": "code",
   "execution_count": 3,
   "id": "3e4bba8d-fe0a-44cb-8246-2f716eed54f6",
   "metadata": {},
   "outputs": [
    {
     "name": "stdout",
     "output_type": "stream",
     "text": [
      "True\n",
      "False\n"
     ]
    }
   ],
   "source": [
    "#all() function-returns true when all elelments in the given iterable are true.IF not,it return false.\n",
    "#all(iterable)\n",
    "t1=(1,2,3,4)\n",
    "print(all(t1))\n",
    "s=(0,False)\n",
    "print(all(s))"
   ]
  },
  {
   "cell_type": "code",
   "execution_count": 4,
   "id": "8cbeb7e6-27c3-4bc1-ab84-f7388cfb31ca",
   "metadata": {},
   "outputs": [
    {
     "name": "stdout",
     "output_type": "stream",
     "text": [
      "False\n"
     ]
    }
   ],
   "source": [
    "s=[0.,False,5]\n",
    "print(all(s))"
   ]
  },
  {
   "cell_type": "code",
   "execution_count": 5,
   "id": "bae51c94-04fa-4306-af9c-56f844840d59",
   "metadata": {},
   "outputs": [
    {
     "name": "stdout",
     "output_type": "stream",
     "text": [
      "True\n"
     ]
    }
   ],
   "source": [
    "s=[]\n",
    "print(all(s))"
   ]
  },
  {
   "cell_type": "code",
   "execution_count": 6,
   "id": "fd5f03f9-a7b7-4127-980b-d8fa3af46ef8",
   "metadata": {},
   "outputs": [
    {
     "name": "stdout",
     "output_type": "stream",
     "text": [
      "True\n"
     ]
    }
   ],
   "source": [
    "#any()-return true if any element of an iterbale is true.If not this method return false\n",
    "#any(iterable)\n",
    "s=(1,2,3,0)\n",
    "print(any(s))"
   ]
  },
  {
   "cell_type": "code",
   "execution_count": 7,
   "id": "85675281-a774-4354-ac52-d1da49db01f6",
   "metadata": {},
   "outputs": [
    {
     "name": "stdout",
     "output_type": "stream",
     "text": [
      "False\n"
     ]
    }
   ],
   "source": [
    "s=(0,False)\n",
    "print(any(s))"
   ]
  },
  {
   "cell_type": "code",
   "execution_count": 8,
   "id": "5820b8fe-93fb-4df0-aca1-be9151f0eec1",
   "metadata": {},
   "outputs": [
    {
     "name": "stdout",
     "output_type": "stream",
     "text": [
      "True\n"
     ]
    }
   ],
   "source": [
    "s=[0,False,5]\n",
    "print(any(s))"
   ]
  },
  {
   "cell_type": "code",
   "execution_count": 13,
   "id": "aa66dd1b-af38-4bb2-9987-6eceb468527c",
   "metadata": {},
   "outputs": [
    {
     "name": "stdout",
     "output_type": "stream",
     "text": [
      "['v', 'r', 'e', 'd']\n"
     ]
    }
   ],
   "source": [
    "#sorted()-sorts element as per sepcific order\n",
    "#sorted(iterable[,reverse])\n",
    "l1=['e','d','r','v']\n",
    "print(sorted(l1,reverse=True))"
   ]
  },
  {
   "cell_type": "code",
   "execution_count": 15,
   "id": "b9db206e-2a6e-4c2b-93c9-1f51f62199ab",
   "metadata": {},
   "outputs": [
    {
     "name": "stdout",
     "output_type": "stream",
     "text": [
      "['p', 'n', 'k', 'j', 'a', 'a']\n"
     ]
    }
   ],
   "source": [
    "s1='pankaj'\n",
    "print(sorted(s1,reverse=True))"
   ]
  },
  {
   "cell_type": "code",
   "execution_count": 20,
   "id": "9eca3e6d-a982-449e-9619-1bc523f011c5",
   "metadata": {},
   "outputs": [
    {
     "name": "stdout",
     "output_type": "stream",
     "text": [
      "15\n"
     ]
    }
   ],
   "source": [
    "#sum()- adds items of an iterable and returns sum.\n",
    "#sum(iterable)\n",
    "numbers=1,2,3,4,5\n",
    "numbers=sum(numbers)\n",
    "print(numbers)"
   ]
  },
  {
   "cell_type": "code",
   "execution_count": 21,
   "id": "216a8ebc-4b51-4500-8931-30298c245696",
   "metadata": {},
   "outputs": [
    {
     "name": "stdout",
     "output_type": "stream",
     "text": [
      "(1, 2, 3, 4)\n"
     ]
    }
   ],
   "source": [
    "#Python tuple() function\n",
    "t1=tuple([1,2,3,4])\n",
    "print(t1)"
   ]
  },
  {
   "cell_type": "code",
   "execution_count": 22,
   "id": "184d9834-b7ae-4d2a-a256-5f10885a3152",
   "metadata": {},
   "outputs": [
    {
     "name": "stdout",
     "output_type": "stream",
     "text": [
      "('p', 'a', 'n', 'k', 'a', 'j')\n"
     ]
    }
   ],
   "source": [
    "t1=tuple(\"pankaj\")\n",
    "print(t1)"
   ]
  },
  {
   "cell_type": "code",
   "execution_count": 23,
   "id": "86da3d5d-87d7-495d-8d89-be6665552e3a",
   "metadata": {},
   "outputs": [
    {
     "ename": "NameError",
     "evalue": "name 'cmp' is not defined",
     "output_type": "error",
     "traceback": [
      "\u001b[1;31m---------------------------------------------------------------------------\u001b[0m",
      "\u001b[1;31mNameError\u001b[0m                                 Traceback (most recent call last)",
      "\u001b[1;32m~\\AppData\\Local\\Temp/ipykernel_9476/1183101897.py\u001b[0m in \u001b[0;36m<module>\u001b[1;34m\u001b[0m\n\u001b[0;32m      5\u001b[0m \u001b[0mt2\u001b[0m\u001b[1;33m=\u001b[0m\u001b[1;33m(\u001b[0m\u001b[1;36m20\u001b[0m\u001b[1;33m,\u001b[0m\u001b[1;36m30\u001b[0m\u001b[1;33m,\u001b[0m\u001b[1;36m40\u001b[0m\u001b[1;33m)\u001b[0m\u001b[1;33m\u001b[0m\u001b[1;33m\u001b[0m\u001b[0m\n\u001b[0;32m      6\u001b[0m \u001b[0mt3\u001b[0m\u001b[1;33m=\u001b[0m\u001b[1;33m(\u001b[0m\u001b[1;36m20\u001b[0m\u001b[1;33m,\u001b[0m\u001b[1;36m10\u001b[0m\u001b[1;33m,\u001b[0m\u001b[1;36m30\u001b[0m\u001b[1;33m)\u001b[0m\u001b[1;33m\u001b[0m\u001b[1;33m\u001b[0m\u001b[0m\n\u001b[1;32m----> 7\u001b[1;33m \u001b[0mprint\u001b[0m\u001b[1;33m(\u001b[0m\u001b[0mcmp\u001b[0m\u001b[1;33m(\u001b[0m\u001b[0mt1\u001b[0m\u001b[1;33m,\u001b[0m\u001b[0mt2\u001b[0m\u001b[1;33m)\u001b[0m\u001b[1;33m)\u001b[0m\u001b[1;33m\u001b[0m\u001b[1;33m\u001b[0m\u001b[0m\n\u001b[0m\u001b[0;32m      8\u001b[0m \u001b[0mprint\u001b[0m\u001b[1;33m(\u001b[0m\u001b[0mcmp\u001b[0m\u001b[1;33m(\u001b[0m\u001b[0mt1\u001b[0m\u001b[1;33m,\u001b[0m\u001b[0mt3\u001b[0m\u001b[1;33m)\u001b[0m\u001b[1;33m)\u001b[0m\u001b[1;33m\u001b[0m\u001b[1;33m\u001b[0m\u001b[0m\n\u001b[0;32m      9\u001b[0m \u001b[0mprint\u001b[0m\u001b[1;33m(\u001b[0m\u001b[0mcmp\u001b[0m\u001b[1;33m(\u001b[0m\u001b[0mt2\u001b[0m\u001b[1;33m,\u001b[0m\u001b[0mt3\u001b[0m\u001b[1;33m)\u001b[0m\u001b[1;33m)\u001b[0m\u001b[1;33m\u001b[0m\u001b[1;33m\u001b[0m\u001b[0m\n",
      "\u001b[1;31mNameError\u001b[0m: name 'cmp' is not defined"
     ]
    }
   ],
   "source": [
    "#cmp()-compare elements of both the tuple\n",
    "#tuples are equal than returns 0.\n",
    "#if first<second,returns -1 if first>second then +1\n",
    "t1=(10,20,30)\n",
    "t2=(20,30,40)\n",
    "t3=(20,10,30)\n",
    "print(cmp(t1,t2))\n",
    "print(cmp(t1,t3))\n",
    "print(cmp(t2,t3))"
   ]
  },
  {
   "cell_type": "code",
   "execution_count": null,
   "id": "eac376f3-3ea1-4e52-bffe-cfd3fe223f50",
   "metadata": {},
   "outputs": [],
   "source": [
    "#cmp is removed from Python 3."
   ]
  }
 ],
 "metadata": {
  "kernelspec": {
   "display_name": "Python 3 (ipykernel)",
   "language": "python",
   "name": "python3"
  },
  "language_info": {
   "codemirror_mode": {
    "name": "ipython",
    "version": 3
   },
   "file_extension": ".py",
   "mimetype": "text/x-python",
   "name": "python",
   "nbconvert_exporter": "python",
   "pygments_lexer": "ipython3",
   "version": "3.9.7"
  }
 },
 "nbformat": 4,
 "nbformat_minor": 5
}
